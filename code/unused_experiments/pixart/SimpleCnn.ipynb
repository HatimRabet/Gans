{
 "cells": [
  {
   "cell_type": "code",
   "execution_count": 2,
   "metadata": {},
   "outputs": [],
   "source": [
    "from utils import (ConstructDataset, Generator, Discriminator)\n",
    "import random\n",
    "from torchvision import transforms\n",
    "import torchvision.transforms as transforms\n",
    "import torch\n",
    "import torch.optim as optim\n",
    "from torchmetrics.image.fid import FrechetInceptionDistance\n",
    "from tqdm.notebook import tqdm\n",
    "import numpy as np\n",
    "import matplotlib.pyplot as plt\n",
    "import time\n",
    "from torch.utils.data import DataLoader\n",
    "import matplotlib.pyplot as plt"
   ]
  },
  {
   "cell_type": "markdown",
   "metadata": {},
   "source": [
    "<strong> Building the dataset </strong>"
   ]
  },
  {
   "cell_type": "code",
   "execution_count": 3,
   "metadata": {},
   "outputs": [],
   "source": [
    "# Building the dataset\n",
    "\n",
    "image_dir = '../../data/pixel_art/images/images/'\n",
    "\n",
    "transform = transforms.Compose([\n",
    "    transforms.ToTensor(), # Transforming to tensor\n",
    "    transforms.Normalize((0.5,0.5,0.5),(0.5,0.5,0.5)) # Normalizing\n",
    "])\n",
    "\n",
    "\n",
    "\n",
    "images = ConstructDataset(image_dir, transform)"
   ]
  },
  {
   "cell_type": "markdown",
   "metadata": {},
   "source": [
    "<strong> Sampling an image from the dataset </strong>"
   ]
  },
  {
   "cell_type": "code",
   "execution_count": 4,
   "metadata": {},
   "outputs": [
    {
     "data": {
      "image/png": "[encoded data removed]",
      "text/plain": [
       "<Figure size 640x480 with 1 Axes>"
      ]
     },
     "metadata": {},
     "output_type": "display_data"
    }
   ],
   "source": [
    "# Plotting an example from  the dataset\n",
    "n = len(images)\n",
    "integer = random.randint(0,n)\n",
    "image = images[integer].numpy()*0.5 + 0.5\n",
    "\n",
    "# Plot the image\n",
    "plt.imshow(np.transpose(image, (1, 2, 0)))  \n",
    "plt.axis('off')  # Hide axes\n",
    "plt.title('Sample image')\n",
    "plt.show()\n"
   ]
  },
  {
   "cell_type": "markdown",
   "metadata": {},
   "source": [
    "<strong> Building the dataloader </strong>"
   ]
  },
  {
   "cell_type": "code",
   "execution_count": 5,
   "metadata": {},
   "outputs": [],
   "source": [
    "dataloader = DataLoader(images, batch_size=256)"
   ]
  },
  {
   "cell_type": "markdown",
   "metadata": {},
   "source": [
    "<strong> Building the models </strong>"
   ]
  },
  {
   "cell_type": "code",
   "execution_count": 6,
   "metadata": {},
   "outputs": [],
   "source": [
    "# Model's parameters\n",
    "latent_dim = 40\n",
    "channels_out = 3\n",
    "channels_in = 3\n",
    "\n",
    "# Intializing the models\n",
    "G = Generator(latent_dim, channels_out)\n",
    "D = Discriminator(channels_in)"
   ]
  },
  {
   "cell_type": "code",
   "execution_count": 7,
   "metadata": {},
   "outputs": [
    {
     "data": {
      "text/plain": [
       "torch.Size([1, 3, 16, 16])"
      ]
     },
     "execution_count": 7,
     "metadata": {},
     "output_type": "execute_result"
    }
   ],
   "source": [
    "images[0].unsqueeze(0).size()"
   ]
  },
  {
   "cell_type": "code",
   "execution_count": 8,
   "metadata": {},
   "outputs": [
    {
     "name": "stderr",
     "output_type": "stream",
     "text": [
      "Clipping input data to the valid range for imshow with RGB data ([0..1] for floats or [0..255] for integers).\n"
     ]
    },
    {
     "name": "stdout",
     "output_type": "stream",
     "text": [
      "torch.Size([1, 3, 16, 16])\n"
     ]
    },
    {
     "data": {
      "image/png": "[encoded data removed]",
      "text/plain": [
       "<Figure size 640x480 with 1 Axes>"
      ]
     },
     "metadata": {},
     "output_type": "display_data"
    }
   ],
   "source": [
    "sample_image = images[0].unsqueeze(0)\n",
    "noise_image = D(sample_image)\n",
    "\n",
    "# Generate random noise\n",
    "noise = torch.randn(1, latent_dim, 1, 1)  # Batch of 16 noise vectors\n",
    "\n",
    "# Generate images\n",
    "fake_images = G(noise)\n",
    "print(fake_images.size())\n",
    "\n",
    "# Plotting the image \n",
    "image_noise = fake_images.detach().numpy().reshape((3,16,16))*0.5 + 0.5\n",
    "\n",
    "plt.imshow(np.transpose(image_noise, (1, 2, 0)))\n",
    "plt.title(\"Sampling a generated image\")\n",
    "plt.show()"
   ]
  },
  {
   "cell_type": "markdown",
   "metadata": {},
   "source": [
    "<strong> Training loop </strong>"
   ]
  },
  {
   "cell_type": "code",
   "execution_count": 8,
   "metadata": {},
   "outputs": [
    {
     "data": {
      "application/vnd.jupyter.widget-view+json": {
       "model_id": "fa6a7714d21a491891e002371be11df5",
       "version_major": 2,
       "version_minor": 0
      },
      "text/plain": [
       "  0%|          | 0/300 [00:00<?, ?it/s]"
      ]
     },
     "metadata": {},
     "output_type": "display_data"
    },
    {
     "data": {
      "application/vnd.jupyter.widget-view+json": {
       "model_id": "70e84a018bf04a55bf355b33662cbfc0",
       "version_major": 2,
       "version_minor": 0
      },
      "text/plain": [
       "  0%|          | 0/4 [00:00<?, ?it/s]"
      ]
     },
     "metadata": {},
     "output_type": "display_data"
    },
    {
     "name": "stdout",
     "output_type": "stream",
     "text": [
      "Epoch [0/300] | Loss D: 0.693151593208313 | Loss G: 3.1443121433258057\n",
      "Epoch 1 duration :   30.13755750656128\n"
     ]
    },
    {
     "data": {
      "application/vnd.jupyter.widget-view+json": {
       "model_id": "44a53ca7d9db402bb468cf6491b896ec",
       "version_major": 2,
       "version_minor": 0
      },
      "text/plain": [
       "  0%|          | 0/4 [00:00<?, ?it/s]"
      ]
     },
     "metadata": {},
     "output_type": "display_data"
    },
    {
     "name": "stdout",
     "output_type": "stream",
     "text": [
      "Epoch [1/300] | Loss D: 0.019378662109375 | Loss G: 3.1443121433258057\n",
      "Epoch 2 duration :   4.582530498504639\n"
     ]
    },
    {
     "data": {
      "application/vnd.jupyter.widget-view+json": {
       "model_id": "27f1b621171f4cac92692b5b77c4c094",
       "version_major": 2,
       "version_minor": 0
      },
      "text/plain": [
       "  0%|          | 0/4 [00:00<?, ?it/s]"
      ]
     },
     "metadata": {},
     "output_type": "display_data"
    },
    {
     "name": "stdout",
     "output_type": "stream",
     "text": [
      "Epoch [2/300] | Loss D: 0.0005677276640199125 | Loss G: 3.1443121433258057\n",
      "Epoch 3 duration :   4.2151594161987305\n"
     ]
    },
    {
     "data": {
      "application/vnd.jupyter.widget-view+json": {
       "model_id": "a715ef344b5c4b15ac7d5f04fab0f116",
       "version_major": 2,
       "version_minor": 0
      },
      "text/plain": [
       "  0%|          | 0/4 [00:00<?, ?it/s]"
      ]
     },
     "metadata": {},
     "output_type": "display_data"
    },
    {
     "name": "stdout",
     "output_type": "stream",
     "text": [
      "Epoch [3/300] | Loss D: 5.568828105926514 | Loss G: 1.954835295677185\n",
      "Epoch 4 duration :   8.636917352676392\n"
     ]
    },
    {
     "data": {
      "application/vnd.jupyter.widget-view+json": {
       "model_id": "8990b6b56a204e66b7ee79721b14d089",
       "version_major": 2,
       "version_minor": 0
      },
      "text/plain": [
       "  0%|          | 0/4 [00:00<?, ?it/s]"
      ]
     },
     "metadata": {},
     "output_type": "display_data"
    },
    {
     "name": "stdout",
     "output_type": "stream",
     "text": [
      "Epoch [4/300] | Loss D: 0.0029002781957387924 | Loss G: 1.954835295677185\n",
      "Epoch 5 duration :   4.3490612506866455\n"
     ]
    },
    {
     "data": {
      "application/vnd.jupyter.widget-view+json": {
       "model_id": "7baa737e97ec405eb006ab5aa6be8612",
       "version_major": 2,
       "version_minor": 0
      },
      "text/plain": [
       "  0%|          | 0/4 [00:00<?, ?it/s]"
      ]
     },
     "metadata": {},
     "output_type": "display_data"
    },
    {
     "name": "stdout",
     "output_type": "stream",
     "text": [
      "Epoch [5/300] | Loss D: 0.006113794632256031 | Loss G: 1.954835295677185\n",
      "Epoch 6 duration :   4.471611976623535\n"
     ]
    },
    {
     "data": {
      "application/vnd.jupyter.widget-view+json": {
       "model_id": "f687e37988ff4b54966affd8b8530bf1",
       "version_major": 2,
       "version_minor": 0
      },
      "text/plain": [
       "  0%|          | 0/4 [00:00<?, ?it/s]"
      ]
     },
     "metadata": {},
     "output_type": "display_data"
    },
    {
     "name": "stdout",
     "output_type": "stream",
     "text": [
      "Epoch [6/300] | Loss D: 0.22285054624080658 | Loss G: 18.737768173217773\n",
      "Epoch 7 duration :   9.08980417251587\n"
     ]
    },
    {
     "data": {
      "application/vnd.jupyter.widget-view+json": {
       "model_id": "7cc79a9ead0b4a2887b448d336031ba5",
       "version_major": 2,
       "version_minor": 0
      },
      "text/plain": [
       "  0%|          | 0/4 [00:00<?, ?it/s]"
      ]
     },
     "metadata": {},
     "output_type": "display_data"
    },
    {
     "name": "stdout",
     "output_type": "stream",
     "text": [
      "Epoch [7/300] | Loss D: 0.28002357482910156 | Loss G: 18.737768173217773\n",
      "Epoch 8 duration :   4.32829213142395\n"
     ]
    },
    {
     "data": {
      "application/vnd.jupyter.widget-view+json": {
       "model_id": "db1bf7a5efba4da79c9ac6804a23f8e1",
       "version_major": 2,
       "version_minor": 0
      },
      "text/plain": [
       "  0%|          | 0/4 [00:00<?, ?it/s]"
      ]
     },
     "metadata": {},
     "output_type": "display_data"
    },
    {
     "name": "stdout",
     "output_type": "stream",
     "text": [
      "Epoch [8/300] | Loss D: 0.08528678864240646 | Loss G: 18.737768173217773\n",
      "Epoch 9 duration :   4.22412109375\n"
     ]
    },
    {
     "data": {
      "application/vnd.jupyter.widget-view+json": {
       "model_id": "1431a9c0ffd449c998a9cb0437d8c351",
       "version_major": 2,
       "version_minor": 0
      },
      "text/plain": [
       "  0%|          | 0/4 [00:00<?, ?it/s]"
      ]
     },
     "metadata": {},
     "output_type": "display_data"
    },
    {
     "name": "stdout",
     "output_type": "stream",
     "text": [
      "Epoch [9/300] | Loss D: 0.03584330901503563 | Loss G: 18.336320877075195\n",
      "Epoch 10 duration :   9.325165271759033\n"
     ]
    },
    {
     "data": {
      "application/vnd.jupyter.widget-view+json": {
       "model_id": "eef73c436012460ab83cc8b5a9cb3bf0",
       "version_major": 2,
       "version_minor": 0
      },
      "text/plain": [
       "  0%|          | 0/4 [00:00<?, ?it/s]"
      ]
     },
     "metadata": {},
     "output_type": "display_data"
    },
    {
     "name": "stdout",
     "output_type": "stream",
     "text": [
      "Epoch [10/300] | Loss D: 0.025922980159521103 | Loss G: 18.336320877075195\n",
      "Epoch 11 duration :   4.47017765045166\n"
     ]
    },
    {
     "data": {
      "application/vnd.jupyter.widget-view+json": {
       "model_id": "8e9b949364bb4691ab89f45a15317c52",
       "version_major": 2,
       "version_minor": 0
      },
      "text/plain": [
       "  0%|          | 0/4 [00:00<?, ?it/s]"
      ]
     },
     "metadata": {},
     "output_type": "display_data"
    },
    {
     "name": "stdout",
     "output_type": "stream",
     "text": [
      "Epoch [11/300] | Loss D: 0.02334991842508316 | Loss G: 18.336320877075195\n",
      "Epoch 12 duration :   4.528491735458374\n"
     ]
    },
    {
     "data": {
      "application/vnd.jupyter.widget-view+json": {
       "model_id": "5ba6e478bc784f4a8c1a103bd084bc8b",
       "version_major": 2,
       "version_minor": 0
      },
      "text/plain": [
       "  0%|          | 0/4 [00:00<?, ?it/s]"
      ]
     },
     "metadata": {},
     "output_type": "display_data"
    },
    {
     "name": "stdout",
     "output_type": "stream",
     "text": [
      "Epoch [12/300] | Loss D: 0.021425845101475716 | Loss G: 10.837652206420898\n",
      "Epoch 13 duration :   9.03580617904663\n"
     ]
    },
    {
     "data": {
      "application/vnd.jupyter.widget-view+json": {
       "model_id": "b8c49be2f4d8495b8a92c1fbb28c81a3",
       "version_major": 2,
       "version_minor": 0
      },
      "text/plain": [
       "  0%|          | 0/4 [00:00<?, ?it/s]"
      ]
     },
     "metadata": {},
     "output_type": "display_data"
    },
    {
     "name": "stdout",
     "output_type": "stream",
     "text": [
      "Epoch [13/300] | Loss D: 0.023373963311314583 | Loss G: 10.837652206420898\n",
      "Epoch 14 duration :   4.451963424682617\n"
     ]
    },
    {
     "data": {
      "application/vnd.jupyter.widget-view+json": {
       "model_id": "406fc48ad9df4cd187c2f9d20e7c3fa1",
       "version_major": 2,
       "version_minor": 0
      },
      "text/plain": [
       "  0%|          | 0/4 [00:00<?, ?it/s]"
      ]
     },
     "metadata": {},
     "output_type": "display_data"
    },
    {
     "name": "stdout",
     "output_type": "stream",
     "text": [
      "Epoch [14/300] | Loss D: 0.016114676371216774 | Loss G: 10.837652206420898\n",
      "Epoch 15 duration :   4.321991443634033\n"
     ]
    },
    {
     "data": {
      "application/vnd.jupyter.widget-view+json": {
       "model_id": "c574b916790844fc99b81d3e8a5afac5",
       "version_major": 2,
       "version_minor": 0
      },
      "text/plain": [
       "  0%|          | 0/4 [00:00<?, ?it/s]"
      ]
     },
     "metadata": {},
     "output_type": "display_data"
    },
    {
     "name": "stdout",
     "output_type": "stream",
     "text": [
      "Epoch [15/300] | Loss D: 1.0633556842803955 | Loss G: 2.0486607551574707\n",
      "Epoch 16 duration :   9.171838283538818\n"
     ]
    },
    {
     "data": {
      "application/vnd.jupyter.widget-view+json": {
       "model_id": "0facca7ca39447fe94f525ce0cea83ec",
       "version_major": 2,
       "version_minor": 0
      },
      "text/plain": [
       "  0%|          | 0/4 [00:00<?, ?it/s]"
      ]
     },
     "metadata": {},
     "output_type": "display_data"
    },
    {
     "name": "stdout",
     "output_type": "stream",
     "text": [
      "Epoch [16/300] | Loss D: 0.03951340168714523 | Loss G: 2.0486607551574707\n",
      "Epoch 17 duration :   4.346505641937256\n"
     ]
    },
    {
     "data": {
      "application/vnd.jupyter.widget-view+json": {
       "model_id": "de30993bfeda4e709eade040e60e0c0c",
       "version_major": 2,
       "version_minor": 0
      },
      "text/plain": [
       "  0%|          | 0/4 [00:00<?, ?it/s]"
      ]
     },
     "metadata": {},
     "output_type": "display_data"
    },
    {
     "name": "stdout",
     "output_type": "stream",
     "text": [
      "Epoch [17/300] | Loss D: 0.03180487081408501 | Loss G: 2.0486607551574707\n",
      "Epoch 18 duration :   4.277774333953857\n"
     ]
    },
    {
     "data": {
      "application/vnd.jupyter.widget-view+json": {
       "model_id": "83ade6ea6cb149b28f179883b607615e",
       "version_major": 2,
       "version_minor": 0
      },
      "text/plain": [
       "  0%|          | 0/4 [00:00<?, ?it/s]"
      ]
     },
     "metadata": {},
     "output_type": "display_data"
    },
    {
     "name": "stdout",
     "output_type": "stream",
     "text": [
      "Epoch [18/300] | Loss D: 0.04510254040360451 | Loss G: 13.902244567871094\n",
      "Epoch 19 duration :   9.187013626098633\n"
     ]
    },
    {
     "data": {
      "application/vnd.jupyter.widget-view+json": {
       "model_id": "5d355652f4704b06aaa151af86c17768",
       "version_major": 2,
       "version_minor": 0
      },
      "text/plain": [
       "  0%|          | 0/4 [00:00<?, ?it/s]"
      ]
     },
     "metadata": {},
     "output_type": "display_data"
    },
    {
     "name": "stdout",
     "output_type": "stream",
     "text": [
      "Epoch [19/300] | Loss D: 0.0533597394824028 | Loss G: 13.902244567871094\n",
      "Epoch 20 duration :   4.40400242805481\n"
     ]
    },
    {
     "data": {
      "application/vnd.jupyter.widget-view+json": {
       "model_id": "7015102f3df84aff9e32bad68e015655",
       "version_major": 2,
       "version_minor": 0
      },
      "text/plain": [
       "  0%|          | 0/4 [00:00<?, ?it/s]"
      ]
     },
     "metadata": {},
     "output_type": "display_data"
    },
    {
     "name": "stdout",
     "output_type": "stream",
     "text": [
      "Epoch [20/300] | Loss D: 0.06020057946443558 | Loss G: 13.902244567871094\n",
      "Epoch 21 duration :   4.1974711418151855\n"
     ]
    },
    {
     "data": {
      "application/vnd.jupyter.widget-view+json": {
       "model_id": "91fe1fa746774f0293489237035bfe4e",
       "version_major": 2,
       "version_minor": 0
      },
      "text/plain": [
       "  0%|          | 0/4 [00:00<?, ?it/s]"
      ]
     },
     "metadata": {},
     "output_type": "display_data"
    },
    {
     "name": "stdout",
     "output_type": "stream",
     "text": [
      "Epoch [21/300] | Loss D: 0.050565991550683975 | Loss G: 16.450708389282227\n",
      "Epoch 22 duration :   8.962284803390503\n"
     ]
    },
    {
     "data": {
      "application/vnd.jupyter.widget-view+json": {
       "model_id": "1315c4d1f7f84c1f97aed1e3fa8a6e7f",
       "version_major": 2,
       "version_minor": 0
      },
      "text/plain": [
       "  0%|          | 0/4 [00:00<?, ?it/s]"
      ]
     },
     "metadata": {},
     "output_type": "display_data"
    },
    {
     "name": "stdout",
     "output_type": "stream",
     "text": [
      "Epoch [22/300] | Loss D: 0.04005765914916992 | Loss G: 16.450708389282227\n",
      "Epoch 23 duration :   4.419599294662476\n"
     ]
    },
    {
     "data": {
      "application/vnd.jupyter.widget-view+json": {
       "model_id": "09a13c6833ae490ead11db192e9968fc",
       "version_major": 2,
       "version_minor": 0
      },
      "text/plain": [
       "  0%|          | 0/4 [00:00<?, ?it/s]"
      ]
     },
     "metadata": {},
     "output_type": "display_data"
    },
    {
     "name": "stdout",
     "output_type": "stream",
     "text": [
      "Epoch [23/300] | Loss D: 0.03075156733393669 | Loss G: 16.450708389282227\n",
      "Epoch 24 duration :   4.6801817417144775\n"
     ]
    },
    {
     "data": {
      "application/vnd.jupyter.widget-view+json": {
       "model_id": "f9a91019b43849c4b1f8897e2ed0a51f",
       "version_major": 2,
       "version_minor": 0
      },
      "text/plain": [
       "  0%|          | 0/4 [00:00<?, ?it/s]"
      ]
     },
     "metadata": {},
     "output_type": "display_data"
    },
    {
     "name": "stdout",
     "output_type": "stream",
     "text": [
      "Epoch [24/300] | Loss D: 0.02168898656964302 | Loss G: 17.049184799194336\n",
      "Epoch 25 duration :   8.89117956161499\n"
     ]
    },
    {
     "data": {
      "application/vnd.jupyter.widget-view+json": {
       "model_id": "d01cc4b0ddad4a31b6d2222cf8fe6c68",
       "version_major": 2,
       "version_minor": 0
      },
      "text/plain": [
       "  0%|          | 0/4 [00:00<?, ?it/s]"
      ]
     },
     "metadata": {},
     "output_type": "display_data"
    },
    {
     "name": "stdout",
     "output_type": "stream",
     "text": [
      "Epoch [25/300] | Loss D: 0.015580832958221436 | Loss G: 17.049184799194336\n",
      "Epoch 26 duration :   4.294351816177368\n"
     ]
    },
    {
     "data": {
      "application/vnd.jupyter.widget-view+json": {
       "model_id": "0496e601e03043b2a79bd4a0715f782b",
       "version_major": 2,
       "version_minor": 0
      },
      "text/plain": [
       "  0%|          | 0/4 [00:00<?, ?it/s]"
      ]
     },
     "metadata": {},
     "output_type": "display_data"
    },
    {
     "name": "stdout",
     "output_type": "stream",
     "text": [
      "Epoch [26/300] | Loss D: 0.01045450009405613 | Loss G: 17.049184799194336\n",
      "Epoch 27 duration :   4.322747707366943\n"
     ]
    },
    {
     "data": {
      "application/vnd.jupyter.widget-view+json": {
       "model_id": "2ee72f2ae41b430ebc99e55bad067456",
       "version_major": 2,
       "version_minor": 0
      },
      "text/plain": [
       "  0%|          | 0/4 [00:00<?, ?it/s]"
      ]
     },
     "metadata": {},
     "output_type": "display_data"
    },
    {
     "name": "stdout",
     "output_type": "stream",
     "text": [
      "Epoch [27/300] | Loss D: 0.0077361795119941235 | Loss G: 16.163742065429688\n",
      "Epoch 28 duration :   9.625407218933105\n"
     ]
    },
    {
     "data": {
      "application/vnd.jupyter.widget-view+json": {
       "model_id": "6e6f9e4b849244e198127ff873097b30",
       "version_major": 2,
       "version_minor": 0
      },
      "text/plain": [
       "  0%|          | 0/4 [00:00<?, ?it/s]"
      ]
     },
     "metadata": {},
     "output_type": "display_data"
    },
    {
     "name": "stdout",
     "output_type": "stream",
     "text": [
      "Epoch [28/300] | Loss D: 0.005890997126698494 | Loss G: 16.163742065429688\n",
      "Epoch 29 duration :   4.462979078292847\n"
     ]
    },
    {
     "data": {
      "application/vnd.jupyter.widget-view+json": {
       "model_id": "bfde15f6c5dd47cb9ecc2ecb39c8051e",
       "version_major": 2,
       "version_minor": 0
      },
      "text/plain": [
       "  0%|          | 0/4 [00:00<?, ?it/s]"
      ]
     },
     "metadata": {},
     "output_type": "display_data"
    },
    {
     "name": "stdout",
     "output_type": "stream",
     "text": [
      "Epoch [29/300] | Loss D: 0.004747967701405287 | Loss G: 16.163742065429688\n",
      "Epoch 30 duration :   4.454142808914185\n"
     ]
    },
    {
     "data": {
      "application/vnd.jupyter.widget-view+json": {
       "model_id": "1f1437417a9549cfaba451f20bc349c4",
       "version_major": 2,
       "version_minor": 0
      },
      "text/plain": [
       "  0%|          | 0/4 [00:00<?, ?it/s]"
      ]
     },
     "metadata": {},
     "output_type": "display_data"
    },
    {
     "name": "stdout",
     "output_type": "stream",
     "text": [
      "Epoch [30/300] | Loss D: 0.003199750790372491 | Loss G: 13.54712963104248\n",
      "Epoch 31 duration :   27.926586866378784\n"
     ]
    },
    {
     "data": {
      "application/vnd.jupyter.widget-view+json": {
       "model_id": "c6bef573fefb4c728f7dc87d192bfe91",
       "version_major": 2,
       "version_minor": 0
      },
      "text/plain": [
       "  0%|          | 0/4 [00:00<?, ?it/s]"
      ]
     },
     "metadata": {},
     "output_type": "display_data"
    },
    {
     "name": "stdout",
     "output_type": "stream",
     "text": [
      "Epoch [31/300] | Loss D: 0.0027969975490123034 | Loss G: 13.54712963104248\n",
      "Epoch 32 duration :   4.235938310623169\n"
     ]
    },
    {
     "data": {
      "application/vnd.jupyter.widget-view+json": {
       "model_id": "06b4f921c80941cfa875c0d5fe108318",
       "version_major": 2,
       "version_minor": 0
      },
      "text/plain": [
       "  0%|          | 0/4 [00:00<?, ?it/s]"
      ]
     },
     "metadata": {},
     "output_type": "display_data"
    },
    {
     "name": "stdout",
     "output_type": "stream",
     "text": [
      "Epoch [32/300] | Loss D: 0.0019250961486250162 | Loss G: 13.54712963104248\n",
      "Epoch 33 duration :   3.5759124755859375\n"
     ]
    },
    {
     "data": {
      "application/vnd.jupyter.widget-view+json": {
       "model_id": "1d736989b40444eba1812d34e29a8173",
       "version_major": 2,
       "version_minor": 0
      },
      "text/plain": [
       "  0%|          | 0/4 [00:00<?, ?it/s]"
      ]
     },
     "metadata": {},
     "output_type": "display_data"
    },
    {
     "name": "stdout",
     "output_type": "stream",
     "text": [
      "Epoch [33/300] | Loss D: 0.007911685854196548 | Loss G: 7.976467609405518\n",
      "Epoch 34 duration :   7.758288621902466\n"
     ]
    },
    {
     "data": {
      "application/vnd.jupyter.widget-view+json": {
       "model_id": "1017695ae82e4813a6c0ec2f74bd7a37",
       "version_major": 2,
       "version_minor": 0
      },
      "text/plain": [
       "  0%|          | 0/4 [00:00<?, ?it/s]"
      ]
     },
     "metadata": {},
     "output_type": "display_data"
    },
    {
     "name": "stdout",
     "output_type": "stream",
     "text": [
      "Epoch [34/300] | Loss D: 0.013793352991342545 | Loss G: 7.976467609405518\n",
      "Epoch 35 duration :   4.034325122833252\n"
     ]
    },
    {
     "data": {
      "application/vnd.jupyter.widget-view+json": {
       "model_id": "0ded16f5c77047bf95678bde79af3dc2",
       "version_major": 2,
       "version_minor": 0
      },
      "text/plain": [
       "  0%|          | 0/4 [00:00<?, ?it/s]"
      ]
     },
     "metadata": {},
     "output_type": "display_data"
    },
    {
     "name": "stdout",
     "output_type": "stream",
     "text": [
      "Epoch [35/300] | Loss D: 0.002274520229548216 | Loss G: 7.976467609405518\n",
      "Epoch 36 duration :   3.9193458557128906\n"
     ]
    },
    {
     "data": {
      "application/vnd.jupyter.widget-view+json": {
       "model_id": "cdd94ebc5a474ca0a8193722e9a73ecd",
       "version_major": 2,
       "version_minor": 0
      },
      "text/plain": [
       "  0%|          | 0/4 [00:00<?, ?it/s]"
      ]
     },
     "metadata": {},
     "output_type": "display_data"
    },
    {
     "name": "stdout",
     "output_type": "stream",
     "text": [
      "Epoch [36/300] | Loss D: 0.1013418436050415 | Loss G: 4.11627197265625\n",
      "Epoch 37 duration :   9.103994846343994\n"
     ]
    },
    {
     "data": {
      "application/vnd.jupyter.widget-view+json": {
       "model_id": "e6b653083f6042539bebe9a49e6fb980",
       "version_major": 2,
       "version_minor": 0
      },
      "text/plain": [
       "  0%|          | 0/4 [00:00<?, ?it/s]"
      ]
     },
     "metadata": {},
     "output_type": "display_data"
    },
    {
     "name": "stdout",
     "output_type": "stream",
     "text": [
      "Epoch [37/300] | Loss D: 0.019898904487490654 | Loss G: 4.11627197265625\n",
      "Epoch 38 duration :   4.2631847858428955\n"
     ]
    },
    {
     "data": {
      "application/vnd.jupyter.widget-view+json": {
       "model_id": "473bc782886446e586bf51545d1d5dbe",
       "version_major": 2,
       "version_minor": 0
      },
      "text/plain": [
       "  0%|          | 0/4 [00:00<?, ?it/s]"
      ]
     },
     "metadata": {},
     "output_type": "display_data"
    },
    {
     "name": "stdout",
     "output_type": "stream",
     "text": [
      "Epoch [38/300] | Loss D: 0.0010937098413705826 | Loss G: 4.11627197265625\n",
      "Epoch 39 duration :   3.6997227668762207\n"
     ]
    },
    {
     "data": {
      "application/vnd.jupyter.widget-view+json": {
       "model_id": "d89c5cb16191425d8d56eb3d502f2f2a",
       "version_major": 2,
       "version_minor": 0
      },
      "text/plain": [
       "  0%|          | 0/4 [00:00<?, ?it/s]"
      ]
     },
     "metadata": {},
     "output_type": "display_data"
    },
    {
     "name": "stdout",
     "output_type": "stream",
     "text": [
      "Epoch [39/300] | Loss D: 0.0017677036812528968 | Loss G: 9.520066261291504\n",
      "Epoch 40 duration :   7.291715621948242\n"
     ]
    },
    {
     "data": {
      "application/vnd.jupyter.widget-view+json": {
       "model_id": "3ea928c036b34ed3b445a0b41d19ea3e",
       "version_major": 2,
       "version_minor": 0
      },
      "text/plain": [
       "  0%|          | 0/4 [00:00<?, ?it/s]"
      ]
     },
     "metadata": {},
     "output_type": "display_data"
    },
    {
     "name": "stdout",
     "output_type": "stream",
     "text": [
      "Epoch [40/300] | Loss D: 0.0010396180441603065 | Loss G: 9.520066261291504\n",
      "Epoch 41 duration :   3.84321928024292\n"
     ]
    },
    {
     "data": {
      "application/vnd.jupyter.widget-view+json": {
       "model_id": "5a3694bcb4004998b2c672ccec1a27bb",
       "version_major": 2,
       "version_minor": 0
      },
      "text/plain": [
       "  0%|          | 0/4 [00:00<?, ?it/s]"
      ]
     },
     "metadata": {},
     "output_type": "display_data"
    },
    {
     "name": "stdout",
     "output_type": "stream",
     "text": [
      "Epoch [41/300] | Loss D: 0.0009242010419256985 | Loss G: 9.520066261291504\n",
      "Epoch 42 duration :   4.010882377624512\n"
     ]
    },
    {
     "data": {
      "application/vnd.jupyter.widget-view+json": {
       "model_id": "59fc03ff02dc464c82f36ab43faa504e",
       "version_major": 2,
       "version_minor": 0
      },
      "text/plain": [
       "  0%|          | 0/4 [00:00<?, ?it/s]"
      ]
     },
     "metadata": {},
     "output_type": "display_data"
    },
    {
     "name": "stdout",
     "output_type": "stream",
     "text": [
      "Epoch [42/300] | Loss D: 0.0014271480031311512 | Loss G: 14.036704063415527\n",
      "Epoch 43 duration :   8.527016878128052\n"
     ]
    },
    {
     "data": {
      "application/vnd.jupyter.widget-view+json": {
       "model_id": "3a346ec1b3944cd1acf6d8a1aff7be92",
       "version_major": 2,
       "version_minor": 0
      },
      "text/plain": [
       "  0%|          | 0/4 [00:00<?, ?it/s]"
      ]
     },
     "metadata": {},
     "output_type": "display_data"
    },
    {
     "name": "stdout",
     "output_type": "stream",
     "text": [
      "Epoch [43/300] | Loss D: 0.0007869252585805953 | Loss G: 14.036704063415527\n",
      "Epoch 44 duration :   3.979854106903076\n"
     ]
    },
    {
     "data": {
      "application/vnd.jupyter.widget-view+json": {
       "model_id": "c31a3d5168b840a1abf64ca751315aad",
       "version_major": 2,
       "version_minor": 0
      },
      "text/plain": [
       "  0%|          | 0/4 [00:00<?, ?it/s]"
      ]
     },
     "metadata": {},
     "output_type": "display_data"
    },
    {
     "name": "stdout",
     "output_type": "stream",
     "text": [
      "Epoch [44/300] | Loss D: 0.0014228650834411383 | Loss G: 14.036704063415527\n",
      "Epoch 45 duration :   4.025733709335327\n"
     ]
    },
    {
     "data": {
      "application/vnd.jupyter.widget-view+json": {
       "model_id": "927e9e22f26c46f5b6dd5b087ab959df",
       "version_major": 2,
       "version_minor": 0
      },
      "text/plain": [
       "  0%|          | 0/4 [00:00<?, ?it/s]"
      ]
     },
     "metadata": {},
     "output_type": "display_data"
    },
    {
     "name": "stdout",
     "output_type": "stream",
     "text": [
      "Epoch [45/300] | Loss D: 0.0012680651852861047 | Loss G: 17.52979278564453\n",
      "Epoch 46 duration :   8.306614875793457\n"
     ]
    },
    {
     "data": {
      "application/vnd.jupyter.widget-view+json": {
       "model_id": "6045499b9cf14b43a33f18efcf455698",
       "version_major": 2,
       "version_minor": 0
      },
      "text/plain": [
       "  0%|          | 0/4 [00:00<?, ?it/s]"
      ]
     },
     "metadata": {},
     "output_type": "display_data"
    },
    {
     "name": "stdout",
     "output_type": "stream",
     "text": [
      "Epoch [46/300] | Loss D: 0.002330707386136055 | Loss G: 17.52979278564453\n",
      "Epoch 47 duration :   4.113759517669678\n"
     ]
    },
    {
     "data": {
      "application/vnd.jupyter.widget-view+json": {
       "model_id": "b52a2a141d4b46a0b59ff5441273986c",
       "version_major": 2,
       "version_minor": 0
      },
      "text/plain": [
       "  0%|          | 0/4 [00:00<?, ?it/s]"
      ]
     },
     "metadata": {},
     "output_type": "display_data"
    },
    {
     "name": "stdout",
     "output_type": "stream",
     "text": [
      "Epoch [47/300] | Loss D: 0.0012436073739081621 | Loss G: 17.52979278564453\n",
      "Epoch 48 duration :   3.9109344482421875\n"
     ]
    },
    {
     "data": {
      "application/vnd.jupyter.widget-view+json": {
       "model_id": "f0280e2565d8465fb96fb904f71f9c7f",
       "version_major": 2,
       "version_minor": 0
      },
      "text/plain": [
       "  0%|          | 0/4 [00:00<?, ?it/s]"
      ]
     },
     "metadata": {},
     "output_type": "display_data"
    },
    {
     "name": "stdout",
     "output_type": "stream",
     "text": [
      "Epoch [48/300] | Loss D: 0.0014426959678530693 | Loss G: 20.581233978271484\n",
      "Epoch 49 duration :   8.476947546005249\n"
     ]
    },
    {
     "data": {
      "application/vnd.jupyter.widget-view+json": {
       "model_id": "191b03aa2e994362ba52d87f2b018ab5",
       "version_major": 2,
       "version_minor": 0
      },
      "text/plain": [
       "  0%|          | 0/4 [00:00<?, ?it/s]"
      ]
     },
     "metadata": {},
     "output_type": "display_data"
    },
    {
     "name": "stdout",
     "output_type": "stream",
     "text": [
      "Epoch [49/300] | Loss D: 0.0012473978567868471 | Loss G: 20.581233978271484\n",
      "Epoch 50 duration :   3.9108049869537354\n"
     ]
    },
    {
     "data": {
      "application/vnd.jupyter.widget-view+json": {
       "model_id": "f41decd65caa4760ab9683b3a8d3787e",
       "version_major": 2,
       "version_minor": 0
      },
      "text/plain": [
       "  0%|          | 0/4 [00:00<?, ?it/s]"
      ]
     },
     "metadata": {},
     "output_type": "display_data"
    },
    {
     "name": "stdout",
     "output_type": "stream",
     "text": [
      "Epoch [50/300] | Loss D: 0.0014599811984226108 | Loss G: 20.581233978271484\n",
      "Epoch 51 duration :   3.875711679458618\n"
     ]
    },
    {
     "data": {
      "application/vnd.jupyter.widget-view+json": {
       "model_id": "e5537cd80c4543f4a6c8fe2dd540a5b4",
       "version_major": 2,
       "version_minor": 0
      },
      "text/plain": [
       "  0%|          | 0/4 [00:00<?, ?it/s]"
      ]
     },
     "metadata": {},
     "output_type": "display_data"
    },
    {
     "name": "stdout",
     "output_type": "stream",
     "text": [
      "Epoch [51/300] | Loss D: 0.0014190839137881994 | Loss G: 23.263874053955078\n",
      "Epoch 52 duration :   8.158536195755005\n"
     ]
    },
    {
     "data": {
      "application/vnd.jupyter.widget-view+json": {
       "model_id": "ee375884fb664233bc3dde3027a3299a",
       "version_major": 2,
       "version_minor": 0
      },
      "text/plain": [
       "  0%|          | 0/4 [00:00<?, ?it/s]"
      ]
     },
     "metadata": {},
     "output_type": "display_data"
    },
    {
     "name": "stdout",
     "output_type": "stream",
     "text": [
      "Epoch [52/300] | Loss D: 0.0012626460520550609 | Loss G: 23.263874053955078\n",
      "Epoch 53 duration :   3.5498738288879395\n"
     ]
    },
    {
     "data": {
      "application/vnd.jupyter.widget-view+json": {
       "model_id": "9f4f9386e65c471ea2aa9ed8a7c1215d",
       "version_major": 2,
       "version_minor": 0
      },
      "text/plain": [
       "  0%|          | 0/4 [00:00<?, ?it/s]"
      ]
     },
     "metadata": {},
     "output_type": "display_data"
    },
    {
     "name": "stdout",
     "output_type": "stream",
     "text": [
      "Epoch [53/300] | Loss D: 0.0025518150068819523 | Loss G: 23.263874053955078\n",
      "Epoch 54 duration :   3.614091634750366\n"
     ]
    },
    {
     "data": {
      "application/vnd.jupyter.widget-view+json": {
       "model_id": "a0f2789829684f2290cccbb1047cc410",
       "version_major": 2,
       "version_minor": 0
      },
      "text/plain": [
       "  0%|          | 0/4 [00:00<?, ?it/s]"
      ]
     },
     "metadata": {},
     "output_type": "display_data"
    },
    {
     "name": "stdout",
     "output_type": "stream",
     "text": [
      "Epoch [54/300] | Loss D: 0.001502401428297162 | Loss G: 25.588211059570312\n",
      "Epoch 55 duration :   7.402836084365845\n"
     ]
    },
    {
     "data": {
      "application/vnd.jupyter.widget-view+json": {
       "model_id": "37a3032cc55648a09cd60042263e8acf",
       "version_major": 2,
       "version_minor": 0
      },
      "text/plain": [
       "  0%|          | 0/4 [00:00<?, ?it/s]"
      ]
     },
     "metadata": {},
     "output_type": "display_data"
    },
    {
     "name": "stdout",
     "output_type": "stream",
     "text": [
      "Epoch [55/300] | Loss D: 0.0009006195468828082 | Loss G: 25.588211059570312\n",
      "Epoch 56 duration :   3.4996652603149414\n"
     ]
    },
    {
     "data": {
      "application/vnd.jupyter.widget-view+json": {
       "model_id": "7b6b8d220731497f95bf41fe0fa39a55",
       "version_major": 2,
       "version_minor": 0
      },
      "text/plain": [
       "  0%|          | 0/4 [00:00<?, ?it/s]"
      ]
     },
     "metadata": {},
     "output_type": "display_data"
    },
    {
     "name": "stdout",
     "output_type": "stream",
     "text": [
      "Epoch [56/300] | Loss D: 0.001533056260086596 | Loss G: 25.588211059570312\n",
      "Epoch 57 duration :   3.6648223400115967\n"
     ]
    },
    {
     "data": {
      "application/vnd.jupyter.widget-view+json": {
       "model_id": "bd463e447bb048f6a5a0dbc267309d88",
       "version_major": 2,
       "version_minor": 0
      },
      "text/plain": [
       "  0%|          | 0/4 [00:00<?, ?it/s]"
      ]
     },
     "metadata": {},
     "output_type": "display_data"
    },
    {
     "name": "stdout",
     "output_type": "stream",
     "text": [
      "Epoch [57/300] | Loss D: 0.001467888243496418 | Loss G: 27.903446197509766\n",
      "Epoch 58 duration :   8.354130506515503\n"
     ]
    },
    {
     "data": {
      "application/vnd.jupyter.widget-view+json": {
       "model_id": "749178faa5d945c0af40ab11e517ae1e",
       "version_major": 2,
       "version_minor": 0
      },
      "text/plain": [
       "  0%|          | 0/4 [00:00<?, ?it/s]"
      ]
     },
     "metadata": {},
     "output_type": "display_data"
    },
    {
     "name": "stdout",
     "output_type": "stream",
     "text": [
      "Epoch [58/300] | Loss D: 0.0006259735091589391 | Loss G: 27.903446197509766\n",
      "Epoch 59 duration :   3.905247211456299\n"
     ]
    },
    {
     "data": {
      "application/vnd.jupyter.widget-view+json": {
       "model_id": "8178f6a3bbb140859cc16d9bdf7d148c",
       "version_major": 2,
       "version_minor": 0
      },
      "text/plain": [
       "  0%|          | 0/4 [00:00<?, ?it/s]"
      ]
     },
     "metadata": {},
     "output_type": "display_data"
    },
    {
     "name": "stdout",
     "output_type": "stream",
     "text": [
      "Epoch [59/300] | Loss D: 0.0004646821762435138 | Loss G: 27.903446197509766\n",
      "Epoch 60 duration :   3.9557595252990723\n"
     ]
    },
    {
     "data": {
      "application/vnd.jupyter.widget-view+json": {
       "model_id": "db06f9e0e38d4ff585279cf493e6d57a",
       "version_major": 2,
       "version_minor": 0
      },
      "text/plain": [
       "  0%|          | 0/4 [00:00<?, ?it/s]"
      ]
     },
     "metadata": {},
     "output_type": "display_data"
    },
    {
     "name": "stdout",
     "output_type": "stream",
     "text": [
      "Epoch [60/300] | Loss D: 0.0007660351111553609 | Loss G: 29.90386390686035\n",
      "Epoch 61 duration :   29.672475337982178\n"
     ]
    },
    {
     "data": {
      "application/vnd.jupyter.widget-view+json": {
       "model_id": "5c444a3185e048e6b4600410b419c428",
       "version_major": 2,
       "version_minor": 0
      },
      "text/plain": [
       "  0%|          | 0/4 [00:00<?, ?it/s]"
      ]
     },
     "metadata": {},
     "output_type": "display_data"
    },
    {
     "name": "stdout",
     "output_type": "stream",
     "text": [
      "Epoch [61/300] | Loss D: 0.0008271925617009401 | Loss G: 29.90386390686035\n",
      "Epoch 62 duration :   4.7572245597839355\n"
     ]
    },
    {
     "data": {
      "application/vnd.jupyter.widget-view+json": {
       "model_id": "bfd9f2a3f1fe4f4d96d214e132c9e349",
       "version_major": 2,
       "version_minor": 0
      },
      "text/plain": [
       "  0%|          | 0/4 [00:00<?, ?it/s]"
      ]
     },
     "metadata": {},
     "output_type": "display_data"
    },
    {
     "name": "stdout",
     "output_type": "stream",
     "text": [
      "Epoch [62/300] | Loss D: 0.0005110381753183901 | Loss G: 29.90386390686035\n",
      "Epoch 63 duration :   4.0676209926605225\n"
     ]
    },
    {
     "data": {
      "application/vnd.jupyter.widget-view+json": {
       "model_id": "6d7b421dad1b4ee898739ac3db7b6de3",
       "version_major": 2,
       "version_minor": 0
      },
      "text/plain": [
       "  0%|          | 0/4 [00:00<?, ?it/s]"
      ]
     },
     "metadata": {},
     "output_type": "display_data"
    },
    {
     "name": "stdout",
     "output_type": "stream",
     "text": [
      "Epoch [63/300] | Loss D: 0.0006645292160101235 | Loss G: 31.659038543701172\n",
      "Epoch 64 duration :   8.435778141021729\n"
     ]
    },
    {
     "data": {
      "application/vnd.jupyter.widget-view+json": {
       "model_id": "f9937580dba34af080a5cc9dab9a615e",
       "version_major": 2,
       "version_minor": 0
      },
      "text/plain": [
       "  0%|          | 0/4 [00:00<?, ?it/s]"
      ]
     },
     "metadata": {},
     "output_type": "display_data"
    },
    {
     "name": "stdout",
     "output_type": "stream",
     "text": [
      "Epoch [64/300] | Loss D: 0.00031503327772952616 | Loss G: 31.659038543701172\n",
      "Epoch 65 duration :   4.035152912139893\n"
     ]
    },
    {
     "data": {
      "application/vnd.jupyter.widget-view+json": {
       "model_id": "31e8feace7b143478d8c155b912b2a50",
       "version_major": 2,
       "version_minor": 0
      },
      "text/plain": [
       "  0%|          | 0/4 [00:00<?, ?it/s]"
      ]
     },
     "metadata": {},
     "output_type": "display_data"
    },
    {
     "name": "stdout",
     "output_type": "stream",
     "text": [
      "Epoch [65/300] | Loss D: 0.00024287134874612093 | Loss G: 31.659038543701172\n",
      "Epoch 66 duration :   4.053945302963257\n"
     ]
    },
    {
     "data": {
      "application/vnd.jupyter.widget-view+json": {
       "model_id": "c87d2295e9144bd590bca95282928bbd",
       "version_major": 2,
       "version_minor": 0
      },
      "text/plain": [
       "  0%|          | 0/4 [00:00<?, ?it/s]"
      ]
     },
     "metadata": {},
     "output_type": "display_data"
    },
    {
     "name": "stdout",
     "output_type": "stream",
     "text": [
      "Epoch [66/300] | Loss D: 0.0001652894716244191 | Loss G: 33.427452087402344\n",
      "Epoch 67 duration :   8.467435836791992\n"
     ]
    },
    {
     "data": {
      "application/vnd.jupyter.widget-view+json": {
       "model_id": "c4cce05e09fb47838939220553efc2b1",
       "version_major": 2,
       "version_minor": 0
      },
      "text/plain": [
       "  0%|          | 0/4 [00:00<?, ?it/s]"
      ]
     },
     "metadata": {},
     "output_type": "display_data"
    },
    {
     "name": "stdout",
     "output_type": "stream",
     "text": [
      "Epoch [67/300] | Loss D: 0.0001045040917233564 | Loss G: 33.427452087402344\n",
      "Epoch 68 duration :   3.7996625900268555\n"
     ]
    },
    {
     "data": {
      "application/vnd.jupyter.widget-view+json": {
       "model_id": "cd1b6743a21b4d5ea3a4f762924c3d60",
       "version_major": 2,
       "version_minor": 0
      },
      "text/plain": [
       "  0%|          | 0/4 [00:00<?, ?it/s]"
      ]
     },
     "metadata": {},
     "output_type": "display_data"
    },
    {
     "name": "stdout",
     "output_type": "stream",
     "text": [
      "Epoch [68/300] | Loss D: 0.00016705122834537178 | Loss G: 33.427452087402344\n",
      "Epoch 69 duration :   3.6106679439544678\n"
     ]
    },
    {
     "data": {
      "application/vnd.jupyter.widget-view+json": {
       "model_id": "609e3924d406493088f531aca6797e41",
       "version_major": 2,
       "version_minor": 0
      },
      "text/plain": [
       "  0%|          | 0/4 [00:00<?, ?it/s]"
      ]
     },
     "metadata": {},
     "output_type": "display_data"
    },
    {
     "name": "stdout",
     "output_type": "stream",
     "text": [
      "Epoch [69/300] | Loss D: 0.00011075192014686763 | Loss G: 35.240257263183594\n",
      "Epoch 70 duration :   7.09584379196167\n"
     ]
    },
    {
     "data": {
      "application/vnd.jupyter.widget-view+json": {
       "model_id": "111edcb49b004d5c9c0a92e6eac32e51",
       "version_major": 2,
       "version_minor": 0
      },
      "text/plain": [
       "  0%|          | 0/4 [00:00<?, ?it/s]"
      ]
     },
     "metadata": {},
     "output_type": "display_data"
    },
    {
     "name": "stdout",
     "output_type": "stream",
     "text": [
      "Epoch [70/300] | Loss D: 0.00010592881153570488 | Loss G: 35.240257263183594\n",
      "Epoch 71 duration :   3.3925113677978516\n"
     ]
    },
    {
     "data": {
      "application/vnd.jupyter.widget-view+json": {
       "model_id": "3017c29299b94e9bbcc6d0f396d7cc4f",
       "version_major": 2,
       "version_minor": 0
      },
      "text/plain": [
       "  0%|          | 0/4 [00:00<?, ?it/s]"
      ]
     },
     "metadata": {},
     "output_type": "display_data"
    },
    {
     "name": "stdout",
     "output_type": "stream",
     "text": [
      "Epoch [71/300] | Loss D: 0.00014575633394997567 | Loss G: 35.240257263183594\n",
      "Epoch 72 duration :   3.4384264945983887\n"
     ]
    },
    {
     "data": {
      "application/vnd.jupyter.widget-view+json": {
       "model_id": "9bd9ee8067404942899fd75dad77a707",
       "version_major": 2,
       "version_minor": 0
      },
      "text/plain": [
       "  0%|          | 0/4 [00:00<?, ?it/s]"
      ]
     },
     "metadata": {},
     "output_type": "display_data"
    },
    {
     "name": "stdout",
     "output_type": "stream",
     "text": [
      "Epoch [72/300] | Loss D: 5.3123603720450774e-05 | Loss G: 36.65986251831055\n",
      "Epoch 73 duration :   6.995657682418823\n"
     ]
    },
    {
     "data": {
      "application/vnd.jupyter.widget-view+json": {
       "model_id": "85e8414760934d479173894c112968ce",
       "version_major": 2,
       "version_minor": 0
      },
      "text/plain": [
       "  0%|          | 0/4 [00:00<?, ?it/s]"
      ]
     },
     "metadata": {},
     "output_type": "display_data"
    },
    {
     "name": "stdout",
     "output_type": "stream",
     "text": [
      "Epoch [73/300] | Loss D: 4.7426059609279037e-05 | Loss G: 36.65986251831055\n",
      "Epoch 74 duration :   3.4543979167938232\n"
     ]
    },
    {
     "data": {
      "application/vnd.jupyter.widget-view+json": {
       "model_id": "1141ca9c1f4a408cb9ac0f547b32a293",
       "version_major": 2,
       "version_minor": 0
      },
      "text/plain": [
       "  0%|          | 0/4 [00:00<?, ?it/s]"
      ]
     },
     "metadata": {},
     "output_type": "display_data"
    },
    {
     "name": "stdout",
     "output_type": "stream",
     "text": [
      "Epoch [74/300] | Loss D: 2.409436274319887e-05 | Loss G: 36.65986251831055\n",
      "Epoch 75 duration :   3.4947662353515625\n"
     ]
    },
    {
     "data": {
      "application/vnd.jupyter.widget-view+json": {
       "model_id": "0f905e385e0b4d2bbcd6370abba110b7",
       "version_major": 2,
       "version_minor": 0
      },
      "text/plain": [
       "  0%|          | 0/4 [00:00<?, ?it/s]"
      ]
     },
     "metadata": {},
     "output_type": "display_data"
    },
    {
     "name": "stdout",
     "output_type": "stream",
     "text": [
      "Epoch [75/300] | Loss D: 1.7606942492420785e-05 | Loss G: 37.60356521606445\n",
      "Epoch 76 duration :   7.085390090942383\n"
     ]
    },
    {
     "data": {
      "application/vnd.jupyter.widget-view+json": {
       "model_id": "6190cf1b75e3409fbea196c25a2e31b8",
       "version_major": 2,
       "version_minor": 0
      },
      "text/plain": [
       "  0%|          | 0/4 [00:00<?, ?it/s]"
      ]
     },
     "metadata": {},
     "output_type": "display_data"
    },
    {
     "name": "stdout",
     "output_type": "stream",
     "text": [
      "Epoch [76/300] | Loss D: 2.502546522009652e-05 | Loss G: 37.60356521606445\n",
      "Epoch 77 duration :   3.4332098960876465\n"
     ]
    },
    {
     "data": {
      "application/vnd.jupyter.widget-view+json": {
       "model_id": "7c900ddcf1494486a34e3e5be86bd870",
       "version_major": 2,
       "version_minor": 0
      },
      "text/plain": [
       "  0%|          | 0/4 [00:00<?, ?it/s]"
      ]
     },
     "metadata": {},
     "output_type": "display_data"
    },
    {
     "name": "stdout",
     "output_type": "stream",
     "text": [
      "Epoch [77/300] | Loss D: 2.1727391867898405e-05 | Loss G: 37.60356521606445\n",
      "Epoch 78 duration :   3.397221565246582\n"
     ]
    },
    {
     "data": {
      "application/vnd.jupyter.widget-view+json": {
       "model_id": "8a92c5dd872b4ea59d0d6d7f4bd32a9f",
       "version_major": 2,
       "version_minor": 0
      },
      "text/plain": [
       "  0%|          | 0/4 [00:00<?, ?it/s]"
      ]
     },
     "metadata": {},
     "output_type": "display_data"
    },
    {
     "name": "stdout",
     "output_type": "stream",
     "text": [
      "Epoch [78/300] | Loss D: 2.4417646272922866e-05 | Loss G: 39.47090530395508\n",
      "Epoch 79 duration :   7.053283214569092\n"
     ]
    },
    {
     "data": {
      "application/vnd.jupyter.widget-view+json": {
       "model_id": "687ed475073a4e7caedd0a8c043fe539",
       "version_major": 2,
       "version_minor": 0
      },
      "text/plain": [
       "  0%|          | 0/4 [00:00<?, ?it/s]"
      ]
     },
     "metadata": {},
     "output_type": "display_data"
    },
    {
     "name": "stdout",
     "output_type": "stream",
     "text": [
      "Epoch [79/300] | Loss D: 6.82982226862805e-06 | Loss G: 39.47090530395508\n",
      "Epoch 80 duration :   3.3473525047302246\n"
     ]
    },
    {
     "data": {
      "application/vnd.jupyter.widget-view+json": {
       "model_id": "3055c2c5d869446d8a74706025d9a7b9",
       "version_major": 2,
       "version_minor": 0
      },
      "text/plain": [
       "  0%|          | 0/4 [00:00<?, ?it/s]"
      ]
     },
     "metadata": {},
     "output_type": "display_data"
    },
    {
     "name": "stdout",
     "output_type": "stream",
     "text": [
      "Epoch [80/300] | Loss D: 8.86731686478015e-06 | Loss G: 39.47090530395508\n",
      "Epoch 81 duration :   3.4265177249908447\n"
     ]
    },
    {
     "data": {
      "application/vnd.jupyter.widget-view+json": {
       "model_id": "be316e7ef63c4d39af150c701b1a9e28",
       "version_major": 2,
       "version_minor": 0
      },
      "text/plain": [
       "  0%|          | 0/4 [00:00<?, ?it/s]"
      ]
     },
     "metadata": {},
     "output_type": "display_data"
    },
    {
     "name": "stdout",
     "output_type": "stream",
     "text": [
      "Epoch [81/300] | Loss D: 2.1673462470062077e-05 | Loss G: 40.74214553833008\n",
      "Epoch 82 duration :   7.092765808105469\n"
     ]
    },
    {
     "data": {
      "application/vnd.jupyter.widget-view+json": {
       "model_id": "4b308f14120a44da9ace21041477c8de",
       "version_major": 2,
       "version_minor": 0
      },
      "text/plain": [
       "  0%|          | 0/4 [00:00<?, ?it/s]"
      ]
     },
     "metadata": {},
     "output_type": "display_data"
    },
    {
     "name": "stdout",
     "output_type": "stream",
     "text": [
      "Epoch [82/300] | Loss D: 6.755042250006227e-06 | Loss G: 40.74214553833008\n",
      "Epoch 83 duration :   3.491929054260254\n"
     ]
    },
    {
     "data": {
      "application/vnd.jupyter.widget-view+json": {
       "model_id": "82944b37bc1f4107bc0dc8776f1e0a39",
       "version_major": 2,
       "version_minor": 0
      },
      "text/plain": [
       "  0%|          | 0/4 [00:00<?, ?it/s]"
      ]
     },
     "metadata": {},
     "output_type": "display_data"
    },
    {
     "name": "stdout",
     "output_type": "stream",
     "text": [
      "Epoch [83/300] | Loss D: 6.530206974275643e-06 | Loss G: 40.74214553833008\n",
      "Epoch 84 duration :   3.3843421936035156\n"
     ]
    },
    {
     "data": {
      "application/vnd.jupyter.widget-view+json": {
       "model_id": "7e142eb1e3f2459eb7774cfb1ecf863d",
       "version_major": 2,
       "version_minor": 0
      },
      "text/plain": [
       "  0%|          | 0/4 [00:00<?, ?it/s]"
      ]
     },
     "metadata": {},
     "output_type": "display_data"
    },
    {
     "name": "stdout",
     "output_type": "stream",
     "text": [
      "Epoch [84/300] | Loss D: 2.640143748067203e-06 | Loss G: 41.84999084472656\n",
      "Epoch 85 duration :   7.180438995361328\n"
     ]
    },
    {
     "data": {
      "application/vnd.jupyter.widget-view+json": {
       "model_id": "688e49173c3f48e28435cbe843c8a23f",
       "version_major": 2,
       "version_minor": 0
      },
      "text/plain": [
       "  0%|          | 0/4 [00:00<?, ?it/s]"
      ]
     },
     "metadata": {},
     "output_type": "display_data"
    },
    {
     "name": "stdout",
     "output_type": "stream",
     "text": [
      "Epoch [85/300] | Loss D: 1.0278302397637162e-05 | Loss G: 41.84999084472656\n",
      "Epoch 86 duration :   3.376063108444214\n"
     ]
    },
    {
     "data": {
      "application/vnd.jupyter.widget-view+json": {
       "model_id": "57b83b07dc6c49708f83007589b75f80",
       "version_major": 2,
       "version_minor": 0
      },
      "text/plain": [
       "  0%|          | 0/4 [00:00<?, ?it/s]"
      ]
     },
     "metadata": {},
     "output_type": "display_data"
    },
    {
     "name": "stdout",
     "output_type": "stream",
     "text": [
      "Epoch [86/300] | Loss D: 4.32792830906692e-06 | Loss G: 41.84999084472656\n",
      "Epoch 87 duration :   3.455378770828247\n"
     ]
    },
    {
     "data": {
      "application/vnd.jupyter.widget-view+json": {
       "model_id": "033a6ccc665b4ce0b0e267862676910f",
       "version_major": 2,
       "version_minor": 0
      },
      "text/plain": [
       "  0%|          | 0/4 [00:00<?, ?it/s]"
      ]
     },
     "metadata": {},
     "output_type": "display_data"
    },
    {
     "name": "stdout",
     "output_type": "stream",
     "text": [
      "Epoch [87/300] | Loss D: 2.0944337393302703e-06 | Loss G: 42.88375473022461\n",
      "Epoch 88 duration :   7.034640550613403\n"
     ]
    },
    {
     "data": {
      "application/vnd.jupyter.widget-view+json": {
       "model_id": "6b1e725477414a7ab41c05db5973e15f",
       "version_major": 2,
       "version_minor": 0
      },
      "text/plain": [
       "  0%|          | 0/4 [00:00<?, ?it/s]"
      ]
     },
     "metadata": {},
     "output_type": "display_data"
    },
    {
     "name": "stdout",
     "output_type": "stream",
     "text": [
      "Epoch [88/300] | Loss D: 6.4793975980137475e-06 | Loss G: 42.88375473022461\n",
      "Epoch 89 duration :   3.3756463527679443\n"
     ]
    },
    {
     "data": {
      "application/vnd.jupyter.widget-view+json": {
       "model_id": "16cd6878130d46349cfaab72d27d86d7",
       "version_major": 2,
       "version_minor": 0
      },
      "text/plain": [
       "  0%|          | 0/4 [00:00<?, ?it/s]"
      ]
     },
     "metadata": {},
     "output_type": "display_data"
    },
    {
     "name": "stdout",
     "output_type": "stream",
     "text": [
      "Epoch [89/300] | Loss D: 1.6288822735077702e-06 | Loss G: 42.88375473022461\n",
      "Epoch 90 duration :   3.4540863037109375\n"
     ]
    },
    {
     "data": {
      "application/vnd.jupyter.widget-view+json": {
       "model_id": "c2c8f8050a2545e0ac748d61de8a550b",
       "version_major": 2,
       "version_minor": 0
      },
      "text/plain": [
       "  0%|          | 0/4 [00:00<?, ?it/s]"
      ]
     },
     "metadata": {},
     "output_type": "display_data"
    },
    {
     "name": "stdout",
     "output_type": "stream",
     "text": [
      "Epoch [90/300] | Loss D: 2.3763700482959393e-06 | Loss G: 44.070655822753906\n",
      "Epoch 91 duration :   21.29916214942932\n"
     ]
    },
    {
     "data": {
      "application/vnd.jupyter.widget-view+json": {
       "model_id": "35762bfca2ea4d2ba74b982ce2600ff1",
       "version_major": 2,
       "version_minor": 0
      },
      "text/plain": [
       "  0%|          | 0/4 [00:00<?, ?it/s]"
      ]
     },
     "metadata": {},
     "output_type": "display_data"
    },
    {
     "name": "stdout",
     "output_type": "stream",
     "text": [
      "Epoch [91/300] | Loss D: 4.201393039693357e-06 | Loss G: 44.070655822753906\n",
      "Epoch 92 duration :   4.008602619171143\n"
     ]
    },
    {
     "data": {
      "application/vnd.jupyter.widget-view+json": {
       "model_id": "757f98f489344856b94b97669e150414",
       "version_major": 2,
       "version_minor": 0
      },
      "text/plain": [
       "  0%|          | 0/4 [00:00<?, ?it/s]"
      ]
     },
     "metadata": {},
     "output_type": "display_data"
    },
    {
     "name": "stdout",
     "output_type": "stream",
     "text": [
      "Epoch [92/300] | Loss D: 8.021008284231357e-07 | Loss G: 44.070655822753906\n",
      "Epoch 93 duration :   3.396170139312744\n"
     ]
    },
    {
     "data": {
      "application/vnd.jupyter.widget-view+json": {
       "model_id": "427f70ac84d948a1ab9a4bca6d6cb5d4",
       "version_major": 2,
       "version_minor": 0
      },
      "text/plain": [
       "  0%|          | 0/4 [00:00<?, ?it/s]"
      ]
     },
     "metadata": {},
     "output_type": "display_data"
    },
    {
     "name": "stdout",
     "output_type": "stream",
     "text": [
      "Epoch [93/300] | Loss D: 1.879452952380234e-06 | Loss G: 44.88539123535156\n",
      "Epoch 94 duration :   6.994194030761719\n"
     ]
    },
    {
     "data": {
      "application/vnd.jupyter.widget-view+json": {
       "model_id": "62db3ddf49384d74acb598daff604652",
       "version_major": 2,
       "version_minor": 0
      },
      "text/plain": [
       "  0%|          | 0/4 [00:00<?, ?it/s]"
      ]
     },
     "metadata": {},
     "output_type": "display_data"
    },
    {
     "name": "stdout",
     "output_type": "stream",
     "text": [
      "Epoch [94/300] | Loss D: 2.218311919932603e-06 | Loss G: 44.88539123535156\n",
      "Epoch 95 duration :   3.5153865814208984\n"
     ]
    },
    {
     "data": {
      "application/vnd.jupyter.widget-view+json": {
       "model_id": "0da73dd881ed421693ccdad0e7945dac",
       "version_major": 2,
       "version_minor": 0
      },
      "text/plain": [
       "  0%|          | 0/4 [00:00<?, ?it/s]"
      ]
     },
     "metadata": {},
     "output_type": "display_data"
    },
    {
     "name": "stdout",
     "output_type": "stream",
     "text": [
      "Epoch [95/300] | Loss D: 2.6705504296842264e-06 | Loss G: 44.88539123535156\n",
      "Epoch 96 duration :   3.4648773670196533\n"
     ]
    },
    {
     "data": {
      "application/vnd.jupyter.widget-view+json": {
       "model_id": "5a9d8321495c4f68874f69053bd257ea",
       "version_major": 2,
       "version_minor": 0
      },
      "text/plain": [
       "  0%|          | 0/4 [00:00<?, ?it/s]"
      ]
     },
     "metadata": {},
     "output_type": "display_data"
    },
    {
     "name": "stdout",
     "output_type": "stream",
     "text": [
      "Epoch [96/300] | Loss D: 4.6039770040806616e-07 | Loss G: 45.65591049194336\n",
      "Epoch 97 duration :   7.005951642990112\n"
     ]
    },
    {
     "data": {
      "application/vnd.jupyter.widget-view+json": {
       "model_id": "5569a73d43ed4ec382b9b30a8553ee90",
       "version_major": 2,
       "version_minor": 0
      },
      "text/plain": [
       "  0%|          | 0/4 [00:00<?, ?it/s]"
      ]
     },
     "metadata": {},
     "output_type": "display_data"
    },
    {
     "name": "stdout",
     "output_type": "stream",
     "text": [
      "Epoch [97/300] | Loss D: 5.801218776468886e-07 | Loss G: 45.65591049194336\n",
      "Epoch 98 duration :   3.506279468536377\n"
     ]
    },
    {
     "data": {
      "application/vnd.jupyter.widget-view+json": {
       "model_id": "e781f42bc9cf441ab42f0b06ef7198c7",
       "version_major": 2,
       "version_minor": 0
      },
      "text/plain": [
       "  0%|          | 0/4 [00:00<?, ?it/s]"
      ]
     },
     "metadata": {},
     "output_type": "display_data"
    },
    {
     "name": "stdout",
     "output_type": "stream",
     "text": [
      "Epoch [98/300] | Loss D: 1.4567502830686863e-06 | Loss G: 45.65591049194336\n",
      "Epoch 99 duration :   3.5160295963287354\n"
     ]
    },
    {
     "data": {
      "application/vnd.jupyter.widget-view+json": {
       "model_id": "6a84adf4a43b48ceb63c48a0234f2366",
       "version_major": 2,
       "version_minor": 0
      },
      "text/plain": [
       "  0%|          | 0/4 [00:00<?, ?it/s]"
      ]
     },
     "metadata": {},
     "output_type": "display_data"
    },
    {
     "name": "stdout",
     "output_type": "stream",
     "text": [
      "Epoch [99/300] | Loss D: 5.164043272998242e-07 | Loss G: 46.48615646362305\n",
      "Epoch 100 duration :   7.897619009017944\n"
     ]
    },
    {
     "data": {
      "application/vnd.jupyter.widget-view+json": {
       "model_id": "ff783294eec34a65bd4a0a41382fae0b",
       "version_major": 2,
       "version_minor": 0
      },
      "text/plain": [
       "  0%|          | 0/4 [00:00<?, ?it/s]"
      ]
     },
     "metadata": {},
     "output_type": "display_data"
    },
    {
     "name": "stdout",
     "output_type": "stream",
     "text": [
      "Epoch [100/300] | Loss D: 1.0446555052112672e-06 | Loss G: 46.48615646362305\n",
      "Epoch 101 duration :   4.0519397258758545\n"
     ]
    },
    {
     "data": {
      "application/vnd.jupyter.widget-view+json": {
       "model_id": "d82ac7c7078b4093b040dee9cdb83bd7",
       "version_major": 2,
       "version_minor": 0
      },
      "text/plain": [
       "  0%|          | 0/4 [00:00<?, ?it/s]"
      ]
     },
     "metadata": {},
     "output_type": "display_data"
    },
    {
     "name": "stdout",
     "output_type": "stream",
     "text": [
      "Epoch [101/300] | Loss D: 9.094988513425051e-07 | Loss G: 46.48615646362305\n",
      "Epoch 102 duration :   3.950408458709717\n"
     ]
    },
    {
     "data": {
      "application/vnd.jupyter.widget-view+json": {
       "model_id": "5baf77ff65854dec88f10d0a5f6d6d24",
       "version_major": 2,
       "version_minor": 0
      },
      "text/plain": [
       "  0%|          | 0/4 [00:00<?, ?it/s]"
      ]
     },
     "metadata": {},
     "output_type": "display_data"
    },
    {
     "name": "stdout",
     "output_type": "stream",
     "text": [
      "Epoch [102/300] | Loss D: 7.409576028294396e-07 | Loss G: 47.298927307128906\n",
      "Epoch 103 duration :   8.189176321029663\n"
     ]
    },
    {
     "data": {
      "application/vnd.jupyter.widget-view+json": {
       "model_id": "3afc7d466a88477abbdf2bc4ee394629",
       "version_major": 2,
       "version_minor": 0
      },
      "text/plain": [
       "  0%|          | 0/4 [00:00<?, ?it/s]"
      ]
     },
     "metadata": {},
     "output_type": "display_data"
    },
    {
     "name": "stdout",
     "output_type": "stream",
     "text": [
      "Epoch [103/300] | Loss D: 2.1375537073708983e-07 | Loss G: 47.298927307128906\n",
      "Epoch 104 duration :   4.007955074310303\n"
     ]
    },
    {
     "data": {
      "application/vnd.jupyter.widget-view+json": {
       "model_id": "0b3f18d2b80544aaa0e02fcb04cbd93d",
       "version_major": 2,
       "version_minor": 0
      },
      "text/plain": [
       "  0%|          | 0/4 [00:00<?, ?it/s]"
      ]
     },
     "metadata": {},
     "output_type": "display_data"
    },
    {
     "name": "stdout",
     "output_type": "stream",
     "text": [
      "Epoch [104/300] | Loss D: 2.969971433230967e-07 | Loss G: 47.298927307128906\n",
      "Epoch 105 duration :   3.937598943710327\n"
     ]
    },
    {
     "data": {
      "application/vnd.jupyter.widget-view+json": {
       "model_id": "ff8d5e2c9eca44ac9d4855cc60761cf2",
       "version_major": 2,
       "version_minor": 0
      },
      "text/plain": [
       "  0%|          | 0/4 [00:00<?, ?it/s]"
      ]
     },
     "metadata": {},
     "output_type": "display_data"
    },
    {
     "name": "stdout",
     "output_type": "stream",
     "text": [
      "Epoch [105/300] | Loss D: 1.1155711945320945e-06 | Loss G: 48.263301849365234\n",
      "Epoch 106 duration :   8.091248035430908\n"
     ]
    },
    {
     "data": {
      "application/vnd.jupyter.widget-view+json": {
       "model_id": "04728560f721402f934b4bf0b6ef7e47",
       "version_major": 2,
       "version_minor": 0
      },
      "text/plain": [
       "  0%|          | 0/4 [00:00<?, ?it/s]"
      ]
     },
     "metadata": {},
     "output_type": "display_data"
    },
    {
     "name": "stdout",
     "output_type": "stream",
     "text": [
      "Epoch [106/300] | Loss D: 3.3347922112625383e-07 | Loss G: 48.263301849365234\n",
      "Epoch 107 duration :   4.034866094589233\n"
     ]
    },
    {
     "data": {
      "application/vnd.jupyter.widget-view+json": {
       "model_id": "7a76ac1ac79f49838be7e45e26a60f1c",
       "version_major": 2,
       "version_minor": 0
      },
      "text/plain": [
       "  0%|          | 0/4 [00:00<?, ?it/s]"
      ]
     },
     "metadata": {},
     "output_type": "display_data"
    },
    {
     "name": "stdout",
     "output_type": "stream",
     "text": [
      "Epoch [107/300] | Loss D: 5.991563511997811e-07 | Loss G: 48.263301849365234\n",
      "Epoch 108 duration :   3.9943594932556152\n"
     ]
    },
    {
     "data": {
      "application/vnd.jupyter.widget-view+json": {
       "model_id": "572eccb3e3f54f1d94a52d54e156a225",
       "version_major": 2,
       "version_minor": 0
      },
      "text/plain": [
       "  0%|          | 0/4 [00:00<?, ?it/s]"
      ]
     },
     "metadata": {},
     "output_type": "display_data"
    },
    {
     "name": "stdout",
     "output_type": "stream",
     "text": [
      "Epoch [108/300] | Loss D: 2.702777521790267e-07 | Loss G: 48.850860595703125\n",
      "Epoch 109 duration :   8.272215366363525\n"
     ]
    },
    {
     "data": {
      "application/vnd.jupyter.widget-view+json": {
       "model_id": "e85bdf132bfd40a6892c638be9baae92",
       "version_major": 2,
       "version_minor": 0
      },
      "text/plain": [
       "  0%|          | 0/4 [00:00<?, ?it/s]"
      ]
     },
     "metadata": {},
     "output_type": "display_data"
    },
    {
     "name": "stdout",
     "output_type": "stream",
     "text": [
      "Epoch [109/300] | Loss D: 1.9320172839343286e-07 | Loss G: 48.850860595703125\n",
      "Epoch 110 duration :   3.9970498085021973\n"
     ]
    },
    {
     "data": {
      "application/vnd.jupyter.widget-view+json": {
       "model_id": "2e50c9a4000249e5a9b7ed97cb1f69e2",
       "version_major": 2,
       "version_minor": 0
      },
      "text/plain": [
       "  0%|          | 0/4 [00:00<?, ?it/s]"
      ]
     },
     "metadata": {},
     "output_type": "display_data"
    },
    {
     "name": "stdout",
     "output_type": "stream",
     "text": [
      "Epoch [110/300] | Loss D: 5.436425567495462e-07 | Loss G: 48.850860595703125\n",
      "Epoch 111 duration :   3.970557451248169\n"
     ]
    },
    {
     "data": {
      "application/vnd.jupyter.widget-view+json": {
       "model_id": "d724ad8dda084be9aae006d21e992423",
       "version_major": 2,
       "version_minor": 0
      },
      "text/plain": [
       "  0%|          | 0/4 [00:00<?, ?it/s]"
      ]
     },
     "metadata": {},
     "output_type": "display_data"
    },
    {
     "name": "stdout",
     "output_type": "stream",
     "text": [
      "Epoch [111/300] | Loss D: 5.133273361934698e-07 | Loss G: 49.630897521972656\n",
      "Epoch 112 duration :   8.17431378364563\n"
     ]
    },
    {
     "data": {
      "application/vnd.jupyter.widget-view+json": {
       "model_id": "4e0e59cadede4f46b39c6eba8b5be736",
       "version_major": 2,
       "version_minor": 0
      },
      "text/plain": [
       "  0%|          | 0/4 [00:00<?, ?it/s]"
      ]
     },
     "metadata": {},
     "output_type": "display_data"
    },
    {
     "name": "stdout",
     "output_type": "stream",
     "text": [
      "Epoch [112/300] | Loss D: 1.6237190436640958e-07 | Loss G: 49.630897521972656\n",
      "Epoch 113 duration :   3.9419329166412354\n"
     ]
    },
    {
     "data": {
      "application/vnd.jupyter.widget-view+json": {
       "model_id": "e6ece3dcafec4359825b646cdd50f2ce",
       "version_major": 2,
       "version_minor": 0
      },
      "text/plain": [
       "  0%|          | 0/4 [00:00<?, ?it/s]"
      ]
     },
     "metadata": {},
     "output_type": "display_data"
    },
    {
     "name": "stdout",
     "output_type": "stream",
     "text": [
      "Epoch [113/300] | Loss D: 2.600028494725848e-07 | Loss G: 49.630897521972656\n",
      "Epoch 114 duration :   3.9591996669769287\n"
     ]
    },
    {
     "data": {
      "application/vnd.jupyter.widget-view+json": {
       "model_id": "c8d5ff432c0a45a1ae03050e6afc44b3",
       "version_major": 2,
       "version_minor": 0
      },
      "text/plain": [
       "  0%|          | 0/4 [00:00<?, ?it/s]"
      ]
     },
     "metadata": {},
     "output_type": "display_data"
    },
    {
     "name": "stdout",
     "output_type": "stream",
     "text": [
      "Epoch [114/300] | Loss D: 3.098467686868389e-07 | Loss G: 49.913673400878906\n",
      "Epoch 115 duration :   8.094966411590576\n"
     ]
    },
    {
     "data": {
      "application/vnd.jupyter.widget-view+json": {
       "model_id": "52118403a688401c9952e7c72d7238fc",
       "version_major": 2,
       "version_minor": 0
      },
      "text/plain": [
       "  0%|          | 0/4 [00:00<?, ?it/s]"
      ]
     },
     "metadata": {},
     "output_type": "display_data"
    },
    {
     "name": "stdout",
     "output_type": "stream",
     "text": [
      "Epoch [115/300] | Loss D: 1.3719376568133157e-07 | Loss G: 49.913673400878906\n",
      "Epoch 116 duration :   4.028669357299805\n"
     ]
    },
    {
     "data": {
      "application/vnd.jupyter.widget-view+json": {
       "model_id": "008ded3cb73c4d7aa995dd1af0b1d833",
       "version_major": 2,
       "version_minor": 0
      },
      "text/plain": [
       "  0%|          | 0/4 [00:00<?, ?it/s]"
      ]
     },
     "metadata": {},
     "output_type": "display_data"
    },
    {
     "name": "stdout",
     "output_type": "stream",
     "text": [
      "Epoch [116/300] | Loss D: 8.68378648988255e-08 | Loss G: 49.913673400878906\n",
      "Epoch 117 duration :   4.006152868270874\n"
     ]
    },
    {
     "data": {
      "application/vnd.jupyter.widget-view+json": {
       "model_id": "81b724ff79474a41af5762c0af438e76",
       "version_major": 2,
       "version_minor": 0
      },
      "text/plain": [
       "  0%|          | 0/4 [00:00<?, ?it/s]"
      ]
     },
     "metadata": {},
     "output_type": "display_data"
    },
    {
     "name": "stdout",
     "output_type": "stream",
     "text": [
      "Epoch [117/300] | Loss D: 1.1355737683516054e-07 | Loss G: 50.738502502441406\n",
      "Epoch 118 duration :   8.239262342453003\n"
     ]
    },
    {
     "data": {
      "application/vnd.jupyter.widget-view+json": {
       "model_id": "c796067221d241809af119ddd7e496e4",
       "version_major": 2,
       "version_minor": 0
      },
      "text/plain": [
       "  0%|          | 0/4 [00:00<?, ?it/s]"
      ]
     },
     "metadata": {},
     "output_type": "display_data"
    },
    {
     "name": "stdout",
     "output_type": "stream",
     "text": [
      "Epoch [118/300] | Loss D: 9.66007860370155e-08 | Loss G: 50.738502502441406\n",
      "Epoch 119 duration :   3.9291017055511475\n"
     ]
    },
    {
     "data": {
      "application/vnd.jupyter.widget-view+json": {
       "model_id": "dabb8dba3a664b859ce220a3067d6cc2",
       "version_major": 2,
       "version_minor": 0
      },
      "text/plain": [
       "  0%|          | 0/4 [00:00<?, ?it/s]"
      ]
     },
     "metadata": {},
     "output_type": "display_data"
    },
    {
     "name": "stdout",
     "output_type": "stream",
     "text": [
      "Epoch [119/300] | Loss D: 9.968380254576914e-08 | Loss G: 50.738502502441406\n",
      "Epoch 120 duration :   3.907284736633301\n"
     ]
    },
    {
     "data": {
      "application/vnd.jupyter.widget-view+json": {
       "model_id": "350834f1cb7a4eb2807732f89b86b6d3",
       "version_major": 2,
       "version_minor": 0
      },
      "text/plain": [
       "  0%|          | 0/4 [00:00<?, ?it/s]"
      ]
     },
     "metadata": {},
     "output_type": "display_data"
    },
    {
     "name": "stdout",
     "output_type": "stream",
     "text": [
      "Epoch [120/300] | Loss D: 6.320152579064597e-08 | Loss G: 51.262203216552734\n",
      "Epoch 121 duration :   22.849496841430664\n"
     ]
    },
    {
     "data": {
      "application/vnd.jupyter.widget-view+json": {
       "model_id": "438b425262424e058ecfe1c759d5bd65",
       "version_major": 2,
       "version_minor": 0
      },
      "text/plain": [
       "  0%|          | 0/4 [00:00<?, ?it/s]"
      ]
     },
     "metadata": {},
     "output_type": "display_data"
    },
    {
     "name": "stdout",
     "output_type": "stream",
     "text": [
      "Epoch [121/300] | Loss D: 9.505948384003204e-08 | Loss G: 51.262203216552734\n",
      "Epoch 122 duration :   4.684406518936157\n"
     ]
    },
    {
     "data": {
      "application/vnd.jupyter.widget-view+json": {
       "model_id": "cffa4ec4b3a44aa0b6ccc3dac40660b9",
       "version_major": 2,
       "version_minor": 0
      },
      "text/plain": [
       "  0%|          | 0/4 [00:00<?, ?it/s]"
      ]
     },
     "metadata": {},
     "output_type": "display_data"
    },
    {
     "name": "stdout",
     "output_type": "stream",
     "text": [
      "Epoch [122/300] | Loss D: 2.4407194132436416e-07 | Loss G: 51.262203216552734\n",
      "Epoch 123 duration :   3.951479196548462\n"
     ]
    },
    {
     "data": {
      "application/vnd.jupyter.widget-view+json": {
       "model_id": "31fcae24f9af4fb8be10c0dc91f47d0b",
       "version_major": 2,
       "version_minor": 0
      },
      "text/plain": [
       "  0%|          | 0/4 [00:00<?, ?it/s]"
      ]
     },
     "metadata": {},
     "output_type": "display_data"
    },
    {
     "name": "stdout",
     "output_type": "stream",
     "text": [
      "Epoch [123/300] | Loss D: 7.03953162428661e-08 | Loss G: 51.59565353393555\n",
      "Epoch 124 duration :   8.186463356018066\n"
     ]
    },
    {
     "data": {
      "application/vnd.jupyter.widget-view+json": {
       "model_id": "210c157fee6c4edaa6215413a0b0018b",
       "version_major": 2,
       "version_minor": 0
      },
      "text/plain": [
       "  0%|          | 0/4 [00:00<?, ?it/s]"
      ]
     },
     "metadata": {},
     "output_type": "display_data"
    },
    {
     "name": "stdout",
     "output_type": "stream",
     "text": [
      "Epoch [124/300] | Loss D: 6.731221446898417e-08 | Loss G: 51.59565353393555\n",
      "Epoch 125 duration :   3.9643561840057373\n"
     ]
    },
    {
     "data": {
      "application/vnd.jupyter.widget-view+json": {
       "model_id": "0f93f528e35c435696456fe01833a412",
       "version_major": 2,
       "version_minor": 0
      },
      "text/plain": [
       "  0%|          | 0/4 [00:00<?, ?it/s]"
      ]
     },
     "metadata": {},
     "output_type": "display_data"
    },
    {
     "name": "stdout",
     "output_type": "stream",
     "text": [
      "Epoch [125/300] | Loss D: 2.5177831375344795e-08 | Loss G: 51.59565353393555\n",
      "Epoch 126 duration :   3.953648805618286\n"
     ]
    },
    {
     "data": {
      "application/vnd.jupyter.widget-view+json": {
       "model_id": "3f2afdf6a279478393b91e91baabb837",
       "version_major": 2,
       "version_minor": 0
      },
      "text/plain": [
       "  0%|          | 0/4 [00:00<?, ?it/s]"
      ]
     },
     "metadata": {},
     "output_type": "display_data"
    },
    {
     "name": "stdout",
     "output_type": "stream",
     "text": [
      "Epoch [126/300] | Loss D: 7.70750787637553e-08 | Loss G: 52.348419189453125\n",
      "Epoch 127 duration :   8.097646951675415\n"
     ]
    },
    {
     "data": {
      "application/vnd.jupyter.widget-view+json": {
       "model_id": "cf29a70915ea42cd8e45ee68aef17e2a",
       "version_major": 2,
       "version_minor": 0
      },
      "text/plain": [
       "  0%|          | 0/4 [00:00<?, ?it/s]"
      ]
     },
     "metadata": {},
     "output_type": "display_data"
    },
    {
     "name": "stdout",
     "output_type": "stream",
     "text": [
      "Epoch [127/300] | Loss D: 4.675886700056253e-08 | Loss G: 52.348419189453125\n",
      "Epoch 128 duration :   4.047948360443115\n"
     ]
    },
    {
     "data": {
      "application/vnd.jupyter.widget-view+json": {
       "model_id": "a8c159255c2e4c59914d75ff5d300801",
       "version_major": 2,
       "version_minor": 0
      },
      "text/plain": [
       "  0%|          | 0/4 [00:00<?, ?it/s]"
      ]
     },
     "metadata": {},
     "output_type": "display_data"
    },
    {
     "name": "stdout",
     "output_type": "stream",
     "text": [
      "Epoch [128/300] | Loss D: 2.0039497172774645e-08 | Loss G: 52.348419189453125\n",
      "Epoch 129 duration :   3.9746057987213135\n"
     ]
    },
    {
     "data": {
      "application/vnd.jupyter.widget-view+json": {
       "model_id": "61393ac41e6c4c879fb4b5f57f74b1d8",
       "version_major": 2,
       "version_minor": 0
      },
      "text/plain": [
       "  0%|          | 0/4 [00:00<?, ?it/s]"
      ]
     },
     "metadata": {},
     "output_type": "display_data"
    },
    {
     "name": "stdout",
     "output_type": "stream",
     "text": [
      "Epoch [129/300] | Loss D: 1.9269079132300249e-07 | Loss G: 52.81663513183594\n",
      "Epoch 130 duration :   8.25788426399231\n"
     ]
    },
    {
     "data": {
      "application/vnd.jupyter.widget-view+json": {
       "model_id": "25aa0597e5cf4d01a2d0da68c4e3f3ca",
       "version_major": 2,
       "version_minor": 0
      },
      "text/plain": [
       "  0%|          | 0/4 [00:00<?, ?it/s]"
      ]
     },
     "metadata": {},
     "output_type": "display_data"
    },
    {
     "name": "stdout",
     "output_type": "stream",
     "text": [
      "Epoch [130/300] | Loss D: 6.525690565695186e-08 | Loss G: 52.81663513183594\n",
      "Epoch 131 duration :   4.020646810531616\n"
     ]
    },
    {
     "data": {
      "application/vnd.jupyter.widget-view+json": {
       "model_id": "10b42854d3ac4eafbbce25e34eb4fb6d",
       "version_major": 2,
       "version_minor": 0
      },
      "text/plain": [
       "  0%|          | 0/4 [00:00<?, ?it/s]"
      ]
     },
     "metadata": {},
     "output_type": "display_data"
    },
    {
     "name": "stdout",
     "output_type": "stream",
     "text": [
      "Epoch [131/300] | Loss D: 3.7509860106865744e-08 | Loss G: 52.81663513183594\n",
      "Epoch 132 duration :   3.947129487991333\n"
     ]
    },
    {
     "data": {
      "application/vnd.jupyter.widget-view+json": {
       "model_id": "ca1f672864d641ff931d5bf58231c61f",
       "version_major": 2,
       "version_minor": 0
      },
      "text/plain": [
       "  0%|          | 0/4 [00:00<?, ?it/s]"
      ]
     },
     "metadata": {},
     "output_type": "display_data"
    },
    {
     "name": "stdout",
     "output_type": "stream",
     "text": [
      "Epoch [132/300] | Loss D: 3.288533534373528e-08 | Loss G: 53.07439041137695\n",
      "Epoch 133 duration :   8.398803472518921\n"
     ]
    },
    {
     "data": {
      "application/vnd.jupyter.widget-view+json": {
       "model_id": "6adf5df0d19c45b3b1741ce026879435",
       "version_major": 2,
       "version_minor": 0
      },
      "text/plain": [
       "  0%|          | 0/4 [00:00<?, ?it/s]"
      ]
     },
     "metadata": {},
     "output_type": "display_data"
    },
    {
     "name": "stdout",
     "output_type": "stream",
     "text": [
      "Epoch [133/300] | Loss D: 6.217391756990764e-08 | Loss G: 53.07439041137695\n",
      "Epoch 134 duration :   4.030803203582764\n"
     ]
    },
    {
     "data": {
      "application/vnd.jupyter.widget-view+json": {
       "model_id": "79c651bf171a4ff78463f3afc1278a7b",
       "version_major": 2,
       "version_minor": 0
      },
      "text/plain": [
       "  0%|          | 0/4 [00:00<?, ?it/s]"
      ]
     },
     "metadata": {},
     "output_type": "display_data"
    },
    {
     "name": "stdout",
     "output_type": "stream",
     "text": [
      "Epoch [134/300] | Loss D: 7.142296709616858e-08 | Loss G: 53.07439041137695\n",
      "Epoch 135 duration :   3.9395086765289307\n"
     ]
    },
    {
     "data": {
      "application/vnd.jupyter.widget-view+json": {
       "model_id": "a2af517d41434a1eb8b65664a19ae917",
       "version_major": 2,
       "version_minor": 0
      },
      "text/plain": [
       "  0%|          | 0/4 [00:00<?, ?it/s]"
      ]
     },
     "metadata": {},
     "output_type": "display_data"
    },
    {
     "name": "stdout",
     "output_type": "stream",
     "text": [
      "Epoch [135/300] | Loss D: 3.905135415038785e-08 | Loss G: 53.240211486816406\n",
      "Epoch 136 duration :   8.286075353622437\n"
     ]
    },
    {
     "data": {
      "application/vnd.jupyter.widget-view+json": {
       "model_id": "52df9f2d758f4e90852d1c8d443db03d",
       "version_major": 2,
       "version_minor": 0
      },
      "text/plain": [
       "  0%|          | 0/4 [00:00<?, ?it/s]"
      ]
     },
     "metadata": {},
     "output_type": "display_data"
    },
    {
     "name": "stdout",
     "output_type": "stream",
     "text": [
      "Epoch [136/300] | Loss D: 1.4901168299275014e-08 | Loss G: 53.240211486816406\n",
      "Epoch 137 duration :   3.8333823680877686\n"
     ]
    },
    {
     "data": {
      "application/vnd.jupyter.widget-view+json": {
       "model_id": "45c13c541dd74e4a8246eea0e2486b46",
       "version_major": 2,
       "version_minor": 0
      },
      "text/plain": [
       "  0%|          | 0/4 [00:00<?, ?it/s]"
      ]
     },
     "metadata": {},
     "output_type": "display_data"
    },
    {
     "name": "stdout",
     "output_type": "stream",
     "text": [
      "Epoch [137/300] | Loss D: 9.660137578748618e-08 | Loss G: 53.240211486816406\n",
      "Epoch 138 duration :   3.624220848083496\n"
     ]
    },
    {
     "data": {
      "application/vnd.jupyter.widget-view+json": {
       "model_id": "a9e37d02350b46f4ae2d2cb08673d90a",
       "version_major": 2,
       "version_minor": 0
      },
      "text/plain": [
       "  0%|          | 0/4 [00:00<?, ?it/s]"
      ]
     },
     "metadata": {},
     "output_type": "display_data"
    },
    {
     "name": "stdout",
     "output_type": "stream",
     "text": [
      "Epoch [138/300] | Loss D: 2.4664005948693557e-08 | Loss G: 53.78703308105469\n",
      "Epoch 139 duration :   7.555697679519653\n"
     ]
    },
    {
     "data": {
      "application/vnd.jupyter.widget-view+json": {
       "model_id": "4f11e041ddce4f3aae7c9b596857bdd6",
       "version_major": 2,
       "version_minor": 0
      },
      "text/plain": [
       "  0%|          | 0/4 [00:00<?, ?it/s]"
      ]
     },
     "metadata": {},
     "output_type": "display_data"
    },
    {
     "name": "stdout",
     "output_type": "stream",
     "text": [
      "Epoch [139/300] | Loss D: 7.81031772589813e-08 | Loss G: 53.78703308105469\n",
      "Epoch 140 duration :   3.5387637615203857\n"
     ]
    },
    {
     "data": {
      "application/vnd.jupyter.widget-view+json": {
       "model_id": "d664ef3500f94453a49a4ed73c72888c",
       "version_major": 2,
       "version_minor": 0
      },
      "text/plain": [
       "  0%|          | 0/4 [00:00<?, ?it/s]"
      ]
     },
     "metadata": {},
     "output_type": "display_data"
    },
    {
     "name": "stdout",
     "output_type": "stream",
     "text": [
      "Epoch [140/300] | Loss D: 4.0079065399822866e-08 | Loss G: 53.78703308105469\n",
      "Epoch 141 duration :   3.5176823139190674\n"
     ]
    },
    {
     "data": {
      "application/vnd.jupyter.widget-view+json": {
       "model_id": "0d5b8e2a819146789de10373286d8e15",
       "version_major": 2,
       "version_minor": 0
      },
      "text/plain": [
       "  0%|          | 0/4 [00:00<?, ?it/s]"
      ]
     },
     "metadata": {},
     "output_type": "display_data"
    },
    {
     "name": "stdout",
     "output_type": "stream",
     "text": [
      "Epoch [141/300] | Loss D: 2.26086633858813e-08 | Loss G: 54.172149658203125\n",
      "Epoch 142 duration :   7.32869815826416\n"
     ]
    },
    {
     "data": {
      "application/vnd.jupyter.widget-view+json": {
       "model_id": "ad0f8fab4ca04547ba514f81dbcfd35b",
       "version_major": 2,
       "version_minor": 0
      },
      "text/plain": [
       "  0%|          | 0/4 [00:00<?, ?it/s]"
      ]
     },
     "metadata": {},
     "output_type": "display_data"
    },
    {
     "name": "stdout",
     "output_type": "stream",
     "text": [
      "Epoch [142/300] | Loss D: 1.952566286433921e-08 | Loss G: 54.172149658203125\n",
      "Epoch 143 duration :   3.554438352584839\n"
     ]
    },
    {
     "data": {
      "application/vnd.jupyter.widget-view+json": {
       "model_id": "595a490cd4a84131b8cee26f4dc64f1c",
       "version_major": 2,
       "version_minor": 0
      },
      "text/plain": [
       "  0%|          | 0/4 [00:00<?, ?it/s]"
      ]
     },
     "metadata": {},
     "output_type": "display_data"
    },
    {
     "name": "stdout",
     "output_type": "stream",
     "text": [
      "Epoch [143/300] | Loss D: 5.343880360442199e-08 | Loss G: 54.172149658203125\n",
      "Epoch 144 duration :   3.563321352005005\n"
     ]
    },
    {
     "data": {
      "application/vnd.jupyter.widget-view+json": {
       "model_id": "04dc60a0d45e4f3eb47281d74ec50878",
       "version_major": 2,
       "version_minor": 0
      },
      "text/plain": [
       "  0%|          | 0/4 [00:00<?, ?it/s]"
      ]
     },
     "metadata": {},
     "output_type": "display_data"
    },
    {
     "name": "stdout",
     "output_type": "stream",
     "text": [
      "Epoch [144/300] | Loss D: 2.3636347989963724e-08 | Loss G: 54.43598556518555\n",
      "Epoch 145 duration :   7.458269119262695\n"
     ]
    },
    {
     "data": {
      "application/vnd.jupyter.widget-view+json": {
       "model_id": "0b3b10d8a48c4261ad4b1d67c73973bc",
       "version_major": 2,
       "version_minor": 0
      },
      "text/plain": [
       "  0%|          | 0/4 [00:00<?, ?it/s]"
      ]
     },
     "metadata": {},
     "output_type": "display_data"
    },
    {
     "name": "stdout",
     "output_type": "stream",
     "text": [
      "Epoch [145/300] | Loss D: 1.644266411915396e-08 | Loss G: 54.43598556518555\n",
      "Epoch 146 duration :   3.609048843383789\n"
     ]
    },
    {
     "data": {
      "application/vnd.jupyter.widget-view+json": {
       "model_id": "b9c21222f5474bfea214c8fe3c22af57",
       "version_major": 2,
       "version_minor": 0
      },
      "text/plain": [
       "  0%|          | 0/4 [00:00<?, ?it/s]"
      ]
     },
     "metadata": {},
     "output_type": "display_data"
    },
    {
     "name": "stdout",
     "output_type": "stream",
     "text": [
      "Epoch [146/300] | Loss D: 3.0316193999624375e-08 | Loss G: 54.43598556518555\n",
      "Epoch 147 duration :   3.513031482696533\n"
     ]
    },
    {
     "data": {
      "application/vnd.jupyter.widget-view+json": {
       "model_id": "a10be7961e3d4e24af0d3754ba7b6371",
       "version_major": 2,
       "version_minor": 0
      },
      "text/plain": [
       "  0%|          | 0/4 [00:00<?, ?it/s]"
      ]
     },
     "metadata": {},
     "output_type": "display_data"
    },
    {
     "name": "stdout",
     "output_type": "stream",
     "text": [
      "Epoch [147/300] | Loss D: 3.185768804314648e-08 | Loss G: 55.005069732666016\n",
      "Epoch 148 duration :   7.482910394668579\n"
     ]
    },
    {
     "data": {
      "application/vnd.jupyter.widget-view+json": {
       "model_id": "8e568cf20a774f9585f42e7b768ba242",
       "version_major": 2,
       "version_minor": 0
      },
      "text/plain": [
       "  0%|          | 0/4 [00:00<?, ?it/s]"
      ]
     },
     "metadata": {},
     "output_type": "display_data"
    },
    {
     "name": "stdout",
     "output_type": "stream",
     "text": [
      "Epoch [148/300] | Loss D: 3.3913075014879723e-08 | Loss G: 55.005069732666016\n",
      "Epoch 149 duration :   3.5154809951782227\n"
     ]
    },
    {
     "data": {
      "application/vnd.jupyter.widget-view+json": {
       "model_id": "7613e07021914b46977d48369a0d9f00",
       "version_major": 2,
       "version_minor": 0
      },
      "text/plain": [
       "  0%|          | 0/4 [00:00<?, ?it/s]"
      ]
     },
     "metadata": {},
     "output_type": "display_data"
    },
    {
     "name": "stdout",
     "output_type": "stream",
     "text": [
      "Epoch [149/300] | Loss D: 1.027666485242662e-08 | Loss G: 55.005069732666016\n",
      "Epoch 150 duration :   3.645252227783203\n"
     ]
    },
    {
     "data": {
      "application/vnd.jupyter.widget-view+json": {
       "model_id": "a14074f1386c4152be98cc7ce0bc6843",
       "version_major": 2,
       "version_minor": 0
      },
      "text/plain": [
       "  0%|          | 0/4 [00:00<?, ?it/s]"
      ]
     },
     "metadata": {},
     "output_type": "display_data"
    },
    {
     "name": "stdout",
     "output_type": "stream",
     "text": [
      "Epoch [150/300] | Loss D: 3.545453353126504e-08 | Loss G: 55.244014739990234\n",
      "Epoch 151 duration :   24.04840588569641\n"
     ]
    },
    {
     "data": {
      "application/vnd.jupyter.widget-view+json": {
       "model_id": "e3864e80555e4c46871995415956ba1d",
       "version_major": 2,
       "version_minor": 0
      },
      "text/plain": [
       "  0%|          | 0/4 [00:00<?, ?it/s]"
      ]
     },
     "metadata": {},
     "output_type": "display_data"
    },
    {
     "name": "stdout",
     "output_type": "stream",
     "text": [
      "Epoch [151/300] | Loss D: 2.8260854989525797e-08 | Loss G: 55.244014739990234\n",
      "Epoch 152 duration :   4.962239742279053\n"
     ]
    },
    {
     "data": {
      "application/vnd.jupyter.widget-view+json": {
       "model_id": "8be2e9ac08074fde8fb98ee8dcbfa397",
       "version_major": 2,
       "version_minor": 0
      },
      "text/plain": [
       "  0%|          | 0/4 [00:00<?, ?it/s]"
      ]
     },
     "metadata": {},
     "output_type": "display_data"
    },
    {
     "name": "stdout",
     "output_type": "stream",
     "text": [
      "Epoch [152/300] | Loss D: 4.3675949967791894e-08 | Loss G: 55.244014739990234\n",
      "Epoch 153 duration :   3.9285361766815186\n"
     ]
    },
    {
     "data": {
      "application/vnd.jupyter.widget-view+json": {
       "model_id": "169f46d02b1b4a4b978d821c28552c53",
       "version_major": 2,
       "version_minor": 0
      },
      "text/plain": [
       "  0%|          | 0/4 [00:00<?, ?it/s]"
      ]
     },
     "metadata": {},
     "output_type": "display_data"
    },
    {
     "name": "stdout",
     "output_type": "stream",
     "text": [
      "Epoch [153/300] | Loss D: 1.027666574060504e-08 | Loss G: 55.232200622558594\n",
      "Epoch 154 duration :   8.368264436721802\n"
     ]
    },
    {
     "data": {
      "application/vnd.jupyter.widget-view+json": {
       "model_id": "4db330e47c5744be8694f10a9edb8bb0",
       "version_major": 2,
       "version_minor": 0
      },
      "text/plain": [
       "  0%|          | 0/4 [00:00<?, ?it/s]"
      ]
     },
     "metadata": {},
     "output_type": "display_data"
    },
    {
     "name": "stdout",
     "output_type": "stream",
     "text": [
      "Epoch [154/300] | Loss D: 3.1857680937719124e-08 | Loss G: 55.232200622558594\n",
      "Epoch 155 duration :   4.0320985317230225\n"
     ]
    },
    {
     "data": {
      "application/vnd.jupyter.widget-view+json": {
       "model_id": "9e4bc7bfa98d49719a3aea26918058dd",
       "version_major": 2,
       "version_minor": 0
      },
      "text/plain": [
       "  0%|          | 0/4 [00:00<?, ?it/s]"
      ]
     },
     "metadata": {},
     "output_type": "display_data"
    },
    {
     "name": "stdout",
     "output_type": "stream",
     "text": [
      "Epoch [155/300] | Loss D: 7.19366521906295e-09 | Loss G: 55.232200622558594\n",
      "Epoch 156 duration :   3.989231586456299\n"
     ]
    },
    {
     "data": {
      "application/vnd.jupyter.widget-view+json": {
       "model_id": "b876f3da8899439aa73d328930790c65",
       "version_major": 2,
       "version_minor": 0
      },
      "text/plain": [
       "  0%|          | 0/4 [00:00<?, ?it/s]"
      ]
     },
     "metadata": {},
     "output_type": "display_data"
    },
    {
     "name": "stdout",
     "output_type": "stream",
     "text": [
      "Epoch [156/300] | Loss D: 1.130433169294065e-08 | Loss G: 55.5841178894043\n",
      "Epoch 157 duration :   8.285181760787964\n"
     ]
    },
    {
     "data": {
      "application/vnd.jupyter.widget-view+json": {
       "model_id": "6bebf4d963424df88c7cb2eca1db2545",
       "version_major": 2,
       "version_minor": 0
      },
      "text/plain": [
       "  0%|          | 0/4 [00:00<?, ?it/s]"
      ]
     },
     "metadata": {},
     "output_type": "display_data"
    },
    {
     "name": "stdout",
     "output_type": "stream",
     "text": [
      "Epoch [157/300] | Loss D: 2.0039504278202003e-08 | Loss G: 55.5841178894043\n",
      "Epoch 158 duration :   3.9841148853302\n"
     ]
    },
    {
     "data": {
      "application/vnd.jupyter.widget-view+json": {
       "model_id": "a22940eeea3a4bb59ceda0ead31d7afe",
       "version_major": 2,
       "version_minor": 0
      },
      "text/plain": [
       "  0%|          | 0/4 [00:00<?, ?it/s]"
      ]
     },
     "metadata": {},
     "output_type": "display_data"
    },
    {
     "name": "stdout",
     "output_type": "stream",
     "text": [
      "Epoch [158/300] | Loss D: 1.2845838170960633e-08 | Loss G: 55.5841178894043\n",
      "Epoch 159 duration :   3.9919521808624268\n"
     ]
    },
    {
     "data": {
      "application/vnd.jupyter.widget-view+json": {
       "model_id": "0f7759ef7f324c76b569324f7997be08",
       "version_major": 2,
       "version_minor": 0
      },
      "text/plain": [
       "  0%|          | 0/4 [00:00<?, ?it/s]"
      ]
     },
     "metadata": {},
     "output_type": "display_data"
    },
    {
     "name": "stdout",
     "output_type": "stream",
     "text": [
      "Epoch [159/300] | Loss D: 3.494071521004116e-08 | Loss G: 55.92936706542969\n",
      "Epoch 160 duration :   8.261556148529053\n"
     ]
    },
    {
     "data": {
      "application/vnd.jupyter.widget-view+json": {
       "model_id": "69a19e6c428e4f48a63390a960ea98ff",
       "version_major": 2,
       "version_minor": 0
      },
      "text/plain": [
       "  0%|          | 0/4 [00:00<?, ?it/s]"
      ]
     },
     "metadata": {},
     "output_type": "display_data"
    },
    {
     "name": "stdout",
     "output_type": "stream",
     "text": [
      "Epoch [160/300] | Loss D: 2.569166213106655e-09 | Loss G: 55.92936706542969\n",
      "Epoch 161 duration :   4.000602722167969\n"
     ]
    },
    {
     "data": {
      "application/vnd.jupyter.widget-view+json": {
       "model_id": "ca45ac6822fe489c8692da11997307b6",
       "version_major": 2,
       "version_minor": 0
      },
      "text/plain": [
       "  0%|          | 0/4 [00:00<?, ?it/s]"
      ]
     },
     "metadata": {},
     "output_type": "display_data"
    },
    {
     "name": "stdout",
     "output_type": "stream",
     "text": [
      "Epoch [161/300] | Loss D: 5.652165402381115e-09 | Loss G: 55.92936706542969\n",
      "Epoch 162 duration :   3.990344762802124\n"
     ]
    },
    {
     "data": {
      "application/vnd.jupyter.widget-view+json": {
       "model_id": "0ae87521914a4a43962f7466b55bab48",
       "version_major": 2,
       "version_minor": 0
      },
      "text/plain": [
       "  0%|          | 0/4 [00:00<?, ?it/s]"
      ]
     },
     "metadata": {},
     "output_type": "display_data"
    },
    {
     "name": "stdout",
     "output_type": "stream",
     "text": [
      "Epoch [162/300] | Loss D: 1.23319994216331e-08 | Loss G: 56.28577423095703\n",
      "Epoch 163 duration :   8.188615322113037\n"
     ]
    },
    {
     "data": {
      "application/vnd.jupyter.widget-view+json": {
       "model_id": "e08f39814d5943f780b7d09ebe62dce5",
       "version_major": 2,
       "version_minor": 0
      },
      "text/plain": [
       "  0%|          | 0/4 [00:00<?, ?it/s]"
      ]
     },
     "metadata": {},
     "output_type": "display_data"
    },
    {
     "name": "stdout",
     "output_type": "stream",
     "text": [
      "Epoch [163/300] | Loss D: 8.735164591655575e-09 | Loss G: 56.28577423095703\n",
      "Epoch 164 duration :   4.111145734786987\n"
     ]
    },
    {
     "data": {
      "application/vnd.jupyter.widget-view+json": {
       "model_id": "b399e16ee099483885535cd6564e8453",
       "version_major": 2,
       "version_minor": 0
      },
      "text/plain": [
       "  0%|          | 0/4 [00:00<?, ?it/s]"
      ]
     },
     "metadata": {},
     "output_type": "display_data"
    },
    {
     "name": "stdout",
     "output_type": "stream",
     "text": [
      "Epoch [164/300] | Loss D: 9.762834096704864e-09 | Loss G: 56.28577423095703\n",
      "Epoch 165 duration :   4.00182580947876\n"
     ]
    },
    {
     "data": {
      "application/vnd.jupyter.widget-view+json": {
       "model_id": "fdec853fbb6d4906832d3c4d755ddb11",
       "version_major": 2,
       "version_minor": 0
      },
      "text/plain": [
       "  0%|          | 0/4 [00:00<?, ?it/s]"
      ]
     },
     "metadata": {},
     "output_type": "display_data"
    },
    {
     "name": "stdout",
     "output_type": "stream",
     "text": [
      "Epoch [165/300] | Loss D: 1.541500083135361e-08 | Loss G: 56.36058807373047\n",
      "Epoch 166 duration :   8.247268199920654\n"
     ]
    },
    {
     "data": {
      "application/vnd.jupyter.widget-view+json": {
       "model_id": "4c1501f3c147429daa9b9ab1daa6f1f1",
       "version_major": 2,
       "version_minor": 0
      },
      "text/plain": [
       "  0%|          | 0/4 [00:00<?, ?it/s]"
      ]
     },
     "metadata": {},
     "output_type": "display_data"
    },
    {
     "name": "stdout",
     "output_type": "stream",
     "text": [
      "Epoch [166/300] | Loss D: 4.624499005956295e-09 | Loss G: 56.36058807373047\n",
      "Epoch 167 duration :   4.00471305847168\n"
     ]
    },
    {
     "data": {
      "application/vnd.jupyter.widget-view+json": {
       "model_id": "67a5861eed66426d80510ad3b7fa2342",
       "version_major": 2,
       "version_minor": 0
      },
      "text/plain": [
       "  0%|          | 0/4 [00:00<?, ?it/s]"
      ]
     },
     "metadata": {},
     "output_type": "display_data"
    },
    {
     "name": "stdout",
     "output_type": "stream",
     "text": [
      "Epoch [167/300] | Loss D: 7.19366566315216e-09 | Loss G: 56.36058807373047\n",
      "Epoch 168 duration :   3.960153818130493\n"
     ]
    },
    {
     "data": {
      "application/vnd.jupyter.widget-view+json": {
       "model_id": "b38da9a248154b208d163dbc13515ee2",
       "version_major": 2,
       "version_minor": 0
      },
      "text/plain": [
       "  0%|          | 0/4 [00:00<?, ?it/s]"
      ]
     },
     "metadata": {},
     "output_type": "display_data"
    },
    {
     "name": "stdout",
     "output_type": "stream",
     "text": [
      "Epoch [168/300] | Loss D: 4.0079065399822866e-08 | Loss G: 56.72072982788086\n",
      "Epoch 169 duration :   8.302916526794434\n"
     ]
    },
    {
     "data": {
      "application/vnd.jupyter.widget-view+json": {
       "model_id": "40064b4f45e0418cb452d1bfdd8fd943",
       "version_major": 2,
       "version_minor": 0
      },
      "text/plain": [
       "  0%|          | 0/4 [00:00<?, ?it/s]"
      ]
     },
     "metadata": {},
     "output_type": "display_data"
    },
    {
     "name": "stdout",
     "output_type": "stream",
     "text": [
      "Epoch [169/300] | Loss D: 3.18577519919927e-08 | Loss G: 56.72072982788086\n",
      "Epoch 170 duration :   4.003286838531494\n"
     ]
    },
    {
     "data": {
      "application/vnd.jupyter.widget-view+json": {
       "model_id": "0cfb4022dfc241bf948dc8b93150d98f",
       "version_major": 2,
       "version_minor": 0
      },
      "text/plain": [
       "  0%|          | 0/4 [00:00<?, ?it/s]"
      ]
     },
     "metadata": {},
     "output_type": "display_data"
    },
    {
     "name": "stdout",
     "output_type": "stream",
     "text": [
      "Epoch [170/300] | Loss D: 4.11066602978849e-09 | Loss G: 56.72072982788086\n",
      "Epoch 171 duration :   3.955791473388672\n"
     ]
    },
    {
     "data": {
      "application/vnd.jupyter.widget-view+json": {
       "model_id": "858e894331684e2da75241edee95f029",
       "version_major": 2,
       "version_minor": 0
      },
      "text/plain": [
       "  0%|          | 0/4 [00:00<?, ?it/s]"
      ]
     },
     "metadata": {},
     "output_type": "display_data"
    },
    {
     "name": "stdout",
     "output_type": "stream",
     "text": [
      "Epoch [171/300] | Loss D: 4.624499005956295e-09 | Loss G: 56.47386169433594\n",
      "Epoch 172 duration :   8.373409986495972\n"
     ]
    },
    {
     "data": {
      "application/vnd.jupyter.widget-view+json": {
       "model_id": "f2ab5f33a8f742888fe08213811e83f5",
       "version_major": 2,
       "version_minor": 0
      },
      "text/plain": [
       "  0%|          | 0/4 [00:00<?, ?it/s]"
      ]
     },
     "metadata": {},
     "output_type": "display_data"
    },
    {
     "name": "stdout",
     "output_type": "stream",
     "text": [
      "Epoch [172/300] | Loss D: 1.0276671957853978e-08 | Loss G: 56.47386169433594\n",
      "Epoch 173 duration :   4.041529893875122\n"
     ]
    },
    {
     "data": {
      "application/vnd.jupyter.widget-view+json": {
       "model_id": "9c1c359475764ce7860f670b048a1f15",
       "version_major": 2,
       "version_minor": 0
      },
      "text/plain": [
       "  0%|          | 0/4 [00:00<?, ?it/s]"
      ]
     },
     "metadata": {},
     "output_type": "display_data"
    },
    {
     "name": "stdout",
     "output_type": "stream",
     "text": [
      "Epoch [173/300] | Loss D: 4.11066558569928e-09 | Loss G: 56.47386169433594\n",
      "Epoch 174 duration :   3.9645841121673584\n"
     ]
    },
    {
     "data": {
      "application/vnd.jupyter.widget-view+json": {
       "model_id": "e376695931084b4fb3877f2fc7296554",
       "version_major": 2,
       "version_minor": 0
      },
      "text/plain": [
       "  0%|          | 0/4 [00:00<?, ?it/s]"
      ]
     },
     "metadata": {},
     "output_type": "display_data"
    },
    {
     "name": "stdout",
     "output_type": "stream",
     "text": [
      "Epoch [174/300] | Loss D: 1.1818173106803442e-08 | Loss G: 56.88542175292969\n",
      "Epoch 175 duration :   8.234289169311523\n"
     ]
    },
    {
     "data": {
      "application/vnd.jupyter.widget-view+json": {
       "model_id": "1c5383c340fd449a83585bb5900f6ad7",
       "version_major": 2,
       "version_minor": 0
      },
      "text/plain": [
       "  0%|          | 0/4 [00:00<?, ?it/s]"
      ]
     },
     "metadata": {},
     "output_type": "display_data"
    },
    {
     "name": "stdout",
     "output_type": "stream",
     "text": [
      "Epoch [175/300] | Loss D: 6.679831798805935e-09 | Loss G: 56.88542175292969\n",
      "Epoch 176 duration :   3.980013370513916\n"
     ]
    },
    {
     "data": {
      "application/vnd.jupyter.widget-view+json": {
       "model_id": "fc8a3d0ff8044b1b99a3484db3806ae3",
       "version_major": 2,
       "version_minor": 0
      },
      "text/plain": [
       "  0%|          | 0/4 [00:00<?, ?it/s]"
      ]
     },
     "metadata": {},
     "output_type": "display_data"
    },
    {
     "name": "stdout",
     "output_type": "stream",
     "text": [
      "Epoch [176/300] | Loss D: 5.13833242621331e-09 | Loss G: 56.88542175292969\n",
      "Epoch 177 duration :   3.907269239425659\n"
     ]
    },
    {
     "data": {
      "application/vnd.jupyter.widget-view+json": {
       "model_id": "4d74d1bb41ca4a3ab67a912460257905",
       "version_major": 2,
       "version_minor": 0
      },
      "text/plain": [
       "  0%|          | 0/4 [00:00<?, ?it/s]"
      ]
     },
     "metadata": {},
     "output_type": "display_data"
    },
    {
     "name": "stdout",
     "output_type": "stream",
     "text": [
      "Epoch [177/300] | Loss D: 5.652165402381115e-09 | Loss G: 57.0154914855957\n",
      "Epoch 178 duration :   8.216790437698364\n"
     ]
    },
    {
     "data": {
      "application/vnd.jupyter.widget-view+json": {
       "model_id": "0e4731c405da4ee7b1ca250d8d8ada94",
       "version_major": 2,
       "version_minor": 0
      },
      "text/plain": [
       "  0%|          | 0/4 [00:00<?, ?it/s]"
      ]
     },
     "metadata": {},
     "output_type": "display_data"
    },
    {
     "name": "stdout",
     "output_type": "stream",
     "text": [
      "Epoch [178/300] | Loss D: 9.762832320348025e-09 | Loss G: 57.0154914855957\n",
      "Epoch 179 duration :   4.015050888061523\n"
     ]
    },
    {
     "data": {
      "application/vnd.jupyter.widget-view+json": {
       "model_id": "00d0bba1d7ad463eb0c2a4882c502b0c",
       "version_major": 2,
       "version_minor": 0
      },
      "text/plain": [
       "  0%|          | 0/4 [00:00<?, ?it/s]"
      ]
     },
     "metadata": {},
     "output_type": "display_data"
    },
    {
     "name": "stdout",
     "output_type": "stream",
     "text": [
      "Epoch [179/300] | Loss D: 4.624499005956295e-09 | Loss G: 57.0154914855957\n",
      "Epoch 180 duration :   3.958543539047241\n"
     ]
    },
    {
     "data": {
      "application/vnd.jupyter.widget-view+json": {
       "model_id": "843e48999dc6465d8d6a378fd22a5bc9",
       "version_major": 2,
       "version_minor": 0
      },
      "text/plain": [
       "  0%|          | 0/4 [00:00<?, ?it/s]"
      ]
     },
     "metadata": {},
     "output_type": "display_data"
    },
    {
     "name": "stdout",
     "output_type": "stream",
     "text": [
      "Epoch [180/300] | Loss D: 8.838000553623715e-08 | Loss G: 57.12899398803711\n",
      "Epoch 181 duration :   22.362873792648315\n"
     ]
    },
    {
     "data": {
      "application/vnd.jupyter.widget-view+json": {
       "model_id": "0647ea1cf3e94c48a9be3b1bb2919c0a",
       "version_major": 2,
       "version_minor": 0
      },
      "text/plain": [
       "  0%|          | 0/4 [00:00<?, ?it/s]"
      ]
     },
     "metadata": {},
     "output_type": "display_data"
    },
    {
     "name": "stdout",
     "output_type": "stream",
     "text": [
      "Epoch [181/300] | Loss D: 1.3873498794225725e-08 | Loss G: 57.12899398803711\n",
      "Epoch 182 duration :   4.288933277130127\n"
     ]
    },
    {
     "data": {
      "application/vnd.jupyter.widget-view+json": {
       "model_id": "0972e0b553014adda572f172f49cdad5",
       "version_major": 2,
       "version_minor": 0
      },
      "text/plain": [
       "  0%|          | 0/4 [00:00<?, ?it/s]"
      ]
     },
     "metadata": {},
     "output_type": "display_data"
    },
    {
     "name": "stdout",
     "output_type": "stream",
     "text": [
      "Epoch [182/300] | Loss D: 1.1818166889554504e-08 | Loss G: 57.12899398803711\n",
      "Epoch 183 duration :   3.907745361328125\n"
     ]
    },
    {
     "data": {
      "application/vnd.jupyter.widget-view+json": {
       "model_id": "82fb587fdfc442a9b94d1a9bb32ed913",
       "version_major": 2,
       "version_minor": 0
      },
      "text/plain": [
       "  0%|          | 0/4 [00:00<?, ?it/s]"
      ]
     },
     "metadata": {},
     "output_type": "display_data"
    },
    {
     "name": "stdout",
     "output_type": "stream",
     "text": [
      "Epoch [183/300] | Loss D: 4.11066558569928e-09 | Loss G: 57.034175872802734\n",
      "Epoch 184 duration :   8.355727672576904\n"
     ]
    },
    {
     "data": {
      "application/vnd.jupyter.widget-view+json": {
       "model_id": "7c37bdf78255464bb546ffac84c01b2b",
       "version_major": 2,
       "version_minor": 0
      },
      "text/plain": [
       "  0%|          | 0/4 [00:00<?, ?it/s]"
      ]
     },
     "metadata": {},
     "output_type": "display_data"
    },
    {
     "name": "stdout",
     "output_type": "stream",
     "text": [
      "Epoch [184/300] | Loss D: 2.56916599106205e-09 | Loss G: 57.034175872802734\n",
      "Epoch 185 duration :   4.042395353317261\n"
     ]
    },
    {
     "data": {
      "application/vnd.jupyter.widget-view+json": {
       "model_id": "249acbc93ea54692b22c83de4b78fea6",
       "version_major": 2,
       "version_minor": 0
      },
      "text/plain": [
       "  0%|          | 0/4 [00:00<?, ?it/s]"
      ]
     },
     "metadata": {},
     "output_type": "display_data"
    },
    {
     "name": "stdout",
     "output_type": "stream",
     "text": [
      "Epoch [185/300] | Loss D: 5.1383319821241e-10 | Loss G: 57.034175872802734\n",
      "Epoch 186 duration :   3.7251338958740234\n"
     ]
    },
    {
     "data": {
      "application/vnd.jupyter.widget-view+json": {
       "model_id": "bbe344a089da47aba9c4e994156317a6",
       "version_major": 2,
       "version_minor": 0
      },
      "text/plain": [
       "  0%|          | 0/4 [00:00<?, ?it/s]"
      ]
     },
     "metadata": {},
     "output_type": "display_data"
    },
    {
     "name": "stdout",
     "output_type": "stream",
     "text": [
      "Epoch [186/300] | Loss D: 6.16599971081655e-09 | Loss G: 57.226165771484375\n",
      "Epoch 187 duration :   7.53767466545105\n"
     ]
    },
    {
     "data": {
      "application/vnd.jupyter.widget-view+json": {
       "model_id": "f0e128c18dbe4f06ac8b777fa3e68a30",
       "version_major": 2,
       "version_minor": 0
      },
      "text/plain": [
       "  0%|          | 0/4 [00:00<?, ?it/s]"
      ]
     },
     "metadata": {},
     "output_type": "display_data"
    },
    {
     "name": "stdout",
     "output_type": "stream",
     "text": [
      "Epoch [187/300] | Loss D: 9.24899890009101e-09 | Loss G: 57.226165771484375\n",
      "Epoch 188 duration :   3.670231580734253\n"
     ]
    },
    {
     "data": {
      "application/vnd.jupyter.widget-view+json": {
       "model_id": "6f9a83cc6eeb4cb4856e7e872d9fea37",
       "version_major": 2,
       "version_minor": 0
      },
      "text/plain": [
       "  0%|          | 0/4 [00:00<?, ?it/s]"
      ]
     },
     "metadata": {},
     "output_type": "display_data"
    },
    {
     "name": "stdout",
     "output_type": "stream",
     "text": [
      "Epoch [188/300] | Loss D: 3.59683283157608e-09 | Loss G: 57.226165771484375\n",
      "Epoch 189 duration :   3.7736783027648926\n"
     ]
    },
    {
     "data": {
      "application/vnd.jupyter.widget-view+json": {
       "model_id": "245cc21156fc464686c3d4f071031e27",
       "version_major": 2,
       "version_minor": 0
      },
      "text/plain": [
       "  0%|          | 0/4 [00:00<?, ?it/s]"
      ]
     },
     "metadata": {},
     "output_type": "display_data"
    },
    {
     "name": "stdout",
     "output_type": "stream",
     "text": [
      "Epoch [189/300] | Loss D: 3.596832609531475e-09 | Loss G: 57.44661331176758\n",
      "Epoch 190 duration :   8.204948663711548\n"
     ]
    },
    {
     "data": {
      "application/vnd.jupyter.widget-view+json": {
       "model_id": "b8f3f5d391974134b18f2bbcb793fb7f",
       "version_major": 2,
       "version_minor": 0
      },
      "text/plain": [
       "  0%|          | 0/4 [00:00<?, ?it/s]"
      ]
     },
     "metadata": {},
     "output_type": "display_data"
    },
    {
     "name": "stdout",
     "output_type": "stream",
     "text": [
      "Epoch [190/300] | Loss D: 1.02766639642482e-09 | Loss G: 57.44661331176758\n",
      "Epoch 191 duration :   3.983328342437744\n"
     ]
    },
    {
     "data": {
      "application/vnd.jupyter.widget-view+json": {
       "model_id": "e041738971884a889d6a4cff1d2f3fbb",
       "version_major": 2,
       "version_minor": 0
      },
      "text/plain": [
       "  0%|          | 0/4 [00:00<?, ?it/s]"
      ]
     },
     "metadata": {},
     "output_type": "display_data"
    },
    {
     "name": "stdout",
     "output_type": "stream",
     "text": [
      "Epoch [191/300] | Loss D: 6.679831798805935e-09 | Loss G: 57.44661331176758\n",
      "Epoch 192 duration :   3.960566997528076\n"
     ]
    },
    {
     "data": {
      "application/vnd.jupyter.widget-view+json": {
       "model_id": "0536758c498540a9bc7bb4a209a5f6b2",
       "version_major": 2,
       "version_minor": 0
      },
      "text/plain": [
       "  0%|          | 0/4 [00:00<?, ?it/s]"
      ]
     },
     "metadata": {},
     "output_type": "display_data"
    },
    {
     "name": "stdout",
     "output_type": "stream",
     "text": [
      "Epoch [192/300] | Loss D: 1.02766639642482e-09 | Loss G: 57.6600227355957\n",
      "Epoch 193 duration :   8.14569902420044\n"
     ]
    },
    {
     "data": {
      "application/vnd.jupyter.widget-view+json": {
       "model_id": "baaeab1e23394d73a59c8a9fedf3f0b9",
       "version_major": 2,
       "version_minor": 0
      },
      "text/plain": [
       "  0%|          | 0/4 [00:00<?, ?it/s]"
      ]
     },
     "metadata": {},
     "output_type": "display_data"
    },
    {
     "name": "stdout",
     "output_type": "stream",
     "text": [
      "Epoch [193/300] | Loss D: 9.762832320348025e-09 | Loss G: 57.6600227355957\n",
      "Epoch 194 duration :   3.9656965732574463\n"
     ]
    },
    {
     "data": {
      "application/vnd.jupyter.widget-view+json": {
       "model_id": "7e121455dfc64de38cf9b73a08687622",
       "version_major": 2,
       "version_minor": 0
      },
      "text/plain": [
       "  0%|          | 0/4 [00:00<?, ?it/s]"
      ]
     },
     "metadata": {},
     "output_type": "display_data"
    },
    {
     "name": "stdout",
     "output_type": "stream",
     "text": [
      "Epoch [194/300] | Loss D: 3.59683283157608e-09 | Loss G: 57.6600227355957\n",
      "Epoch 195 duration :   4.004366636276245\n"
     ]
    },
    {
     "data": {
      "application/vnd.jupyter.widget-view+json": {
       "model_id": "2e317c6ff837498bb1ff03d9d78a442f",
       "version_major": 2,
       "version_minor": 0
      },
      "text/plain": [
       "  0%|          | 0/4 [00:00<?, ?it/s]"
      ]
     },
     "metadata": {},
     "output_type": "display_data"
    },
    {
     "name": "stdout",
     "output_type": "stream",
     "text": [
      "Epoch [195/300] | Loss D: 5.1383319821241e-10 | Loss G: 57.62175369262695\n",
      "Epoch 196 duration :   8.2042977809906\n"
     ]
    },
    {
     "data": {
      "application/vnd.jupyter.widget-view+json": {
       "model_id": "9e601d5f6fc14b6f8fd206cbafe12ce0",
       "version_major": 2,
       "version_minor": 0
      },
      "text/plain": [
       "  0%|          | 0/4 [00:00<?, ?it/s]"
      ]
     },
     "metadata": {},
     "output_type": "display_data"
    },
    {
     "name": "stdout",
     "output_type": "stream",
     "text": [
      "Epoch [196/300] | Loss D: 3.596832609531475e-09 | Loss G: 57.62175369262695\n",
      "Epoch 197 duration :   4.088232040405273\n"
     ]
    },
    {
     "data": {
      "application/vnd.jupyter.widget-view+json": {
       "model_id": "2c3ac59da2774411989beabcfb3a4796",
       "version_major": 2,
       "version_minor": 0
      },
      "text/plain": [
       "  0%|          | 0/4 [00:00<?, ?it/s]"
      ]
     },
     "metadata": {},
     "output_type": "display_data"
    },
    {
     "name": "stdout",
     "output_type": "stream",
     "text": [
      "Epoch [197/300] | Loss D: 6.6798340192519845e-09 | Loss G: 57.62175369262695\n",
      "Epoch 198 duration :   4.022902965545654\n"
     ]
    },
    {
     "data": {
      "application/vnd.jupyter.widget-view+json": {
       "model_id": "96107efea3a742818f82ea54ad916c5c",
       "version_major": 2,
       "version_minor": 0
      },
      "text/plain": [
       "  0%|          | 0/4 [00:00<?, ?it/s]"
      ]
     },
     "metadata": {},
     "output_type": "display_data"
    },
    {
     "name": "stdout",
     "output_type": "stream",
     "text": [
      "Epoch [198/300] | Loss D: 6.16600015490576e-09 | Loss G: 57.73350524902344\n",
      "Epoch 199 duration :   8.32447338104248\n"
     ]
    },
    {
     "data": {
      "application/vnd.jupyter.widget-view+json": {
       "model_id": "ce9a757633d74984a103826d50e1e47e",
       "version_major": 2,
       "version_minor": 0
      },
      "text/plain": [
       "  0%|          | 0/4 [00:00<?, ?it/s]"
      ]
     },
     "metadata": {},
     "output_type": "display_data"
    },
    {
     "name": "stdout",
     "output_type": "stream",
     "text": [
      "Epoch [199/300] | Loss D: 3.082999411319065e-09 | Loss G: 57.73350524902344\n",
      "Epoch 200 duration :   4.060833215713501\n"
     ]
    },
    {
     "data": {
      "application/vnd.jupyter.widget-view+json": {
       "model_id": "b098255eb12c4fc8bb345eff08b6696a",
       "version_major": 2,
       "version_minor": 0
      },
      "text/plain": [
       "  0%|          | 0/4 [00:00<?, ?it/s]"
      ]
     },
     "metadata": {},
     "output_type": "display_data"
    },
    {
     "name": "stdout",
     "output_type": "stream",
     "text": [
      "Epoch [200/300] | Loss D: 5.1383319821241e-10 | Loss G: 57.73350524902344\n",
      "Epoch 201 duration :   3.9952480792999268\n"
     ]
    },
    {
     "data": {
      "application/vnd.jupyter.widget-view+json": {
       "model_id": "a9e3a66d36f04edfa912b2e9a264bc5a",
       "version_major": 2,
       "version_minor": 0
      },
      "text/plain": [
       "  0%|          | 0/4 [00:00<?, ?it/s]"
      ]
     },
     "metadata": {},
     "output_type": "display_data"
    },
    {
     "name": "stdout",
     "output_type": "stream",
     "text": [
      "Epoch [201/300] | Loss D: 3.082999411319065e-09 | Loss G: 57.680030822753906\n",
      "Epoch 202 duration :   8.280734062194824\n"
     ]
    },
    {
     "data": {
      "application/vnd.jupyter.widget-view+json": {
       "model_id": "fcfe2358f73640f49d313df569f38441",
       "version_major": 2,
       "version_minor": 0
      },
      "text/plain": [
       "  0%|          | 0/4 [00:00<?, ?it/s]"
      ]
     },
     "metadata": {},
     "output_type": "display_data"
    },
    {
     "name": "stdout",
     "output_type": "stream",
     "text": [
      "Epoch [202/300] | Loss D: 2.569166213106655e-09 | Loss G: 57.680030822753906\n",
      "Epoch 203 duration :   4.028409242630005\n"
     ]
    },
    {
     "data": {
      "application/vnd.jupyter.widget-view+json": {
       "model_id": "1c390673caf24d60a5b0c606ff612e2c",
       "version_major": 2,
       "version_minor": 0
      },
      "text/plain": [
       "  0%|          | 0/4 [00:00<?, ?it/s]"
      ]
     },
     "metadata": {},
     "output_type": "display_data"
    },
    {
     "name": "stdout",
     "output_type": "stream",
     "text": [
      "Epoch [203/300] | Loss D: 5.1383319821241e-10 | Loss G: 57.680030822753906\n",
      "Epoch 204 duration :   3.9831249713897705\n"
     ]
    },
    {
     "data": {
      "application/vnd.jupyter.widget-view+json": {
       "model_id": "c36e349848c44757a09f87ae4bf6ff82",
       "version_major": 2,
       "version_minor": 0
      },
      "text/plain": [
       "  0%|          | 0/4 [00:00<?, ?it/s]"
      ]
     },
     "metadata": {},
     "output_type": "display_data"
    },
    {
     "name": "stdout",
     "output_type": "stream",
     "text": [
      "Epoch [204/300] | Loss D: 2.56916599106205e-09 | Loss G: 57.616790771484375\n",
      "Epoch 205 duration :   8.275289297103882\n"
     ]
    },
    {
     "data": {
      "application/vnd.jupyter.widget-view+json": {
       "model_id": "a9f6c878e83e466f9cc0d6ec689ab611",
       "version_major": 2,
       "version_minor": 0
      },
      "text/plain": [
       "  0%|          | 0/4 [00:00<?, ?it/s]"
      ]
     },
     "metadata": {},
     "output_type": "display_data"
    },
    {
     "name": "stdout",
     "output_type": "stream",
     "text": [
      "Epoch [205/300] | Loss D: 1.5414997056595325e-09 | Loss G: 57.616790771484375\n",
      "Epoch 206 duration :   3.999116897583008\n"
     ]
    },
    {
     "data": {
      "application/vnd.jupyter.widget-view+json": {
       "model_id": "949bfd6d99824c2eb88e1fc9aa50bbdf",
       "version_major": 2,
       "version_minor": 0
      },
      "text/plain": [
       "  0%|          | 0/4 [00:00<?, ?it/s]"
      ]
     },
     "metadata": {},
     "output_type": "display_data"
    },
    {
     "name": "stdout",
     "output_type": "stream",
     "text": [
      "Epoch [206/300] | Loss D: 6.16599882263813e-09 | Loss G: 57.616790771484375\n",
      "Epoch 207 duration :   4.014776706695557\n"
     ]
    },
    {
     "data": {
      "application/vnd.jupyter.widget-view+json": {
       "model_id": "d51bb9772b20456197058bcd43e7e708",
       "version_major": 2,
       "version_minor": 0
      },
      "text/plain": [
       "  0%|          | 0/4 [00:00<?, ?it/s]"
      ]
     },
     "metadata": {},
     "output_type": "display_data"
    },
    {
     "name": "stdout",
     "output_type": "stream",
     "text": [
      "Epoch [207/300] | Loss D: 3.082999411319065e-09 | Loss G: 58.13689041137695\n",
      "Epoch 208 duration :   8.268779993057251\n"
     ]
    },
    {
     "data": {
      "application/vnd.jupyter.widget-view+json": {
       "model_id": "b38f3e142f994c8db419373117403ad1",
       "version_major": 2,
       "version_minor": 0
      },
      "text/plain": [
       "  0%|          | 0/4 [00:00<?, ?it/s]"
      ]
     },
     "metadata": {},
     "output_type": "display_data"
    },
    {
     "name": "stdout",
     "output_type": "stream",
     "text": [
      "Epoch [208/300] | Loss D: 2.05533279284964e-09 | Loss G: 58.13689041137695\n",
      "Epoch 209 duration :   4.092724323272705\n"
     ]
    },
    {
     "data": {
      "application/vnd.jupyter.widget-view+json": {
       "model_id": "802a1bf768594652a74dcd0da128abc3",
       "version_major": 2,
       "version_minor": 0
      },
      "text/plain": [
       "  0%|          | 0/4 [00:00<?, ?it/s]"
      ]
     },
     "metadata": {},
     "output_type": "display_data"
    },
    {
     "name": "stdout",
     "output_type": "stream",
     "text": [
      "Epoch [209/300] | Loss D: 2.05533279284964e-09 | Loss G: 58.13689041137695\n",
      "Epoch 210 duration :   4.024078607559204\n"
     ]
    },
    {
     "data": {
      "application/vnd.jupyter.widget-view+json": {
       "model_id": "e6d22092fdb54f0f8126784af1eb1ad2",
       "version_major": 2,
       "version_minor": 0
      },
      "text/plain": [
       "  0%|          | 0/4 [00:00<?, ?it/s]"
      ]
     },
     "metadata": {},
     "output_type": "display_data"
    },
    {
     "name": "stdout",
     "output_type": "stream",
     "text": [
      "Epoch [210/300] | Loss D: 6.679834907430404e-09 | Loss G: 58.22787857055664\n",
      "Epoch 211 duration :   21.809019088745117\n"
     ]
    },
    {
     "data": {
      "application/vnd.jupyter.widget-view+json": {
       "model_id": "d51196a5975e446db9b0c99a284ad2f6",
       "version_major": 2,
       "version_minor": 0
      },
      "text/plain": [
       "  0%|          | 0/4 [00:00<?, ?it/s]"
      ]
     },
     "metadata": {},
     "output_type": "display_data"
    },
    {
     "name": "stdout",
     "output_type": "stream",
     "text": [
      "Epoch [211/300] | Loss D: 1.02766639642482e-09 | Loss G: 58.22787857055664\n",
      "Epoch 212 duration :   4.470388174057007\n"
     ]
    },
    {
     "data": {
      "application/vnd.jupyter.widget-view+json": {
       "model_id": "2952728309184f62a45690ecab1905f5",
       "version_major": 2,
       "version_minor": 0
      },
      "text/plain": [
       "  0%|          | 0/4 [00:00<?, ?it/s]"
      ]
     },
     "metadata": {},
     "output_type": "display_data"
    },
    {
     "name": "stdout",
     "output_type": "stream",
     "text": [
      "Epoch [212/300] | Loss D: 5.1383319821241e-10 | Loss G: 58.22787857055664\n",
      "Epoch 213 duration :   3.915393590927124\n"
     ]
    },
    {
     "data": {
      "application/vnd.jupyter.widget-view+json": {
       "model_id": "2267bd08f2e040d5a5653fdd3543ef25",
       "version_major": 2,
       "version_minor": 0
      },
      "text/plain": [
       "  0%|          | 0/4 [00:00<?, ?it/s]"
      ]
     },
     "metadata": {},
     "output_type": "display_data"
    },
    {
     "name": "stdout",
     "output_type": "stream",
     "text": [
      "Epoch [213/300] | Loss D: 5.13833242621331e-09 | Loss G: 57.91394805908203\n",
      "Epoch 214 duration :   8.174756288528442\n"
     ]
    },
    {
     "data": {
      "application/vnd.jupyter.widget-view+json": {
       "model_id": "f4385a164eec4208a784e7c0c1c37f73",
       "version_major": 2,
       "version_minor": 0
      },
      "text/plain": [
       "  0%|          | 0/4 [00:00<?, ?it/s]"
      ]
     },
     "metadata": {},
     "output_type": "display_data"
    },
    {
     "name": "stdout",
     "output_type": "stream",
     "text": [
      "Epoch [214/300] | Loss D: 1.02766639642482e-09 | Loss G: 57.91394805908203\n",
      "Epoch 215 duration :   3.925396203994751\n"
     ]
    },
    {
     "data": {
      "application/vnd.jupyter.widget-view+json": {
       "model_id": "832304b9d9c14d8d88e109a1e45e0a34",
       "version_major": 2,
       "version_minor": 0
      },
      "text/plain": [
       "  0%|          | 0/4 [00:00<?, ?it/s]"
      ]
     },
     "metadata": {},
     "output_type": "display_data"
    },
    {
     "name": "stdout",
     "output_type": "stream",
     "text": [
      "Epoch [215/300] | Loss D: 1.02766639642482e-09 | Loss G: 57.91394805908203\n",
      "Epoch 216 duration :   3.894303560256958\n"
     ]
    },
    {
     "data": {
      "application/vnd.jupyter.widget-view+json": {
       "model_id": "4e7c92ac16134a63b6c9cd5e3553f2fd",
       "version_major": 2,
       "version_minor": 0
      },
      "text/plain": [
       "  0%|          | 0/4 [00:00<?, ?it/s]"
      ]
     },
     "metadata": {},
     "output_type": "display_data"
    },
    {
     "name": "stdout",
     "output_type": "stream",
     "text": [
      "Epoch [216/300] | Loss D: 2.569166213106655e-09 | Loss G: 58.08513641357422\n",
      "Epoch 217 duration :   8.242502212524414\n"
     ]
    },
    {
     "data": {
      "application/vnd.jupyter.widget-view+json": {
       "model_id": "1c4a63afa5d44c25a4173b51f9912b75",
       "version_major": 2,
       "version_minor": 0
      },
      "text/plain": [
       "  0%|          | 0/4 [00:00<?, ?it/s]"
      ]
     },
     "metadata": {},
     "output_type": "display_data"
    },
    {
     "name": "stdout",
     "output_type": "stream",
     "text": [
      "Epoch [217/300] | Loss D: 1.02766639642482e-09 | Loss G: 58.08513641357422\n",
      "Epoch 218 duration :   3.9739291667938232\n"
     ]
    },
    {
     "data": {
      "application/vnd.jupyter.widget-view+json": {
       "model_id": "e864f69d87c846dfae31000febd48fc5",
       "version_major": 2,
       "version_minor": 0
      },
      "text/plain": [
       "  0%|          | 0/4 [00:00<?, ?it/s]"
      ]
     },
     "metadata": {},
     "output_type": "display_data"
    },
    {
     "name": "stdout",
     "output_type": "stream",
     "text": [
      "Epoch [218/300] | Loss D: 2.56916599106205e-09 | Loss G: 58.08513641357422\n",
      "Epoch 219 duration :   3.938410520553589\n"
     ]
    },
    {
     "data": {
      "application/vnd.jupyter.widget-view+json": {
       "model_id": "54436dd513d445e18025a729a696d871",
       "version_major": 2,
       "version_minor": 0
      },
      "text/plain": [
       "  0%|          | 0/4 [00:00<?, ?it/s]"
      ]
     },
     "metadata": {},
     "output_type": "display_data"
    },
    {
     "name": "stdout",
     "output_type": "stream",
     "text": [
      "Epoch [219/300] | Loss D: 4.6600793617235166e-23 | Loss G: 58.103851318359375\n",
      "Epoch 220 duration :   8.076000690460205\n"
     ]
    },
    {
     "data": {
      "application/vnd.jupyter.widget-view+json": {
       "model_id": "d31a18b564c44b1a9a6929d4c8d80c6d",
       "version_major": 2,
       "version_minor": 0
      },
      "text/plain": [
       "  0%|          | 0/4 [00:00<?, ?it/s]"
      ]
     },
     "metadata": {},
     "output_type": "display_data"
    },
    {
     "name": "stdout",
     "output_type": "stream",
     "text": [
      "Epoch [220/300] | Loss D: 1.02766639642482e-09 | Loss G: 58.103851318359375\n",
      "Epoch 221 duration :   3.9541890621185303\n"
     ]
    },
    {
     "data": {
      "application/vnd.jupyter.widget-view+json": {
       "model_id": "fa80aaf2d3db43cdb68c8a8be2098565",
       "version_major": 2,
       "version_minor": 0
      },
      "text/plain": [
       "  0%|          | 0/4 [00:00<?, ?it/s]"
      ]
     },
     "metadata": {},
     "output_type": "display_data"
    },
    {
     "name": "stdout",
     "output_type": "stream",
     "text": [
      "Epoch [221/300] | Loss D: 1.5414997056595325e-09 | Loss G: 58.103851318359375\n",
      "Epoch 222 duration :   3.957550048828125\n"
     ]
    },
    {
     "data": {
      "application/vnd.jupyter.widget-view+json": {
       "model_id": "f800356369aa456fa3d1e11df447f54b",
       "version_major": 2,
       "version_minor": 0
      },
      "text/plain": [
       "  0%|          | 0/4 [00:00<?, ?it/s]"
      ]
     },
     "metadata": {},
     "output_type": "display_data"
    },
    {
     "name": "stdout",
     "output_type": "stream",
     "text": [
      "Epoch [222/300] | Loss D: 1.5414997056595325e-09 | Loss G: 58.145591735839844\n",
      "Epoch 223 duration :   8.127973318099976\n"
     ]
    },
    {
     "data": {
      "application/vnd.jupyter.widget-view+json": {
       "model_id": "57309c130073449b88da2d990c28a877",
       "version_major": 2,
       "version_minor": 0
      },
      "text/plain": [
       "  0%|          | 0/4 [00:00<?, ?it/s]"
      ]
     },
     "metadata": {},
     "output_type": "display_data"
    },
    {
     "name": "stdout",
     "output_type": "stream",
     "text": [
      "Epoch [223/300] | Loss D: 1.1374735275953761e-23 | Loss G: 58.145591735839844\n",
      "Epoch 224 duration :   3.9103944301605225\n"
     ]
    },
    {
     "data": {
      "application/vnd.jupyter.widget-view+json": {
       "model_id": "42be66275b0c48f985c32ea26d3564f0",
       "version_major": 2,
       "version_minor": 0
      },
      "text/plain": [
       "  0%|          | 0/4 [00:00<?, ?it/s]"
      ]
     },
     "metadata": {},
     "output_type": "display_data"
    },
    {
     "name": "stdout",
     "output_type": "stream",
     "text": [
      "Epoch [224/300] | Loss D: 3.082999411319065e-09 | Loss G: 58.145591735839844\n",
      "Epoch 225 duration :   4.000047922134399\n"
     ]
    },
    {
     "data": {
      "application/vnd.jupyter.widget-view+json": {
       "model_id": "e48d7a2d75a045bd8d633efdb5e10a00",
       "version_major": 2,
       "version_minor": 0
      },
      "text/plain": [
       "  0%|          | 0/4 [00:00<?, ?it/s]"
      ]
     },
     "metadata": {},
     "output_type": "display_data"
    },
    {
     "name": "stdout",
     "output_type": "stream",
     "text": [
      "Epoch [225/300] | Loss D: 1.5414997056595325e-09 | Loss G: 58.49040603637695\n",
      "Epoch 226 duration :   8.10858964920044\n"
     ]
    },
    {
     "data": {
      "application/vnd.jupyter.widget-view+json": {
       "model_id": "f08b33f8de4847fbb7d6f06ae9f48333",
       "version_major": 2,
       "version_minor": 0
      },
      "text/plain": [
       "  0%|          | 0/4 [00:00<?, ?it/s]"
      ]
     },
     "metadata": {},
     "output_type": "display_data"
    },
    {
     "name": "stdout",
     "output_type": "stream",
     "text": [
      "Epoch [226/300] | Loss D: 1.02766639642482e-09 | Loss G: 58.49040603637695\n",
      "Epoch 227 duration :   3.965986490249634\n"
     ]
    },
    {
     "data": {
      "application/vnd.jupyter.widget-view+json": {
       "model_id": "078dbc566c6f4a29bebb92307bfec2fb",
       "version_major": 2,
       "version_minor": 0
      },
      "text/plain": [
       "  0%|          | 0/4 [00:00<?, ?it/s]"
      ]
     },
     "metadata": {},
     "output_type": "display_data"
    },
    {
     "name": "stdout",
     "output_type": "stream",
     "text": [
      "Epoch [227/300] | Loss D: 1.02766639642482e-09 | Loss G: 58.49040603637695\n",
      "Epoch 228 duration :   3.9678146839141846\n"
     ]
    },
    {
     "data": {
      "application/vnd.jupyter.widget-view+json": {
       "model_id": "90c6830f344840a9b83fc9e8c7fa5768",
       "version_major": 2,
       "version_minor": 0
      },
      "text/plain": [
       "  0%|          | 0/4 [00:00<?, ?it/s]"
      ]
     },
     "metadata": {},
     "output_type": "display_data"
    },
    {
     "name": "stdout",
     "output_type": "stream",
     "text": [
      "Epoch [228/300] | Loss D: 3.596832609531475e-09 | Loss G: 58.419151306152344\n",
      "Epoch 229 duration :   8.11442756652832\n"
     ]
    },
    {
     "data": {
      "application/vnd.jupyter.widget-view+json": {
       "model_id": "cc55d62e5e9146a49cc96b7c933720e6",
       "version_major": 2,
       "version_minor": 0
      },
      "text/plain": [
       "  0%|          | 0/4 [00:00<?, ?it/s]"
      ]
     },
     "metadata": {},
     "output_type": "display_data"
    },
    {
     "name": "stdout",
     "output_type": "stream",
     "text": [
      "Epoch [229/300] | Loss D: 5.1383319821241e-10 | Loss G: 58.419151306152344\n",
      "Epoch 230 duration :   3.980473756790161\n"
     ]
    },
    {
     "data": {
      "application/vnd.jupyter.widget-view+json": {
       "model_id": "9beade701e4748d088212a9cc45bf553",
       "version_major": 2,
       "version_minor": 0
      },
      "text/plain": [
       "  0%|          | 0/4 [00:00<?, ?it/s]"
      ]
     },
     "metadata": {},
     "output_type": "display_data"
    },
    {
     "name": "stdout",
     "output_type": "stream",
     "text": [
      "Epoch [230/300] | Loss D: 5.053926925011155e-24 | Loss G: 58.419151306152344\n",
      "Epoch 231 duration :   3.968571186065674\n"
     ]
    },
    {
     "data": {
      "application/vnd.jupyter.widget-view+json": {
       "model_id": "5e61755df0a744ac9ea8b879c36b5257",
       "version_major": 2,
       "version_minor": 0
      },
      "text/plain": [
       "  0%|          | 0/4 [00:00<?, ?it/s]"
      ]
     },
     "metadata": {},
     "output_type": "display_data"
    },
    {
     "name": "stdout",
     "output_type": "stream",
     "text": [
      "Epoch [231/300] | Loss D: 1.0390375705757257e-23 | Loss G: 58.35569763183594\n",
      "Epoch 232 duration :   8.020187139511108\n"
     ]
    },
    {
     "data": {
      "application/vnd.jupyter.widget-view+json": {
       "model_id": "0babf1a13f7b46b89e5f510a5d7a2825",
       "version_major": 2,
       "version_minor": 0
      },
      "text/plain": [
       "  0%|          | 0/4 [00:00<?, ?it/s]"
      ]
     },
     "metadata": {},
     "output_type": "display_data"
    },
    {
     "name": "stdout",
     "output_type": "stream",
     "text": [
      "Epoch [232/300] | Loss D: 5.1383319821241e-10 | Loss G: 58.35569763183594\n",
      "Epoch 233 duration :   3.9555177688598633\n"
     ]
    },
    {
     "data": {
      "application/vnd.jupyter.widget-view+json": {
       "model_id": "f2a2fcf8fdc9490281514c45d1063483",
       "version_major": 2,
       "version_minor": 0
      },
      "text/plain": [
       "  0%|          | 0/4 [00:00<?, ?it/s]"
      ]
     },
     "metadata": {},
     "output_type": "display_data"
    },
    {
     "name": "stdout",
     "output_type": "stream",
     "text": [
      "Epoch [233/300] | Loss D: 2.05533279284964e-09 | Loss G: 58.35569763183594\n",
      "Epoch 234 duration :   3.9905993938446045\n"
     ]
    },
    {
     "data": {
      "application/vnd.jupyter.widget-view+json": {
       "model_id": "d73da0c549fb4a57acb3bf413fea691f",
       "version_major": 2,
       "version_minor": 0
      },
      "text/plain": [
       "  0%|          | 0/4 [00:00<?, ?it/s]"
      ]
     },
     "metadata": {},
     "output_type": "display_data"
    },
    {
     "name": "stdout",
     "output_type": "stream",
     "text": [
      "Epoch [234/300] | Loss D: 5.1383319821241e-10 | Loss G: 58.332130432128906\n",
      "Epoch 235 duration :   8.03621244430542\n"
     ]
    },
    {
     "data": {
      "application/vnd.jupyter.widget-view+json": {
       "model_id": "7c1f7b4a439d409b8b65efb87480a6da",
       "version_major": 2,
       "version_minor": 0
      },
      "text/plain": [
       "  0%|          | 0/4 [00:00<?, ?it/s]"
      ]
     },
     "metadata": {},
     "output_type": "display_data"
    },
    {
     "name": "stdout",
     "output_type": "stream",
     "text": [
      "Epoch [235/300] | Loss D: 3.082999411319065e-09 | Loss G: 58.332130432128906\n",
      "Epoch 236 duration :   3.915579080581665\n"
     ]
    },
    {
     "data": {
      "application/vnd.jupyter.widget-view+json": {
       "model_id": "6cb81eeb332448f9896fb1ea8fa26fe1",
       "version_major": 2,
       "version_minor": 0
      },
      "text/plain": [
       "  0%|          | 0/4 [00:00<?, ?it/s]"
      ]
     },
     "metadata": {},
     "output_type": "display_data"
    },
    {
     "name": "stdout",
     "output_type": "stream",
     "text": [
      "Epoch [236/300] | Loss D: 4.541588588340885e-24 | Loss G: 58.332130432128906\n",
      "Epoch 237 duration :   3.897830009460449\n"
     ]
    },
    {
     "data": {
      "application/vnd.jupyter.widget-view+json": {
       "model_id": "6cddb2e33e7c49629d0a17a9fe527767",
       "version_major": 2,
       "version_minor": 0
      },
      "text/plain": [
       "  0%|          | 0/4 [00:00<?, ?it/s]"
      ]
     },
     "metadata": {},
     "output_type": "display_data"
    },
    {
     "name": "stdout",
     "output_type": "stream",
     "text": [
      "Epoch [237/300] | Loss D: 5.1383319821241e-10 | Loss G: 58.330177307128906\n",
      "Epoch 238 duration :   8.102069854736328\n"
     ]
    },
    {
     "data": {
      "application/vnd.jupyter.widget-view+json": {
       "model_id": "4ea86d5b15d04bdd901f7040316dac1c",
       "version_major": 2,
       "version_minor": 0
      },
      "text/plain": [
       "  0%|          | 0/4 [00:00<?, ?it/s]"
      ]
     },
     "metadata": {},
     "output_type": "display_data"
    },
    {
     "name": "stdout",
     "output_type": "stream",
     "text": [
      "Epoch [238/300] | Loss D: 1.02766639642482e-09 | Loss G: 58.330177307128906\n",
      "Epoch 239 duration :   3.9471068382263184\n"
     ]
    },
    {
     "data": {
      "application/vnd.jupyter.widget-view+json": {
       "model_id": "ba1f539662a14dfda2b6e571c48f0e16",
       "version_major": 2,
       "version_minor": 0
      },
      "text/plain": [
       "  0%|          | 0/4 [00:00<?, ?it/s]"
      ]
     },
     "metadata": {},
     "output_type": "display_data"
    },
    {
     "name": "stdout",
     "output_type": "stream",
     "text": [
      "Epoch [239/300] | Loss D: 1.02766639642482e-09 | Loss G: 58.330177307128906\n",
      "Epoch 240 duration :   3.863342046737671\n"
     ]
    },
    {
     "data": {
      "application/vnd.jupyter.widget-view+json": {
       "model_id": "db3248072bf04e12b8b9a7e9ec91b2a3",
       "version_major": 2,
       "version_minor": 0
      },
      "text/plain": [
       "  0%|          | 0/4 [00:00<?, ?it/s]"
      ]
     },
     "metadata": {},
     "output_type": "display_data"
    },
    {
     "name": "stdout",
     "output_type": "stream",
     "text": [
      "Epoch [240/300] | Loss D: 2.05533279284964e-09 | Loss G: 58.48721694946289\n",
      "Epoch 241 duration :   21.33013105392456\n"
     ]
    },
    {
     "data": {
      "application/vnd.jupyter.widget-view+json": {
       "model_id": "a8b25d20292843a698206e146415bc1c",
       "version_major": 2,
       "version_minor": 0
      },
      "text/plain": [
       "  0%|          | 0/4 [00:00<?, ?it/s]"
      ]
     },
     "metadata": {},
     "output_type": "display_data"
    },
    {
     "name": "stdout",
     "output_type": "stream",
     "text": [
      "Epoch [241/300] | Loss D: 1.4699099260194594e-23 | Loss G: 58.48721694946289\n",
      "Epoch 242 duration :   4.285890340805054\n"
     ]
    },
    {
     "data": {
      "application/vnd.jupyter.widget-view+json": {
       "model_id": "993626e31c4540cea130e45541850b08",
       "version_major": 2,
       "version_minor": 0
      },
      "text/plain": [
       "  0%|          | 0/4 [00:00<?, ?it/s]"
      ]
     },
     "metadata": {},
     "output_type": "display_data"
    },
    {
     "name": "stdout",
     "output_type": "stream",
     "text": [
      "Epoch [242/300] | Loss D: 5.1383319821241e-10 | Loss G: 58.48721694946289\n",
      "Epoch 243 duration :   4.046005725860596\n"
     ]
    },
    {
     "data": {
      "application/vnd.jupyter.widget-view+json": {
       "model_id": "a057d29325ac4ca6b46c898a4d3605e8",
       "version_major": 2,
       "version_minor": 0
      },
      "text/plain": [
       "  0%|          | 0/4 [00:00<?, ?it/s]"
      ]
     },
     "metadata": {},
     "output_type": "display_data"
    },
    {
     "name": "stdout",
     "output_type": "stream",
     "text": [
      "Epoch [243/300] | Loss D: 2.05533279284964e-09 | Loss G: 58.7026252746582\n",
      "Epoch 244 duration :   8.573419094085693\n"
     ]
    },
    {
     "data": {
      "application/vnd.jupyter.widget-view+json": {
       "model_id": "3a08761c8b0646f5a7a950123fd42f46",
       "version_major": 2,
       "version_minor": 0
      },
      "text/plain": [
       "  0%|          | 0/4 [00:00<?, ?it/s]"
      ]
     },
     "metadata": {},
     "output_type": "display_data"
    },
    {
     "name": "stdout",
     "output_type": "stream",
     "text": [
      "Epoch [244/300] | Loss D: 1.02766639642482e-09 | Loss G: 58.7026252746582\n",
      "Epoch 245 duration :   4.117800235748291\n"
     ]
    },
    {
     "data": {
      "application/vnd.jupyter.widget-view+json": {
       "model_id": "4a5390ebdd504212856e01b5d4f0eb32",
       "version_major": 2,
       "version_minor": 0
      },
      "text/plain": [
       "  0%|          | 0/4 [00:00<?, ?it/s]"
      ]
     },
     "metadata": {},
     "output_type": "display_data"
    },
    {
     "name": "stdout",
     "output_type": "stream",
     "text": [
      "Epoch [245/300] | Loss D: 5.1383319821241e-10 | Loss G: 58.7026252746582\n",
      "Epoch 246 duration :   4.011109828948975\n"
     ]
    },
    {
     "data": {
      "application/vnd.jupyter.widget-view+json": {
       "model_id": "18f8d50e163f4a29bc8b117bb0817a74",
       "version_major": 2,
       "version_minor": 0
      },
      "text/plain": [
       "  0%|          | 0/4 [00:00<?, ?it/s]"
      ]
     },
     "metadata": {},
     "output_type": "display_data"
    },
    {
     "name": "stdout",
     "output_type": "stream",
     "text": [
      "Epoch [246/300] | Loss D: 1.02766639642482e-09 | Loss G: 58.50960922241211\n",
      "Epoch 247 duration :   7.4104578495025635\n"
     ]
    },
    {
     "data": {
      "application/vnd.jupyter.widget-view+json": {
       "model_id": "9f7cccf6d767400794d78ca0ccb76a0a",
       "version_major": 2,
       "version_minor": 0
      },
      "text/plain": [
       "  0%|          | 0/4 [00:00<?, ?it/s]"
      ]
     },
     "metadata": {},
     "output_type": "display_data"
    },
    {
     "name": "stdout",
     "output_type": "stream",
     "text": [
      "Epoch [247/300] | Loss D: 1.02766639642482e-09 | Loss G: 58.50960922241211\n",
      "Epoch 248 duration :   3.6552536487579346\n"
     ]
    },
    {
     "data": {
      "application/vnd.jupyter.widget-view+json": {
       "model_id": "ed9c6aef6a0a4d7b93597c703b22fefb",
       "version_major": 2,
       "version_minor": 0
      },
      "text/plain": [
       "  0%|          | 0/4 [00:00<?, ?it/s]"
      ]
     },
     "metadata": {},
     "output_type": "display_data"
    },
    {
     "name": "stdout",
     "output_type": "stream",
     "text": [
      "Epoch [248/300] | Loss D: 2.05533279284964e-09 | Loss G: 58.50960922241211\n",
      "Epoch 249 duration :   3.8367488384246826\n"
     ]
    },
    {
     "data": {
      "application/vnd.jupyter.widget-view+json": {
       "model_id": "f6487c839a4444e0b599881f9b561e50",
       "version_major": 2,
       "version_minor": 0
      },
      "text/plain": [
       "  0%|          | 0/4 [00:00<?, ?it/s]"
      ]
     },
     "metadata": {},
     "output_type": "display_data"
    },
    {
     "name": "stdout",
     "output_type": "stream",
     "text": [
      "Epoch [249/300] | Loss D: 3.510790354375831e-24 | Loss G: 58.39163589477539\n",
      "Epoch 250 duration :   8.179238080978394\n"
     ]
    },
    {
     "data": {
      "application/vnd.jupyter.widget-view+json": {
       "model_id": "b85003b48fa246a385bb46cb50933e10",
       "version_major": 2,
       "version_minor": 0
      },
      "text/plain": [
       "  0%|          | 0/4 [00:00<?, ?it/s]"
      ]
     },
     "metadata": {},
     "output_type": "display_data"
    },
    {
     "name": "stdout",
     "output_type": "stream",
     "text": [
      "Epoch [250/300] | Loss D: 3.59683327566529e-09 | Loss G: 58.39163589477539\n",
      "Epoch 251 duration :   4.036142349243164\n"
     ]
    },
    {
     "data": {
      "application/vnd.jupyter.widget-view+json": {
       "model_id": "0c39437f62af4bf1966576ff4777ec7d",
       "version_major": 2,
       "version_minor": 0
      },
      "text/plain": [
       "  0%|          | 0/4 [00:00<?, ?it/s]"
      ]
     },
     "metadata": {},
     "output_type": "display_data"
    },
    {
     "name": "stdout",
     "output_type": "stream",
     "text": [
      "Epoch [251/300] | Loss D: 8.735171697082933e-09 | Loss G: 58.39163589477539\n",
      "Epoch 252 duration :   3.9516971111297607\n"
     ]
    },
    {
     "data": {
      "application/vnd.jupyter.widget-view+json": {
       "model_id": "57255945a7374bca9b4d3f269e9d4350",
       "version_major": 2,
       "version_minor": 0
      },
      "text/plain": [
       "  0%|          | 0/4 [00:00<?, ?it/s]"
      ]
     },
     "metadata": {},
     "output_type": "display_data"
    },
    {
     "name": "stdout",
     "output_type": "stream",
     "text": [
      "Epoch [252/300] | Loss D: 5.1383319821241e-10 | Loss G: 58.722286224365234\n",
      "Epoch 253 duration :   8.391952276229858\n"
     ]
    },
    {
     "data": {
      "application/vnd.jupyter.widget-view+json": {
       "model_id": "95709d57ff3d42acae470bce6f011dda",
       "version_major": 2,
       "version_minor": 0
      },
      "text/plain": [
       "  0%|          | 0/4 [00:00<?, ?it/s]"
      ]
     },
     "metadata": {},
     "output_type": "display_data"
    },
    {
     "name": "stdout",
     "output_type": "stream",
     "text": [
      "Epoch [253/300] | Loss D: 1.5414997056595325e-09 | Loss G: 58.722286224365234\n",
      "Epoch 254 duration :   4.0359930992126465\n"
     ]
    },
    {
     "data": {
      "application/vnd.jupyter.widget-view+json": {
       "model_id": "b011d68204ac4179a122b8813da829c7",
       "version_major": 2,
       "version_minor": 0
      },
      "text/plain": [
       "  0%|          | 0/4 [00:00<?, ?it/s]"
      ]
     },
     "metadata": {},
     "output_type": "display_data"
    },
    {
     "name": "stdout",
     "output_type": "stream",
     "text": [
      "Epoch [254/300] | Loss D: 5.1383319821241e-10 | Loss G: 58.722286224365234\n",
      "Epoch 255 duration :   5.247745513916016\n"
     ]
    },
    {
     "data": {
      "application/vnd.jupyter.widget-view+json": {
       "model_id": "4900f51c871742d0aa64dc20cce94d13",
       "version_major": 2,
       "version_minor": 0
      },
      "text/plain": [
       "  0%|          | 0/4 [00:00<?, ?it/s]"
      ]
     },
     "metadata": {},
     "output_type": "display_data"
    },
    {
     "name": "stdout",
     "output_type": "stream",
     "text": [
      "Epoch [255/300] | Loss D: 3.409900172193947e-24 | Loss G: 58.41056823730469\n",
      "Epoch 256 duration :   8.204336404800415\n"
     ]
    },
    {
     "data": {
      "application/vnd.jupyter.widget-view+json": {
       "model_id": "efec4c04ad8d45849b55a60da5373764",
       "version_major": 2,
       "version_minor": 0
      },
      "text/plain": [
       "  0%|          | 0/4 [00:00<?, ?it/s]"
      ]
     },
     "metadata": {},
     "output_type": "display_data"
    },
    {
     "name": "stdout",
     "output_type": "stream",
     "text": [
      "Epoch [256/300] | Loss D: 5.1383319821241e-10 | Loss G: 58.41056823730469\n",
      "Epoch 257 duration :   4.052354097366333\n"
     ]
    },
    {
     "data": {
      "application/vnd.jupyter.widget-view+json": {
       "model_id": "7f8518d94f8e404ebc39558a5d23d418",
       "version_major": 2,
       "version_minor": 0
      },
      "text/plain": [
       "  0%|          | 0/4 [00:00<?, ?it/s]"
      ]
     },
     "metadata": {},
     "output_type": "display_data"
    },
    {
     "name": "stdout",
     "output_type": "stream",
     "text": [
      "Epoch [257/300] | Loss D: 8.505960552583409e-24 | Loss G: 58.41056823730469\n",
      "Epoch 258 duration :   3.9751033782958984\n"
     ]
    },
    {
     "data": {
      "application/vnd.jupyter.widget-view+json": {
       "model_id": "57ffde7c200b408a941d6cb04c8cdab2",
       "version_major": 2,
       "version_minor": 0
      },
      "text/plain": [
       "  0%|          | 0/4 [00:00<?, ?it/s]"
      ]
     },
     "metadata": {},
     "output_type": "display_data"
    },
    {
     "name": "stdout",
     "output_type": "stream",
     "text": [
      "Epoch [258/300] | Loss D: 1.02766639642482e-09 | Loss G: 58.75149154663086\n",
      "Epoch 259 duration :   8.268887281417847\n"
     ]
    },
    {
     "data": {
      "application/vnd.jupyter.widget-view+json": {
       "model_id": "df8f5668140343f58f16555fdbb86018",
       "version_major": 2,
       "version_minor": 0
      },
      "text/plain": [
       "  0%|          | 0/4 [00:00<?, ?it/s]"
      ]
     },
     "metadata": {},
     "output_type": "display_data"
    },
    {
     "name": "stdout",
     "output_type": "stream",
     "text": [
      "Epoch [259/300] | Loss D: 3.08300007745288e-09 | Loss G: 58.75149154663086\n",
      "Epoch 260 duration :   4.03034234046936\n"
     ]
    },
    {
     "data": {
      "application/vnd.jupyter.widget-view+json": {
       "model_id": "5d06401388e34f79ab22c7b9bf410013",
       "version_major": 2,
       "version_minor": 0
      },
      "text/plain": [
       "  0%|          | 0/4 [00:00<?, ?it/s]"
      ]
     },
     "metadata": {},
     "output_type": "display_data"
    },
    {
     "name": "stdout",
     "output_type": "stream",
     "text": [
      "Epoch [260/300] | Loss D: 5.630523504438012e-24 | Loss G: 58.75149154663086\n",
      "Epoch 261 duration :   3.9632136821746826\n"
     ]
    },
    {
     "data": {
      "application/vnd.jupyter.widget-view+json": {
       "model_id": "4d29fa9fee9a4d8da39055c347e33b51",
       "version_major": 2,
       "version_minor": 0
      },
      "text/plain": [
       "  0%|          | 0/4 [00:00<?, ?it/s]"
      ]
     },
     "metadata": {},
     "output_type": "display_data"
    },
    {
     "name": "stdout",
     "output_type": "stream",
     "text": [
      "Epoch [261/300] | Loss D: 6.37690227776061e-23 | Loss G: 58.41242218017578\n",
      "Epoch 262 duration :   8.211137056350708\n"
     ]
    },
    {
     "data": {
      "application/vnd.jupyter.widget-view+json": {
       "model_id": "f5053f92193a445eb96e42184f8e8c40",
       "version_major": 2,
       "version_minor": 0
      },
      "text/plain": [
       "  0%|          | 0/4 [00:00<?, ?it/s]"
      ]
     },
     "metadata": {},
     "output_type": "display_data"
    },
    {
     "name": "stdout",
     "output_type": "stream",
     "text": [
      "Epoch [262/300] | Loss D: 1.5414997056595325e-09 | Loss G: 58.41242218017578\n",
      "Epoch 263 duration :   3.980220317840576\n"
     ]
    },
    {
     "data": {
      "application/vnd.jupyter.widget-view+json": {
       "model_id": "678a637fbafc4efaacbe1302ebcea746",
       "version_major": 2,
       "version_minor": 0
      },
      "text/plain": [
       "  0%|          | 0/4 [00:00<?, ?it/s]"
      ]
     },
     "metadata": {},
     "output_type": "display_data"
    },
    {
     "name": "stdout",
     "output_type": "stream",
     "text": [
      "Epoch [263/300] | Loss D: 3.59683327566529e-09 | Loss G: 58.41242218017578\n",
      "Epoch 264 duration :   4.023892164230347\n"
     ]
    },
    {
     "data": {
      "application/vnd.jupyter.widget-view+json": {
       "model_id": "2814d40df5b8426ebb5bd1e2c046d56c",
       "version_major": 2,
       "version_minor": 0
      },
      "text/plain": [
       "  0%|          | 0/4 [00:00<?, ?it/s]"
      ]
     },
     "metadata": {},
     "output_type": "display_data"
    },
    {
     "name": "stdout",
     "output_type": "stream",
     "text": [
      "Epoch [264/300] | Loss D: 2.466405923939874e-08 | Loss G: 58.39917755126953\n",
      "Epoch 265 duration :   8.193806171417236\n"
     ]
    },
    {
     "data": {
      "application/vnd.jupyter.widget-view+json": {
       "model_id": "07e804e4d79041df900773cefea18213",
       "version_major": 2,
       "version_minor": 0
      },
      "text/plain": [
       "  0%|          | 0/4 [00:00<?, ?it/s]"
      ]
     },
     "metadata": {},
     "output_type": "display_data"
    },
    {
     "name": "stdout",
     "output_type": "stream",
     "text": [
      "Epoch [265/300] | Loss D: 2.5887134825709698e-23 | Loss G: 58.39917755126953\n",
      "Epoch 266 duration :   3.89587140083313\n"
     ]
    },
    {
     "data": {
      "application/vnd.jupyter.widget-view+json": {
       "model_id": "e328981d2f5d46c0ac4487d5dd47acfc",
       "version_major": 2,
       "version_minor": 0
      },
      "text/plain": [
       "  0%|          | 0/4 [00:00<?, ?it/s]"
      ]
     },
     "metadata": {},
     "output_type": "display_data"
    },
    {
     "name": "stdout",
     "output_type": "stream",
     "text": [
      "Epoch [266/300] | Loss D: 1.02766639642482e-09 | Loss G: 58.39917755126953\n",
      "Epoch 267 duration :   3.813363790512085\n"
     ]
    },
    {
     "data": {
      "application/vnd.jupyter.widget-view+json": {
       "model_id": "748cbdef5737400a969be68f9fec7f97",
       "version_major": 2,
       "version_minor": 0
      },
      "text/plain": [
       "  0%|          | 0/4 [00:00<?, ?it/s]"
      ]
     },
     "metadata": {},
     "output_type": "display_data"
    },
    {
     "name": "stdout",
     "output_type": "stream",
     "text": [
      "Epoch [267/300] | Loss D: 1.2444750152100068e-23 | Loss G: 58.740135192871094\n",
      "Epoch 268 duration :   7.9043707847595215\n"
     ]
    },
    {
     "data": {
      "application/vnd.jupyter.widget-view+json": {
       "model_id": "e0453cd9139f421c8a42c9edaee6462a",
       "version_major": 2,
       "version_minor": 0
      },
      "text/plain": [
       "  0%|          | 0/4 [00:00<?, ?it/s]"
      ]
     },
     "metadata": {},
     "output_type": "display_data"
    },
    {
     "name": "stdout",
     "output_type": "stream",
     "text": [
      "Epoch [268/300] | Loss D: 5.1383319821241e-10 | Loss G: 58.740135192871094\n",
      "Epoch 269 duration :   3.8719611167907715\n"
     ]
    },
    {
     "data": {
      "application/vnd.jupyter.widget-view+json": {
       "model_id": "fa67e00cc1034f279b823ecb50e0cd7f",
       "version_major": 2,
       "version_minor": 0
      },
      "text/plain": [
       "  0%|          | 0/4 [00:00<?, ?it/s]"
      ]
     },
     "metadata": {},
     "output_type": "display_data"
    },
    {
     "name": "stdout",
     "output_type": "stream",
     "text": [
      "Epoch [269/300] | Loss D: 1.5414997056595325e-09 | Loss G: 58.740135192871094\n",
      "Epoch 270 duration :   3.9515368938446045\n"
     ]
    },
    {
     "data": {
      "application/vnd.jupyter.widget-view+json": {
       "model_id": "5636d038628b4adc873ec5b9b0acb906",
       "version_major": 2,
       "version_minor": 0
      },
      "text/plain": [
       "  0%|          | 0/4 [00:00<?, ?it/s]"
      ]
     },
     "metadata": {},
     "output_type": "display_data"
    },
    {
     "name": "stdout",
     "output_type": "stream",
     "text": [
      "Epoch [270/300] | Loss D: 1.241493830963086e-23 | Loss G: 58.61520004272461\n",
      "Epoch 271 duration :   22.971736907958984\n"
     ]
    },
    {
     "data": {
      "application/vnd.jupyter.widget-view+json": {
       "model_id": "cbd2d1e099024e6ca14f8cbc624d9509",
       "version_major": 2,
       "version_minor": 0
      },
      "text/plain": [
       "  0%|          | 0/4 [00:00<?, ?it/s]"
      ]
     },
     "metadata": {},
     "output_type": "display_data"
    },
    {
     "name": "stdout",
     "output_type": "stream",
     "text": [
      "Epoch [271/300] | Loss D: 1.5414997056595325e-09 | Loss G: 58.61520004272461\n",
      "Epoch 272 duration :   4.671112775802612\n"
     ]
    },
    {
     "data": {
      "application/vnd.jupyter.widget-view+json": {
       "model_id": "cb53f485afa9495daddc20d775ffc042",
       "version_major": 2,
       "version_minor": 0
      },
      "text/plain": [
       "  0%|          | 0/4 [00:00<?, ?it/s]"
      ]
     },
     "metadata": {},
     "output_type": "display_data"
    },
    {
     "name": "stdout",
     "output_type": "stream",
     "text": [
      "Epoch [272/300] | Loss D: 1.5414997056595325e-09 | Loss G: 58.61520004272461\n",
      "Epoch 273 duration :   4.0253612995147705\n"
     ]
    },
    {
     "data": {
      "application/vnd.jupyter.widget-view+json": {
       "model_id": "33a3947df02d40b2877c06c3a2b5c4c9",
       "version_major": 2,
       "version_minor": 0
      },
      "text/plain": [
       "  0%|          | 0/4 [00:00<?, ?it/s]"
      ]
     },
     "metadata": {},
     "output_type": "display_data"
    },
    {
     "name": "stdout",
     "output_type": "stream",
     "text": [
      "Epoch [273/300] | Loss D: 4.0732911727177467e-23 | Loss G: 58.608985900878906\n",
      "Epoch 274 duration :   8.446448564529419\n"
     ]
    },
    {
     "data": {
      "application/vnd.jupyter.widget-view+json": {
       "model_id": "d07b81f1dac84131801ac274ff8f08df",
       "version_major": 2,
       "version_minor": 0
      },
      "text/plain": [
       "  0%|          | 0/4 [00:00<?, ?it/s]"
      ]
     },
     "metadata": {},
     "output_type": "display_data"
    },
    {
     "name": "stdout",
     "output_type": "stream",
     "text": [
      "Epoch [274/300] | Loss D: 7.193669215865839e-09 | Loss G: 58.608985900878906\n",
      "Epoch 275 duration :   4.033101558685303\n"
     ]
    },
    {
     "data": {
      "application/vnd.jupyter.widget-view+json": {
       "model_id": "6298af40335b4b6ea4d5a16d0342ff43",
       "version_major": 2,
       "version_minor": 0
      },
      "text/plain": [
       "  0%|          | 0/4 [00:00<?, ?it/s]"
      ]
     },
     "metadata": {},
     "output_type": "display_data"
    },
    {
     "name": "stdout",
     "output_type": "stream",
     "text": [
      "Epoch [275/300] | Loss D: 4.720003287122458e-24 | Loss G: 58.608985900878906\n",
      "Epoch 276 duration :   4.043546676635742\n"
     ]
    },
    {
     "data": {
      "application/vnd.jupyter.widget-view+json": {
       "model_id": "a9ecc03053b741219e748e20e8b6f281",
       "version_major": 2,
       "version_minor": 0
      },
      "text/plain": [
       "  0%|          | 0/4 [00:00<?, ?it/s]"
      ]
     },
     "metadata": {},
     "output_type": "display_data"
    },
    {
     "name": "stdout",
     "output_type": "stream",
     "text": [
      "Epoch [276/300] | Loss D: 1.02766639642482e-09 | Loss G: 58.62834930419922\n",
      "Epoch 277 duration :   8.283335208892822\n"
     ]
    },
    {
     "data": {
      "application/vnd.jupyter.widget-view+json": {
       "model_id": "5ba5878c4c1a4737ba6b4cacc19b07c6",
       "version_major": 2,
       "version_minor": 0
      },
      "text/plain": [
       "  0%|          | 0/4 [00:00<?, ?it/s]"
      ]
     },
     "metadata": {},
     "output_type": "display_data"
    },
    {
     "name": "stdout",
     "output_type": "stream",
     "text": [
      "Epoch [277/300] | Loss D: 5.1383319821241e-10 | Loss G: 58.62834930419922\n",
      "Epoch 278 duration :   3.8905506134033203\n"
     ]
    },
    {
     "data": {
      "application/vnd.jupyter.widget-view+json": {
       "model_id": "08534f1b7ae94cf2abd5a7a8243d59df",
       "version_major": 2,
       "version_minor": 0
      },
      "text/plain": [
       "  0%|          | 0/4 [00:00<?, ?it/s]"
      ]
     },
     "metadata": {},
     "output_type": "display_data"
    },
    {
     "name": "stdout",
     "output_type": "stream",
     "text": [
      "Epoch [278/300] | Loss D: 5.1383319821241e-10 | Loss G: 58.62834930419922\n",
      "Epoch 279 duration :   3.4679131507873535\n"
     ]
    },
    {
     "data": {
      "application/vnd.jupyter.widget-view+json": {
       "model_id": "5357bb756aeb4adcb82675637c2ba3f6",
       "version_major": 2,
       "version_minor": 0
      },
      "text/plain": [
       "  0%|          | 0/4 [00:00<?, ?it/s]"
      ]
     },
     "metadata": {},
     "output_type": "display_data"
    },
    {
     "name": "stdout",
     "output_type": "stream",
     "text": [
      "Epoch [279/300] | Loss D: 7.736451983089279e-24 | Loss G: 58.536712646484375\n",
      "Epoch 280 duration :   7.825981616973877\n"
     ]
    },
    {
     "data": {
      "application/vnd.jupyter.widget-view+json": {
       "model_id": "6da56bdbde2f417d900a02965763e37a",
       "version_major": 2,
       "version_minor": 0
      },
      "text/plain": [
       "  0%|          | 0/4 [00:00<?, ?it/s]"
      ]
     },
     "metadata": {},
     "output_type": "display_data"
    },
    {
     "name": "stdout",
     "output_type": "stream",
     "text": [
      "Epoch [280/300] | Loss D: 5.1383319821241e-10 | Loss G: 58.536712646484375\n",
      "Epoch 281 duration :   3.9607861042022705\n"
     ]
    },
    {
     "data": {
      "application/vnd.jupyter.widget-view+json": {
       "model_id": "aa67ffbad3ee48718316177a921fef75",
       "version_major": 2,
       "version_minor": 0
      },
      "text/plain": [
       "  0%|          | 0/4 [00:00<?, ?it/s]"
      ]
     },
     "metadata": {},
     "output_type": "display_data"
    },
    {
     "name": "stdout",
     "output_type": "stream",
     "text": [
      "Epoch [281/300] | Loss D: 6.339955819492402e-23 | Loss G: 58.536712646484375\n",
      "Epoch 282 duration :   3.932617664337158\n"
     ]
    },
    {
     "data": {
      "application/vnd.jupyter.widget-view+json": {
       "model_id": "7e43fc53390a4792aaa5de08935dea97",
       "version_major": 2,
       "version_minor": 0
      },
      "text/plain": [
       "  0%|          | 0/4 [00:00<?, ?it/s]"
      ]
     },
     "metadata": {},
     "output_type": "display_data"
    },
    {
     "name": "stdout",
     "output_type": "stream",
     "text": [
      "Epoch [282/300] | Loss D: 5.1383319821241e-10 | Loss G: 58.69699478149414\n",
      "Epoch 283 duration :   8.3247971534729\n"
     ]
    },
    {
     "data": {
      "application/vnd.jupyter.widget-view+json": {
       "model_id": "081460ec83924416984b575fd059a649",
       "version_major": 2,
       "version_minor": 0
      },
      "text/plain": [
       "  0%|          | 0/4 [00:00<?, ?it/s]"
      ]
     },
     "metadata": {},
     "output_type": "display_data"
    },
    {
     "name": "stdout",
     "output_type": "stream",
     "text": [
      "Epoch [283/300] | Loss D: 5.1383319821241e-10 | Loss G: 58.69699478149414\n",
      "Epoch 284 duration :   3.962157726287842\n"
     ]
    },
    {
     "data": {
      "application/vnd.jupyter.widget-view+json": {
       "model_id": "431094f069134dfe99d06cffcc8dd2aa",
       "version_major": 2,
       "version_minor": 0
      },
      "text/plain": [
       "  0%|          | 0/4 [00:00<?, ?it/s]"
      ]
     },
     "metadata": {},
     "output_type": "display_data"
    },
    {
     "name": "stdout",
     "output_type": "stream",
     "text": [
      "Epoch [284/300] | Loss D: 1.5414997056595325e-09 | Loss G: 58.69699478149414\n",
      "Epoch 285 duration :   4.0296735763549805\n"
     ]
    },
    {
     "data": {
      "application/vnd.jupyter.widget-view+json": {
       "model_id": "2b572d16b0ed4e35a0f3d58fb7f251f7",
       "version_major": 2,
       "version_minor": 0
      },
      "text/plain": [
       "  0%|          | 0/4 [00:00<?, ?it/s]"
      ]
     },
     "metadata": {},
     "output_type": "display_data"
    },
    {
     "name": "stdout",
     "output_type": "stream",
     "text": [
      "Epoch [285/300] | Loss D: 1.02766639642482e-09 | Loss G: 58.34415817260742\n",
      "Epoch 286 duration :   8.24833607673645\n"
     ]
    },
    {
     "data": {
      "application/vnd.jupyter.widget-view+json": {
       "model_id": "48ceb98d5eba463b8cc996e5354678b9",
       "version_major": 2,
       "version_minor": 0
      },
      "text/plain": [
       "  0%|          | 0/4 [00:00<?, ?it/s]"
      ]
     },
     "metadata": {},
     "output_type": "display_data"
    },
    {
     "name": "stdout",
     "output_type": "stream",
     "text": [
      "Epoch [286/300] | Loss D: 4.246218002839969e-23 | Loss G: 58.34415817260742\n",
      "Epoch 287 duration :   3.9289605617523193\n"
     ]
    },
    {
     "data": {
      "application/vnd.jupyter.widget-view+json": {
       "model_id": "c1a4c82d81774a21b50dada1963e8f27",
       "version_major": 2,
       "version_minor": 0
      },
      "text/plain": [
       "  0%|          | 0/4 [00:00<?, ?it/s]"
      ]
     },
     "metadata": {},
     "output_type": "display_data"
    },
    {
     "name": "stdout",
     "output_type": "stream",
     "text": [
      "Epoch [287/300] | Loss D: 3.108848131567539e-23 | Loss G: 58.34415817260742\n",
      "Epoch 288 duration :   3.965297222137451\n"
     ]
    },
    {
     "data": {
      "application/vnd.jupyter.widget-view+json": {
       "model_id": "64e7697f7a984500b34c3235fec3a00c",
       "version_major": 2,
       "version_minor": 0
      },
      "text/plain": [
       "  0%|          | 0/4 [00:00<?, ?it/s]"
      ]
     },
     "metadata": {},
     "output_type": "display_data"
    },
    {
     "name": "stdout",
     "output_type": "stream",
     "text": [
      "Epoch [288/300] | Loss D: 1.02766639642482e-09 | Loss G: 58.54612731933594\n",
      "Epoch 289 duration :   8.061897277832031\n"
     ]
    },
    {
     "data": {
      "application/vnd.jupyter.widget-view+json": {
       "model_id": "028ca79262784739bcd34363737b24fd",
       "version_major": 2,
       "version_minor": 0
      },
      "text/plain": [
       "  0%|          | 0/4 [00:00<?, ?it/s]"
      ]
     },
     "metadata": {},
     "output_type": "display_data"
    },
    {
     "name": "stdout",
     "output_type": "stream",
     "text": [
      "Epoch [289/300] | Loss D: 9.762836761240123e-09 | Loss G: 58.54612731933594\n",
      "Epoch 290 duration :   3.8962206840515137\n"
     ]
    },
    {
     "data": {
      "application/vnd.jupyter.widget-view+json": {
       "model_id": "6dca1c0565d74e60a2456d70babe1d1c",
       "version_major": 2,
       "version_minor": 0
      },
      "text/plain": [
       "  0%|          | 0/4 [00:00<?, ?it/s]"
      ]
     },
     "metadata": {},
     "output_type": "display_data"
    },
    {
     "name": "stdout",
     "output_type": "stream",
     "text": [
      "Epoch [290/300] | Loss D: 2.1310000559410007e-24 | Loss G: 58.54612731933594\n",
      "Epoch 291 duration :   3.971424102783203\n"
     ]
    },
    {
     "data": {
      "application/vnd.jupyter.widget-view+json": {
       "model_id": "9a64a9e3858949e794790b94c61bc785",
       "version_major": 2,
       "version_minor": 0
      },
      "text/plain": [
       "  0%|          | 0/4 [00:00<?, ?it/s]"
      ]
     },
     "metadata": {},
     "output_type": "display_data"
    },
    {
     "name": "stdout",
     "output_type": "stream",
     "text": [
      "Epoch [291/300] | Loss D: 5.1383319821241e-10 | Loss G: 58.52153778076172\n",
      "Epoch 292 duration :   8.045233964920044\n"
     ]
    },
    {
     "data": {
      "application/vnd.jupyter.widget-view+json": {
       "model_id": "b9a7cb918eac46e2934da7defd6709b7",
       "version_major": 2,
       "version_minor": 0
      },
      "text/plain": [
       "  0%|          | 0/4 [00:00<?, ?it/s]"
      ]
     },
     "metadata": {},
     "output_type": "display_data"
    },
    {
     "name": "stdout",
     "output_type": "stream",
     "text": [
      "Epoch [292/300] | Loss D: 6.0664429130672595e-24 | Loss G: 58.52153778076172\n",
      "Epoch 293 duration :   3.6697864532470703\n"
     ]
    },
    {
     "data": {
      "application/vnd.jupyter.widget-view+json": {
       "model_id": "f6d6d273dd704079a70f610bcaf78dda",
       "version_major": 2,
       "version_minor": 0
      },
      "text/plain": [
       "  0%|          | 0/4 [00:00<?, ?it/s]"
      ]
     },
     "metadata": {},
     "output_type": "display_data"
    },
    {
     "name": "stdout",
     "output_type": "stream",
     "text": [
      "Epoch [293/300] | Loss D: 5.1383319821241e-10 | Loss G: 58.52153778076172\n",
      "Epoch 294 duration :   3.3392324447631836\n"
     ]
    },
    {
     "data": {
      "application/vnd.jupyter.widget-view+json": {
       "model_id": "10cd03584a7e42ed8c9d51322007910b",
       "version_major": 2,
       "version_minor": 0
      },
      "text/plain": [
       "  0%|          | 0/4 [00:00<?, ?it/s]"
      ]
     },
     "metadata": {},
     "output_type": "display_data"
    },
    {
     "name": "stdout",
     "output_type": "stream",
     "text": [
      "Epoch [294/300] | Loss D: 7.832476076777307e-24 | Loss G: 58.88301467895508\n",
      "Epoch 295 duration :   6.94047474861145\n"
     ]
    },
    {
     "data": {
      "application/vnd.jupyter.widget-view+json": {
       "model_id": "8e4b7c55f54e49528bc98a1c8300a069",
       "version_major": 2,
       "version_minor": 0
      },
      "text/plain": [
       "  0%|          | 0/4 [00:00<?, ?it/s]"
      ]
     },
     "metadata": {},
     "output_type": "display_data"
    },
    {
     "name": "stdout",
     "output_type": "stream",
     "text": [
      "Epoch [295/300] | Loss D: 9.001481163615272e-24 | Loss G: 58.88301467895508\n",
      "Epoch 296 duration :   3.4599616527557373\n"
     ]
    },
    {
     "data": {
      "application/vnd.jupyter.widget-view+json": {
       "model_id": "c32cd95e66a44c20ab2c46d6b48a0201",
       "version_major": 2,
       "version_minor": 0
      },
      "text/plain": [
       "  0%|          | 0/4 [00:00<?, ?it/s]"
      ]
     },
     "metadata": {},
     "output_type": "display_data"
    },
    {
     "name": "stdout",
     "output_type": "stream",
     "text": [
      "Epoch [296/300] | Loss D: 7.126395079506567e-24 | Loss G: 58.88301467895508\n",
      "Epoch 297 duration :   3.502262830734253\n"
     ]
    },
    {
     "data": {
      "application/vnd.jupyter.widget-view+json": {
       "model_id": "c4734bbc5dc747d59beff90352c71410",
       "version_major": 2,
       "version_minor": 0
      },
      "text/plain": [
       "  0%|          | 0/4 [00:00<?, ?it/s]"
      ]
     },
     "metadata": {},
     "output_type": "display_data"
    },
    {
     "name": "stdout",
     "output_type": "stream",
     "text": [
      "Epoch [297/300] | Loss D: 2.5020160913653702e-23 | Loss G: 58.8555908203125\n",
      "Epoch 298 duration :   7.5806190967559814\n"
     ]
    },
    {
     "data": {
      "application/vnd.jupyter.widget-view+json": {
       "model_id": "cbd4213f0ae44a409030b9e4eae3961c",
       "version_major": 2,
       "version_minor": 0
      },
      "text/plain": [
       "  0%|          | 0/4 [00:00<?, ?it/s]"
      ]
     },
     "metadata": {},
     "output_type": "display_data"
    },
    {
     "name": "stdout",
     "output_type": "stream",
     "text": [
      "Epoch [298/300] | Loss D: 1.5447718792918472e-23 | Loss G: 58.8555908203125\n",
      "Epoch 299 duration :   3.948927640914917\n"
     ]
    },
    {
     "data": {
      "application/vnd.jupyter.widget-view+json": {
       "model_id": "57af689944684d8b8362256d9bab029c",
       "version_major": 2,
       "version_minor": 0
      },
      "text/plain": [
       "  0%|          | 0/4 [00:00<?, ?it/s]"
      ]
     },
     "metadata": {},
     "output_type": "display_data"
    },
    {
     "name": "stdout",
     "output_type": "stream",
     "text": [
      "Epoch [299/300] | Loss D: 1.02766639642482e-09 | Loss G: 58.8555908203125\n",
      "Epoch 300 duration :   3.9325191974639893\n"
     ]
    }
   ],
   "source": [
    "# Check if GPU is available and set the device\n",
    "device = torch.device('cuda' if torch.cuda.is_available() else 'cpu')\n",
    "\n",
    "# Define models and parameters \n",
    "generator = G.to(device)  # Move generator to GPU\n",
    "discriminator = D.to(device)  # Move discriminator to GPU\n",
    "epochs = 300\n",
    "epoch_eval = epochs // 10\n",
    "k = 3 # Steps to train generator\n",
    "epoch_print = 1 # Print performance\n",
    "latent_dim = 40\n",
    "\n",
    "# Loss function and optimizers\n",
    "criterion = torch.nn.BCELoss()\n",
    "optimizer_g = optim.Adam(generator.parameters(), lr=1e-4, betas=(0.99, 0.99))\n",
    "optimizer_d = optim.Adam(discriminator.parameters(), lr=5e-4, betas=(0.99, 0.99))\n",
    "\n",
    "\n",
    "fid = FrechetInceptionDistance(feature=192, reset_real_features=False, normalize=True)\n",
    "n_samples = 500\n",
    "N = len(images)\n",
    "indices = random.sample(range(N), n_samples)\n",
    "\n",
    "real_images_eval = torch.stack([images[idx] for idx in indices])\n",
    "fid.update(real_images_eval, real=True)\n",
    "\n",
    "FID_values = []\n",
    "D_loss = []\n",
    "G_loss =  []\n",
    "\n",
    "\n",
    "for epoch in tqdm(range(epochs)):\n",
    "    start_time = time.time()\n",
    "\n",
    "    for batch in tqdm(dataloader):\n",
    "\n",
    "        # Get real images\n",
    "        real_images = batch.to(device)  # Move batch to GPU\n",
    "        batch_size = real_images.size(0)\n",
    "        labels_real = torch.ones(batch_size, 1, device=device)  # Real labels on GPU\n",
    "\n",
    "        # Train discriminator with real images\n",
    "        discriminator.zero_grad()\n",
    "        output = discriminator(real_images)\n",
    "        loss_d_real = criterion(output, labels_real)\n",
    "\n",
    "        # Train discriminator with fake images\n",
    "        labels_fake = torch.zeros(batch_size, 1, device=device)  # Real labels on GPU\n",
    "        noise = torch.rand(batch_size, latent_dim, 1, 1, device=device) * 2 - 1\n",
    "\n",
    "         # Generate noise on GPU\n",
    "        fake_images = generator(noise)\n",
    "\n",
    "        output = discriminator(fake_images.detach())\n",
    "        loss_d_fake = criterion(output, labels_fake)\n",
    "        \n",
    "        loss_d = loss_d_fake + loss_d_real\n",
    "        loss_d.backward()\n",
    "        optimizer_d.step()\n",
    "\n",
    "        if epoch % k == 0:\n",
    "            # Train generator\n",
    "            labels_real_g = torch.ones(batch_size, 1, device=device)  # Real labels on GPU\n",
    "\n",
    "            generator.zero_grad()\n",
    "\n",
    "            output = discriminator(fake_images)\n",
    "            loss_g = criterion(output, labels_real_g)\n",
    "            loss_g.backward()\n",
    "\n",
    "            optimizer_g.step()\n",
    "    \n",
    "    if epoch % epoch_eval == 0:\n",
    "        # Eval mode\n",
    "        G_eval = generator.eval()\n",
    "\n",
    "        # Generating fake images\n",
    "        noise = torch.randn(n_samples, latent_dim, 1, 1, device=device)\n",
    "        fake_images_eval = G_eval(noise).to(torch.device('cpu'))\n",
    "\n",
    "        fid.update(fake_images_eval, real=False)\n",
    "        fid_value = fid.compute().item()\n",
    "        FID_values.append(fid_value)\n",
    "\n",
    "        # Storing loss values\n",
    "        D_loss.append(loss_d.item())\n",
    "        G_loss.append(loss_g.item())\n",
    "\n",
    "        # Train mode\n",
    "        generator.train()\n",
    "    \n",
    "    end_time = time.time()\n",
    "    if epoch % epoch_print == 0:\n",
    "\n",
    "        print(f'Epoch [{epoch}/{epochs}] | Loss D: {loss_d.item()} | Loss G: {loss_g.item()}')\n",
    "    else:\n",
    "    \n",
    "        print(f'Epoch [{epoch}/{epochs}] | Loss D: {loss_d.item()}')\n",
    "    \n",
    "    print(f'Epoch {epoch +1} duration :   {end_time - start_time}')\n"
   ]
  },
  {
   "cell_type": "markdown",
   "metadata": {},
   "source": [
    "<strong> Generating an element using the trained generator </strong>"
   ]
  },
  {
   "cell_type": "code",
   "execution_count": 11,
   "metadata": {},
   "outputs": [
    {
     "name": "stderr",
     "output_type": "stream",
     "text": [
      "Clipping input data to the valid range for imshow with RGB data ([0..1] for floats or [0..255] for integers).\n"
     ]
    },
    {
     "data": {
      "image/png": "[encoded data removed]",
      "text/plain": [
       "<Figure size 640x480 with 1 Axes>"
      ]
     },
     "metadata": {},
     "output_type": "display_data"
    }
   ],
   "source": [
    "G_eval = G.to(device=torch.device('cpu'))\n",
    "# Generate random noise\n",
    "noise = torch.randn(1, latent_dim, 1, 1)  # Batch of 16 noise vectors\n",
    "\n",
    "# Generate images\n",
    "fake_images = G(noise)\n",
    "\n",
    "# Denormalizing the image\n",
    "image_generated = fake_images.detach().numpy().reshape((3,16,16))*0.5 + 0.5\n",
    "\n",
    "# Plot the image\n",
    "plt.imshow(np.transpose(image_generated, (1, 2, 0)))  \n",
    "plt.axis('off')  # Hide axes\n",
    "plt.title('Sample a genrated image')\n",
    "plt.show()"
   ]
  },
  {
   "cell_type": "markdown",
   "metadata": {},
   "source": [
    "<strong> Plotting losses </strong>"
   ]
  },
  {
   "cell_type": "code",
   "execution_count": 13,
   "metadata": {},
   "outputs": [
    {
     "data": {
      "image/png": "[encoded data removed]",
      "text/plain": [
       "<Figure size 1000x600 with 1 Axes>"
      ]
     },
     "metadata": {},
     "output_type": "display_data"
    }
   ],
   "source": [
    "# Assuming G_loss and D_loss are defined\n",
    "n = len(G_loss)\n",
    "time_steps = [i for i in range(n)]\n",
    "\n",
    "plt.figure(figsize=(10, 6))\n",
    "\n",
    "# Plot Generator Loss\n",
    "plt.plot(time_steps, G_loss, label='Generator Loss', color='darkorange', linestyle='-', linewidth=2)\n",
    "\n",
    "# Plot Discriminator Loss\n",
    "plt.plot(time_steps, D_loss, label='Discriminator Loss', color='royalblue', linestyle='--', linewidth=2)\n",
    "\n",
    "# Add grid, labels, and title\n",
    "plt.grid(True, linestyle='--', alpha=0.6)\n",
    "plt.xlabel('Time Steps', fontsize=12)\n",
    "plt.ylabel('Loss', fontsize=12)\n",
    "plt.title('Loss Evolution of Generator and Discriminator', fontsize=14)\n",
    "\n",
    "# Adding legend\n",
    "plt.legend(loc='upper right', fontsize=11)\n",
    "\n",
    "# Adding annotations for minimum loss points (optional)\n",
    "min_G_loss = min(G_loss)\n",
    "min_G_loss_idx = G_loss.index(min_G_loss)\n",
    "plt.annotate(f'Min G_loss: {min_G_loss:.2f}', xy=(min_G_loss_idx, min_G_loss),\n",
    "             xytext=(min_G_loss_idx + n*0.1, min_G_loss + max(G_loss)*0.1),\n",
    "             arrowprops=dict(facecolor='black', arrowstyle='->'),\n",
    "             fontsize=10)\n",
    "\n",
    "min_D_loss = min(D_loss)\n",
    "min_D_loss_idx = D_loss.index(min_D_loss)\n",
    "plt.annotate(f'Min D_loss: {min_D_loss:.2f}', xy=(min_D_loss_idx, min_D_loss),\n",
    "             xytext=(min_D_loss_idx + n*0.1, min_D_loss + max(D_loss)*0.1),\n",
    "             arrowprops=dict(facecolor='black', arrowstyle='->'),\n",
    "             fontsize=10)\n",
    "\n",
    "# Show plot\n",
    "plt.show()"
   ]
  },
  {
   "cell_type": "markdown",
   "metadata": {},
   "source": [
    "<strong> Plotting FID (Fréchet Inception Distance) values </strong>"
   ]
  },
  {
   "cell_type": "code",
   "execution_count": 14,
   "metadata": {},
   "outputs": [
    {
     "data": {
      "text/plain": [
       "Text(0.5, 1.0, 'FID Evolution through training')"
      ]
     },
     "execution_count": 14,
     "metadata": {},
     "output_type": "execute_result"
    },
    {
     "data": {
      "image/png": "[encoded data removed]",
      "text/plain": [
       "<Figure size 1000x600 with 1 Axes>"
      ]
     },
     "metadata": {},
     "output_type": "display_data"
    }
   ],
   "source": [
    "n = len(FID_values)\n",
    "time_steps = [i for i in range(n)]\n",
    "\n",
    "plt.figure(figsize=(10, 6))\n",
    "\n",
    "# Plot FID values\n",
    "plt.plot(time_steps, FID_values, label='Generator FID', color='darkorange', linestyle='-', linewidth=2)\n",
    "\n",
    "\n",
    "# Add grid, labels, and title\n",
    "plt.grid(True, linestyle='--', alpha=0.6)\n",
    "plt.xlabel('Time Steps', fontsize=12)\n",
    "plt.ylabel('FID', fontsize=12)\n",
    "plt.title('FID Evolution through training', fontsize=14)"
   ]
  }
 ],
 "metadata": {
  "kernelspec": {
   "display_name": "pyt",
   "language": "python",
   "name": "python3"
  },
  "language_info": {
   "codemirror_mode": {
    "name": "ipython",
    "version": 3
   },
   "file_extension": ".py",
   "mimetype": "text/x-python",
   "name": "python",
   "nbconvert_exporter": "python",
   "pygments_lexer": "ipython3",
   "version": "3.10.13"
  }
 },
 "nbformat": 4,
 "nbformat_minor": 2
}
